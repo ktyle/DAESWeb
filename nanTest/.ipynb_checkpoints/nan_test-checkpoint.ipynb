{
 "cells": [
  {
   "cell_type": "markdown",
   "id": "60d625d9-6cdb-49e8-8a0c-7e34583aef0a",
   "metadata": {},
   "source": [
    "## Checks NDFD data for NaN values in data\n",
    "---"
   ]
  },
  {
   "cell_type": "code",
   "execution_count": null,
   "id": "70f28617-c6e8-4d7f-ab3f-9ab80c0984fe",
   "metadata": {
    "tags": []
   },
   "outputs": [],
   "source": [
    "import numpy as np\n",
    "from datetime import datetime, timedelta\n",
    "import xarray as xr\n",
    "import pandas as pd\n",
    "import matplotlib.pyplot as plt\n",
    "import cartopy.crs as ccrs\n",
    "import cartopy.feature as cfeature\n",
    "import metpy\n",
    "from pyproj import Proj"
   ]
  },
  {
   "cell_type": "markdown",
   "id": "2beb2c20-cc0e-4645-8540-164685f2fdb8",
   "metadata": {},
   "source": [
    "#### Get time rounded down to half hour"
   ]
  },
  {
   "cell_type": "code",
   "execution_count": null,
   "id": "af0848df-56d1-4a3d-a7e3-14c29b12a7d6",
   "metadata": {
    "tags": []
   },
   "outputs": [],
   "source": [
    "def rounded_to_the_last_30_minute():\n",
    "    now = datetime.now()\n",
    "    rounded = now - (now - datetime.min) % timedelta(minutes=30)\n",
    "    return rounded"
   ]
  },
  {
   "cell_type": "code",
   "execution_count": null,
   "id": "555dd0d3-6163-4b5c-9032-ad8967aba337",
   "metadata": {
    "tags": []
   },
   "outputs": [],
   "source": [
    "date = rounded_to_the_last_30_minute()\n",
    "date"
   ]
  },
  {
   "cell_type": "markdown",
   "id": "d78c66bb-9158-4b9b-8624-08dfa93f72d9",
   "metadata": {},
   "source": [
    "#### Import the data"
   ]
  },
  {
   "cell_type": "code",
   "execution_count": null,
   "id": "8c1f94e2-d762-4bad-8d2d-31d5e41bb739",
   "metadata": {
    "tags": []
   },
   "outputs": [],
   "source": [
    "YYYYMMDD_HHMM = date.strftime('%Y%m%d_%H%M')\n",
    "YYYYMMDD_HHMM"
   ]
  },
  {
   "cell_type": "code",
   "execution_count": null,
   "id": "95eca914-08eb-4288-b283-0320256af178",
   "metadata": {
    "tags": []
   },
   "outputs": [],
   "source": [
    "File = \"https://thredds.ucar.edu/thredds/dodsC/grib/NCEP/NDFD/NWS/CONUS/CONDUIT/NDFD_NWS_CONUS_conduit_2p5km_\"+YYYYMMDD_HHMM+\".grib2\"\n",
    "File"
   ]
  },
  {
   "cell_type": "code",
   "execution_count": null,
   "id": "d5ddf4ad-a07f-4c42-a8f5-258f09d818b4",
   "metadata": {
    "tags": []
   },
   "outputs": [],
   "source": [
    "ds = xr.open_dataset(File)"
   ]
  },
  {
   "cell_type": "code",
   "execution_count": null,
   "id": "3448e2ca-97e4-4311-8502-75ced65e173f",
   "metadata": {},
   "outputs": [],
   "source": [
    "ds = ds.metpy.parse_cf()\n",
    "ds = ds.metpy.assign_latitude_longitude(force=False)\n",
    "ds"
   ]
  },
  {
   "cell_type": "code",
   "execution_count": null,
   "id": "10e06c23-5b13-42f8-8a9b-8f732b3da28e",
   "metadata": {
    "tags": []
   },
   "outputs": [],
   "source": [
    "x, y = ds.x, ds.y"
   ]
  },
  {
   "cell_type": "markdown",
   "id": "ed8e5038-f0e2-42e8-978f-6555a7f59f7b",
   "metadata": {},
   "source": [
    "#### Define function to get gridpoint nearest to a lat and lon"
   ]
  },
  {
   "cell_type": "code",
   "execution_count": null,
   "id": "2c91980e-93ab-4b2a-b062-b33def256f3b",
   "metadata": {
    "tags": []
   },
   "outputs": [],
   "source": [
    "def find_closest(array, value):\n",
    "    idx = (np.abs(array-value)).argmin()\n",
    "    return idx"
   ]
  },
  {
   "cell_type": "code",
   "execution_count": null,
   "id": "0b53660b-a4b8-46d8-91e8-fc557db95220",
   "metadata": {},
   "outputs": [],
   "source": [
    "max_temp = ds.Maximum_temperature_height_above_ground_12_Hour_Maximum"
   ]
  },
  {
   "cell_type": "markdown",
   "id": "c6d3ff21-1686-459e-9b75-893626a9bb69",
   "metadata": {},
   "source": [
    "#### Define map projection & ETEC gridpoint"
   ]
  },
  {
   "cell_type": "code",
   "execution_count": null,
   "id": "10d3d14a-ebbe-4ac6-9730-6349db72d6ac",
   "metadata": {
    "tags": []
   },
   "outputs": [],
   "source": [
    "proj_data = max_temp.metpy.cartopy_crs\n",
    "proj_data;\n",
    "\n",
    "pFull = Proj(proj_data)"
   ]
  },
  {
   "cell_type": "code",
   "execution_count": null,
   "id": "8fa47728-8142-47c0-a37c-4364f8071acd",
   "metadata": {
    "tags": []
   },
   "outputs": [],
   "source": [
    "siteName = \"ETEC\"\n",
    "siteLat, siteLon = (42.68, -73.81) #lat & lon of gridpoint over ETEC\n",
    "siteX, siteY = pFull(siteLon, siteLat)\n",
    "siteXidx, siteYidx = find_closest(x, siteX), find_closest(y, siteY)"
   ]
  },
  {
   "cell_type": "markdown",
   "id": "dc68fa75-0669-40f6-b2d1-978aef1e4481",
   "metadata": {},
   "source": [
    "#### Define max temp Variable"
   ]
  },
  {
   "cell_type": "code",
   "execution_count": null,
   "id": "2f4bfe9b-4872-41e6-b61a-98d65d990a41",
   "metadata": {
    "tags": []
   },
   "outputs": [],
   "source": [
    "forecastMax = max_temp.isel(x = siteXidx, y = siteYidx).isel()\n",
    "\n",
    "timeDimMax, vertDimMax = forecastMax.metpy.time.name, forecastMax.metpy.vertical.name\n",
    "\n",
    "idxTimeMax = slice(None, 2) # First time\n",
    "idxVertMax = 0 # First (and in this case, only) vertical level\n",
    "\n",
    "timeDictMax = {timeDimMax: idxTimeMax}\n",
    "vertDictMax = {vertDimMax: idxVertMax}\n",
    "\n",
    "forecastMax = forecastMax.isel(vertDictMax).isel(timeDictMax)"
   ]
  },
  {
   "cell_type": "markdown",
   "id": "6b808d5b-9194-4b88-9339-5fe79e9d440b",
   "metadata": {},
   "source": [
    "#### Define wind speed variable"
   ]
  },
  {
   "cell_type": "code",
   "execution_count": null,
   "id": "404f2e46-441b-4d9f-8022-65eb431c128c",
   "metadata": {},
   "outputs": [],
   "source": [
    "windSpeed = ds.Wind_speed_height_above_ground\n",
    "windSpeed = windSpeed.isel(x = siteXidx, y = siteYidx).isel()\n",
    "\n",
    "timeDimWdsp, vertDimWdsp = windSpeed.metpy.time.name, windSpeed.metpy.vertical.name\n",
    "\n",
    "idxVertWdsp = 0 # First (and in this case, only) vertical level\n",
    "vertDictWdsp = {vertDimWdsp: idxVertWdsp}\n",
    "\n",
    "forecastWindSpeed = windSpeed.isel(vertDictWdsp)"
   ]
  },
  {
   "cell_type": "markdown",
   "id": "fda326cd-b42a-4ce6-bb49-fd6b9d310cae",
   "metadata": {},
   "source": [
    "#### Define wind direction variable"
   ]
  },
  {
   "cell_type": "code",
   "execution_count": null,
   "id": "8d732142-8cd5-4074-a9c2-c6b423de235c",
   "metadata": {},
   "outputs": [],
   "source": [
    "windDir = ds.Wind_direction_from_which_blowing_height_above_ground\n",
    "windDir = windDir.isel(x = siteXidx, y = siteYidx).isel()\n",
    "\n",
    "timeDimWdr, vertDimWdr = windDir.metpy.time.name, windDir.metpy.vertical.name\n",
    "\n",
    "idxVertWdr = 0\n",
    "vertDictWdr = {vertDimWdr: idxVertWdr}\n",
    "\n",
    "forecastWindDir = windDir.isel(vertDictWdr)"
   ]
  },
  {
   "cell_type": "markdown",
   "id": "87529a72-5e8a-4b33-a3e7-b07aed8946b0",
   "metadata": {
    "tags": []
   },
   "source": [
    "#### Define weather string variable"
   ]
  },
  {
   "cell_type": "code",
   "execution_count": null,
   "id": "86caaccb-21cd-458b-b51a-add5bb5e9860",
   "metadata": {
    "tags": []
   },
   "outputs": [],
   "source": [
    "wx = ds.Weather_string_surface\n",
    "wx = wx.isel(x = siteXidx, y = siteYidx).isel()\n",
    "\n",
    "timeDimWx = wx.metpy.time.name"
   ]
  },
  {
   "cell_type": "markdown",
   "id": "97a47ee7-9858-450c-88a4-12e02029b1a1",
   "metadata": {},
   "source": [
    "#### Define min temp variable"
   ]
  },
  {
   "cell_type": "code",
   "execution_count": null,
   "id": "f22ef939-93be-4842-9dcb-6a4b157ead7f",
   "metadata": {
    "tags": []
   },
   "outputs": [],
   "source": [
    "min_temp = ds.Minimum_temperature_height_above_ground_12_Hour_Minimum\n",
    "\n",
    "forecastMin = min_temp.isel(x = siteXidx, y = siteYidx).isel()\n",
    "\n",
    "timeDimMin, vertDimMin = forecastMin.metpy.time.name, forecastMin.metpy.vertical.name\n",
    "\n",
    "idxTimeMin = slice(None, 2) # First time\n",
    "idxVertMin = 0 # First (and in this case, only) vertical level\n",
    "\n",
    "timeDictMin = {timeDimMin: idxTimeMin}\n",
    "vertDictMin = {vertDimMin: idxVertMin}\n",
    "\n",
    "forecastMin = forecastMin.isel(vertDictMin).isel(timeDictMin)"
   ]
  },
  {
   "cell_type": "markdown",
   "id": "2d87da53-d331-410b-a820-c5a2330bbd94",
   "metadata": {},
   "source": [
    "#### Define precip probability variable"
   ]
  },
  {
   "cell_type": "code",
   "execution_count": null,
   "id": "2a949828-323a-49c2-a569-6e954cd5bd5b",
   "metadata": {
    "tags": []
   },
   "outputs": [],
   "source": [
    "precip = ds.Total_precipitation_surface_12_Hour_Accumulation_probability_above_0p254\n",
    "\n",
    "forecastPrecip = precip.isel(x = siteXidx, y = siteYidx).isel()\n",
    "\n",
    "timeDimPrecip = forecastPrecip.metpy.time.name\n",
    "\n",
    "idxTimeFull = slice(None, 4) # First 4 times\n",
    "\n",
    "timeDictPrecip = {timeDimPrecip: idxTimeFull}\n",
    "\n",
    "forecastPrecip = forecastPrecip.isel(timeDictPrecip)"
   ]
  },
  {
   "cell_type": "markdown",
   "id": "a65bce8f-b0f4-430e-9c18-922fb2b805d9",
   "metadata": {},
   "source": [
    "#### Define cloud cover variable"
   ]
  },
  {
   "cell_type": "code",
   "execution_count": null,
   "id": "e3a164ac-9c57-4524-b808-fa02a1591275",
   "metadata": {
    "tags": []
   },
   "outputs": [],
   "source": [
    "cloudCover = ds.Total_cloud_cover_surface\n",
    "\n",
    "forecastCloudCover = cloudCover.isel(x = siteXidx, y = siteYidx).isel()\n",
    "\n",
    "timeDimCloudCover = forecastCloudCover.metpy.time.name"
   ]
  },
  {
   "cell_type": "markdown",
   "id": "79cd01a5-f46b-413e-b4fb-868f016b0591",
   "metadata": {},
   "source": [
    "#### Define Temp variable"
   ]
  },
  {
   "cell_type": "code",
   "execution_count": null,
   "id": "2f1b2996-03e7-4c9d-bfc3-f5767596b438",
   "metadata": {
    "tags": []
   },
   "outputs": [],
   "source": [
    "temp = ds.Temperature_height_above_ground\n",
    "\n",
    "forecastTemp = temp.isel(x = siteXidx, y = siteYidx).isel()\n",
    "\n",
    "timeDimTemp, vertDimTemp = forecastTemp.metpy.time.name, forecastTemp.metpy.vertical.name\n",
    "\n",
    "idxVertTemp = 0\n",
    "\n",
    "vertDictTemp = {vertDimTemp: idxVertTemp}\n",
    "\n",
    "forecastTemp = forecastTemp.isel(vertDictTemp)"
   ]
  },
  {
   "cell_type": "markdown",
   "id": "aa949cfb-003a-49e5-a9ee-4cba545902fd",
   "metadata": {},
   "source": [
    "#### Define dewpoint variable"
   ]
  },
  {
   "cell_type": "code",
   "execution_count": null,
   "id": "53c5eb57-ec9e-4579-b49b-9a91b599424f",
   "metadata": {
    "tags": []
   },
   "outputs": [],
   "source": [
    "dewp = ds.Dewpoint_temperature_height_above_ground\n",
    "\n",
    "forecastDewp = dewp.isel(x = siteXidx, y = siteYidx).isel()\n",
    "\n",
    "timeDimDewp, vertDimDewp = forecastDewp.metpy.time.name, forecastDewp.metpy.vertical.name\n",
    "\n",
    "idxVertDewp = 0\n",
    "\n",
    "vertDictDewp = {vertDimDewp: idxVertDewp}\n",
    "\n",
    "forecastDewp = forecastDewp.isel(vertDictDewp)"
   ]
  },
  {
   "cell_type": "markdown",
   "id": "1b88008f-49fb-435c-8382-64a6a26eb811",
   "metadata": {},
   "source": [
    "#### Define relative humidity variable"
   ]
  },
  {
   "cell_type": "code",
   "execution_count": null,
   "id": "00d79b6b-e46d-41cf-b60c-14ad28a49f4b",
   "metadata": {},
   "outputs": [],
   "source": [
    "rh = ds.Relative_humidity_height_above_ground\n",
    "\n",
    "forecastRH = rh.isel(x = siteXidx, y = siteYidx).isel()\n",
    "\n",
    "timeDimRH, vertDimRH = forecastRH.metpy.time.name, forecastRH.metpy.vertical.name\n",
    "\n",
    "idxVertRH = 0\n",
    "\n",
    "vertDictRH = {vertDimRH: idxVertRH}\n",
    "\n",
    "forecastRH = forecastRH.isel(vertDictRH)"
   ]
  },
  {
   "cell_type": "markdown",
   "id": "08ba08a7-f971-46f9-bb99-2c084e002528",
   "metadata": {},
   "source": [
    "#### Define time lists at intervals of 1-hr & 12-hr"
   ]
  },
  {
   "cell_type": "code",
   "execution_count": null,
   "id": "16618932-bb1d-4c93-9cfe-92748ca1271b",
   "metadata": {
    "tags": []
   },
   "outputs": [],
   "source": [
    "times1 = forecastCloudCover.metpy.time.values\n",
    "\n",
    "times12 = forecastPrecip.metpy.time.values"
   ]
  },
  {
   "cell_type": "markdown",
   "id": "b86e7b62-6c44-468c-831f-2fa057ae3783",
   "metadata": {},
   "source": [
    "#### Define time lists for max and min temps"
   ]
  },
  {
   "cell_type": "code",
   "execution_count": null,
   "id": "b40883e8-dfb9-465d-8ea8-fedec6bfc9e2",
   "metadata": {
    "tags": []
   },
   "outputs": [],
   "source": [
    "timesMax = forecastMax.metpy.time.values\n",
    "\n",
    "timesMin = forecastMin.metpy.time.values\n",
    "\n",
    "timesrh = forecastRH.metpy.time\n",
    "\n",
    "#they get their own time list since they only exist for every other 12-hr period"
   ]
  },
  {
   "cell_type": "code",
   "execution_count": null,
   "id": "9e49432c-b2d0-4102-aef2-b2c4b9110b63",
   "metadata": {},
   "outputs": [],
   "source": [
    "print(YYYYMMDD_HHMM)\n",
    "print('********************')"
   ]
  },
  {
   "cell_type": "markdown",
   "id": "18b80bbd-917d-45d4-a35d-42d3a2891c75",
   "metadata": {},
   "source": [
    "#### Check cloud cover for NaN"
   ]
  },
  {
   "cell_type": "code",
   "execution_count": null,
   "id": "9fcbf0ce-4947-4dfb-a6c6-482850520cdd",
   "metadata": {
    "tags": []
   },
   "outputs": [],
   "source": [
    "i = 0\n",
    "\n",
    "for time_step in times1:\n",
    "\n",
    "    timeDictCloudCover = {timeDimCloudCover: i}\n",
    "    forecastCloudCoverNew = forecastCloudCover.isel(timeDictCloudCover)\n",
    "    \n",
    "    nanCheck = forecastCloudCoverNew.isnull().values\n",
    "    \n",
    "    if nanCheck == False:\n",
    "        pass\n",
    "    else:\n",
    "        istr = str(i)\n",
    "        print('Cloud Cover: NaN detected at index ' + istr)\n",
    "     \n",
    "    i = i + 1"
   ]
  },
  {
   "cell_type": "markdown",
   "id": "535ffb64-a31e-4d40-b207-f08df7fe1477",
   "metadata": {},
   "source": [
    "#### Check wind speed for NaN"
   ]
  },
  {
   "cell_type": "code",
   "execution_count": null,
   "id": "5480dd0b-a5a3-43f9-b1fa-a85e14a559b5",
   "metadata": {
    "tags": []
   },
   "outputs": [],
   "source": [
    "i = 0\n",
    "\n",
    "for time_step in times1:\n",
    "\n",
    "    timeDictWdsp = {timeDimWdsp: i}\n",
    "    wdspNew = forecastWindSpeed.isel(timeDictWdsp)\n",
    "    \n",
    "    nanCheck = wdspNew.isnull().values\n",
    "    \n",
    "    if nanCheck == False:\n",
    "        pass\n",
    "    else:\n",
    "        istr = str(i)\n",
    "        print('Wind Speed: NaN detected at index ' + istr)\n",
    "     \n",
    "    i = i + 1"
   ]
  },
  {
   "cell_type": "markdown",
   "id": "ec015dd0-47e4-4b92-950b-839d141f3eee",
   "metadata": {},
   "source": [
    "#### Check wind direction for NaN"
   ]
  },
  {
   "cell_type": "code",
   "execution_count": null,
   "id": "738dd1e9-3953-4ec4-a098-aa4f041f4c89",
   "metadata": {
    "tags": []
   },
   "outputs": [],
   "source": [
    "i = 0\n",
    "\n",
    "for time_step in times1:\n",
    "\n",
    "    timeDictWdr = {timeDimWdr: i}\n",
    "    wdrNew = forecastWindDir.isel(timeDictWdr)\n",
    "    \n",
    "    nanCheck = wdrNew.isnull().values\n",
    "    \n",
    "    if nanCheck == False:\n",
    "        pass\n",
    "    else:\n",
    "        istr = str(i)\n",
    "        print('Wind Direction: NaN detected at index ' + istr)\n",
    "     \n",
    "    i = i + 1"
   ]
  },
  {
   "cell_type": "markdown",
   "id": "6f5f0303-cfa0-44bf-ba2d-3b274dc1554d",
   "metadata": {},
   "source": [
    "#### Check weather string for NaN"
   ]
  },
  {
   "cell_type": "code",
   "execution_count": null,
   "id": "09370f8b-6fda-44c1-aedb-dfb6b79ed698",
   "metadata": {
    "tags": []
   },
   "outputs": [],
   "source": [
    "i = 0\n",
    "\n",
    "for time_step in times1:\n",
    "\n",
    "    timeDictWx = {timeDimWx: i}\n",
    "    wxNew = wx.isel(timeDictWx)\n",
    "    \n",
    "    nanCheck = wxNew.isnull().values\n",
    "    \n",
    "    if nanCheck == False:\n",
    "        pass\n",
    "    else:\n",
    "        istr = str(i)\n",
    "        print('Weather String: NaN detected at index ' + istr)\n",
    "     \n",
    "    i = i + 1"
   ]
  },
  {
   "cell_type": "markdown",
   "id": "1d50b6f9-3e37-485a-b690-0e89b4caebc0",
   "metadata": {},
   "source": [
    "#### Check dewpoint for NaN"
   ]
  },
  {
   "cell_type": "code",
   "execution_count": null,
   "id": "2256277a-3b3d-44f9-a70d-e0072b8e8c37",
   "metadata": {
    "tags": []
   },
   "outputs": [],
   "source": [
    "i = 0\n",
    "\n",
    "for time_step in times1:\n",
    "\n",
    "    timeDictDewp = {timeDimDewp: i}\n",
    "    dewpNew = forecastDewp.isel(timeDictDewp)\n",
    "    \n",
    "    nanCheck = dewpNew.isnull().values\n",
    "    \n",
    "    if nanCheck == False:\n",
    "        pass\n",
    "    else:\n",
    "        istr = str(i)\n",
    "        print('Dewpoint: NaN detected at index ' + istr)\n",
    "     \n",
    "    i = i + 1"
   ]
  },
  {
   "cell_type": "markdown",
   "id": "49d4f1aa-c32d-4ce9-800b-9e2cfa1ec603",
   "metadata": {},
   "source": [
    "#### Check temp for NaN"
   ]
  },
  {
   "cell_type": "code",
   "execution_count": null,
   "id": "82c1740f-6ab7-4e8a-9393-35ed84dcb627",
   "metadata": {
    "tags": []
   },
   "outputs": [],
   "source": [
    "i = 0\n",
    "\n",
    "for time_step in times1:\n",
    "\n",
    "    timeDictTemp = {timeDimTemp: i}\n",
    "    tempNew = forecastTemp.isel(timeDictTemp)\n",
    "    \n",
    "    nanCheck = tempNew.isnull().values\n",
    "    \n",
    "    if nanCheck == False:\n",
    "        pass\n",
    "    else:\n",
    "        istr = str(i)\n",
    "        print('Temperature: NaN detected at index ' + istr)\n",
    "     \n",
    "    i = i + 1"
   ]
  },
  {
   "cell_type": "markdown",
   "id": "e6de86f1-74bf-439b-a24e-faf545b61a73",
   "metadata": {},
   "source": [
    "#### Check max temp for NaN"
   ]
  },
  {
   "cell_type": "code",
   "execution_count": null,
   "id": "d23f1780-9a84-4599-8521-a044fd2a6f03",
   "metadata": {
    "tags": []
   },
   "outputs": [],
   "source": [
    "i = 0\n",
    "\n",
    "for time_step in timesMax:\n",
    "\n",
    "    timeDictMax = {timeDimMax: i}\n",
    "    maxNew = forecastMax.isel(timeDictMax)\n",
    "    \n",
    "    nanCheck = maxNew.isnull().values\n",
    "    \n",
    "    if nanCheck == False:\n",
    "        pass\n",
    "    else:\n",
    "        istr = str(i)\n",
    "        print('Max Temp: NaN detected at index ' + istr)\n",
    "     \n",
    "    i = i + 1"
   ]
  },
  {
   "cell_type": "markdown",
   "id": "b286cbba-101c-4cff-a534-f7bc52e3f1fc",
   "metadata": {},
   "source": [
    "#### Check min temp for NaN"
   ]
  },
  {
   "cell_type": "code",
   "execution_count": null,
   "id": "41bc6632-cc08-4b77-aa88-3f509c9c6efe",
   "metadata": {
    "tags": []
   },
   "outputs": [],
   "source": [
    "i = 0\n",
    "\n",
    "for time_step in timesMin:\n",
    "\n",
    "    timeDictMin = {timeDimMin: i}\n",
    "    minNew = forecastMin.isel(timeDictMin)\n",
    "    \n",
    "    nanCheck = minNew.isnull().values\n",
    "    \n",
    "    if nanCheck == False:\n",
    "        pass\n",
    "    else:\n",
    "        istr = str(i)\n",
    "        print('Min Temp: NaN detected at index ' + istr)\n",
    "     \n",
    "    i = i + 1"
   ]
  },
  {
   "cell_type": "markdown",
   "id": "6568c6c1-7756-45fc-8666-42613121978b",
   "metadata": {},
   "source": [
    "#### Check RH for NaN"
   ]
  },
  {
   "cell_type": "code",
   "execution_count": null,
   "id": "cca0cffc-28a7-467f-901d-a5bcbc9b60fc",
   "metadata": {
    "tags": []
   },
   "outputs": [],
   "source": [
    "i = 0\n",
    "\n",
    "for time_step in timesrh:\n",
    "\n",
    "    timeDictRH = {timeDimRH: i}\n",
    "    rhNew = forecastRH.isel(timeDictRH)\n",
    "    \n",
    "    nanCheck = rhNew.isnull().values\n",
    "    \n",
    "    if nanCheck == False:\n",
    "        pass\n",
    "    else:\n",
    "        istr = str(i)\n",
    "        print('RH: NaN detected at index ' + istr)\n",
    "     \n",
    "    i = i + 1"
   ]
  },
  {
   "cell_type": "code",
   "execution_count": null,
   "id": "6ec4733e-191f-4990-91be-e10295f02538",
   "metadata": {},
   "outputs": [],
   "source": [
    "print('******************')"
   ]
  }
 ],
 "metadata": {
  "kernelspec": {
   "display_name": "Python 3 August 2023 Environment",
   "language": "python",
   "name": "aug23"
  },
  "language_info": {
   "codemirror_mode": {
    "name": "ipython",
    "version": 3
   },
   "file_extension": ".py",
   "mimetype": "text/x-python",
   "name": "python",
   "nbconvert_exporter": "python",
   "pygments_lexer": "ipython3",
   "version": "3.11.4"
  }
 },
 "nbformat": 4,
 "nbformat_minor": 5
}
