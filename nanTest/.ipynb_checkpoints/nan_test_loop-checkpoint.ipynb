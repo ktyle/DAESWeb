{
 "cells": [
  {
   "cell_type": "markdown",
   "id": "60d625d9-6cdb-49e8-8a0c-7e34583aef0a",
   "metadata": {},
   "source": [
    "## Checks NDFD data for NaN values in data\n",
    "---"
   ]
  },
  {
   "cell_type": "code",
   "execution_count": 1,
   "id": "70f28617-c6e8-4d7f-ab3f-9ab80c0984fe",
   "metadata": {
    "tags": []
   },
   "outputs": [],
   "source": [
    "import numpy as np\n",
    "from datetime import datetime, timedelta\n",
    "import xarray as xr\n",
    "import pandas as pd\n",
    "import matplotlib.pyplot as plt\n",
    "import cartopy.crs as ccrs\n",
    "import cartopy.feature as cfeature\n",
    "import metpy\n",
    "from pyproj import Proj"
   ]
  },
  {
   "cell_type": "markdown",
   "id": "2beb2c20-cc0e-4645-8540-164685f2fdb8",
   "metadata": {},
   "source": [
    "#### Get time rounded down to half hour"
   ]
  },
  {
   "cell_type": "code",
   "execution_count": 2,
   "id": "af0848df-56d1-4a3d-a7e3-14c29b12a7d6",
   "metadata": {
    "tags": []
   },
   "outputs": [],
   "source": [
    "def rounded_to_the_last_30_minute():\n",
    "    now = datetime.now()\n",
    "    rounded = now - (now - datetime.min) % timedelta(minutes=30)\n",
    "    return rounded"
   ]
  },
  {
   "cell_type": "code",
   "execution_count": 3,
   "id": "555dd0d3-6163-4b5c-9032-ad8967aba337",
   "metadata": {
    "tags": []
   },
   "outputs": [
    {
     "data": {
      "text/plain": [
       "datetime.datetime(2023, 11, 14, 20, 30)"
      ]
     },
     "execution_count": 3,
     "metadata": {},
     "output_type": "execute_result"
    }
   ],
   "source": [
    "date = rounded_to_the_last_30_minute()\n",
    "date"
   ]
  },
  {
   "cell_type": "markdown",
   "id": "d78c66bb-9158-4b9b-8624-08dfa93f72d9",
   "metadata": {},
   "source": [
    "#### Import the data"
   ]
  },
  {
   "cell_type": "code",
   "execution_count": 4,
   "id": "8c1f94e2-d762-4bad-8d2d-31d5e41bb739",
   "metadata": {
    "tags": []
   },
   "outputs": [],
   "source": [
    "YYYYMMDD_HHMM = date.strftime('%Y%m%d_%H%M')\n",
    "YYYYMMDD_HHMM = '20231113_1730'"
   ]
  },
  {
   "cell_type": "code",
   "execution_count": 5,
   "id": "95eca914-08eb-4288-b283-0320256af178",
   "metadata": {
    "tags": []
   },
   "outputs": [
    {
     "data": {
      "text/plain": [
       "'https://thredds.ucar.edu/thredds/dodsC/grib/NCEP/NDFD/NWS/CONUS/CONDUIT/NDFD_NWS_CONUS_conduit_2p5km_20231113_1730.grib2'"
      ]
     },
     "execution_count": 5,
     "metadata": {},
     "output_type": "execute_result"
    }
   ],
   "source": [
    "File = \"https://thredds.ucar.edu/thredds/dodsC/grib/NCEP/NDFD/NWS/CONUS/CONDUIT/NDFD_NWS_CONUS_conduit_2p5km_\"+YYYYMMDD_HHMM+\".grib2\"\n",
    "File"
   ]
  },
  {
   "cell_type": "code",
   "execution_count": 6,
   "id": "d5ddf4ad-a07f-4c42-a8f5-258f09d818b4",
   "metadata": {
    "tags": []
   },
   "outputs": [],
   "source": [
    "ds = xr.open_dataset(File)"
   ]
  },
  {
   "cell_type": "code",
   "execution_count": 7,
   "id": "3448e2ca-97e4-4311-8502-75ced65e173f",
   "metadata": {},
   "outputs": [
    {
     "data": {
      "text/html": [
       "<div><svg style=\"position: absolute; width: 0; height: 0; overflow: hidden\">\n",
       "<defs>\n",
       "<symbol id=\"icon-database\" viewBox=\"0 0 32 32\">\n",
       "<path d=\"M16 0c-8.837 0-16 2.239-16 5v4c0 2.761 7.163 5 16 5s16-2.239 16-5v-4c0-2.761-7.163-5-16-5z\"></path>\n",
       "<path d=\"M16 17c-8.837 0-16-2.239-16-5v6c0 2.761 7.163 5 16 5s16-2.239 16-5v-6c0 2.761-7.163 5-16 5z\"></path>\n",
       "<path d=\"M16 26c-8.837 0-16-2.239-16-5v6c0 2.761 7.163 5 16 5s16-2.239 16-5v-6c0 2.761-7.163 5-16 5z\"></path>\n",
       "</symbol>\n",
       "<symbol id=\"icon-file-text2\" viewBox=\"0 0 32 32\">\n",
       "<path d=\"M28.681 7.159c-0.694-0.947-1.662-2.053-2.724-3.116s-2.169-2.030-3.116-2.724c-1.612-1.182-2.393-1.319-2.841-1.319h-15.5c-1.378 0-2.5 1.121-2.5 2.5v27c0 1.378 1.122 2.5 2.5 2.5h23c1.378 0 2.5-1.122 2.5-2.5v-19.5c0-0.448-0.137-1.23-1.319-2.841zM24.543 5.457c0.959 0.959 1.712 1.825 2.268 2.543h-4.811v-4.811c0.718 0.556 1.584 1.309 2.543 2.268zM28 29.5c0 0.271-0.229 0.5-0.5 0.5h-23c-0.271 0-0.5-0.229-0.5-0.5v-27c0-0.271 0.229-0.5 0.5-0.5 0 0 15.499-0 15.5 0v7c0 0.552 0.448 1 1 1h7v19.5z\"></path>\n",
       "<path d=\"M23 26h-14c-0.552 0-1-0.448-1-1s0.448-1 1-1h14c0.552 0 1 0.448 1 1s-0.448 1-1 1z\"></path>\n",
       "<path d=\"M23 22h-14c-0.552 0-1-0.448-1-1s0.448-1 1-1h14c0.552 0 1 0.448 1 1s-0.448 1-1 1z\"></path>\n",
       "<path d=\"M23 18h-14c-0.552 0-1-0.448-1-1s0.448-1 1-1h14c0.552 0 1 0.448 1 1s-0.448 1-1 1z\"></path>\n",
       "</symbol>\n",
       "</defs>\n",
       "</svg>\n",
       "<style>/* CSS stylesheet for displaying xarray objects in jupyterlab.\n",
       " *\n",
       " */\n",
       "\n",
       ":root {\n",
       "  --xr-font-color0: var(--jp-content-font-color0, rgba(0, 0, 0, 1));\n",
       "  --xr-font-color2: var(--jp-content-font-color2, rgba(0, 0, 0, 0.54));\n",
       "  --xr-font-color3: var(--jp-content-font-color3, rgba(0, 0, 0, 0.38));\n",
       "  --xr-border-color: var(--jp-border-color2, #e0e0e0);\n",
       "  --xr-disabled-color: var(--jp-layout-color3, #bdbdbd);\n",
       "  --xr-background-color: var(--jp-layout-color0, white);\n",
       "  --xr-background-color-row-even: var(--jp-layout-color1, white);\n",
       "  --xr-background-color-row-odd: var(--jp-layout-color2, #eeeeee);\n",
       "}\n",
       "\n",
       "html[theme=dark],\n",
       "body[data-theme=dark],\n",
       "body.vscode-dark {\n",
       "  --xr-font-color0: rgba(255, 255, 255, 1);\n",
       "  --xr-font-color2: rgba(255, 255, 255, 0.54);\n",
       "  --xr-font-color3: rgba(255, 255, 255, 0.38);\n",
       "  --xr-border-color: #1F1F1F;\n",
       "  --xr-disabled-color: #515151;\n",
       "  --xr-background-color: #111111;\n",
       "  --xr-background-color-row-even: #111111;\n",
       "  --xr-background-color-row-odd: #313131;\n",
       "}\n",
       "\n",
       ".xr-wrap {\n",
       "  display: block !important;\n",
       "  min-width: 300px;\n",
       "  max-width: 700px;\n",
       "}\n",
       "\n",
       ".xr-text-repr-fallback {\n",
       "  /* fallback to plain text repr when CSS is not injected (untrusted notebook) */\n",
       "  display: none;\n",
       "}\n",
       "\n",
       ".xr-header {\n",
       "  padding-top: 6px;\n",
       "  padding-bottom: 6px;\n",
       "  margin-bottom: 4px;\n",
       "  border-bottom: solid 1px var(--xr-border-color);\n",
       "}\n",
       "\n",
       ".xr-header > div,\n",
       ".xr-header > ul {\n",
       "  display: inline;\n",
       "  margin-top: 0;\n",
       "  margin-bottom: 0;\n",
       "}\n",
       "\n",
       ".xr-obj-type,\n",
       ".xr-array-name {\n",
       "  margin-left: 2px;\n",
       "  margin-right: 10px;\n",
       "}\n",
       "\n",
       ".xr-obj-type {\n",
       "  color: var(--xr-font-color2);\n",
       "}\n",
       "\n",
       ".xr-sections {\n",
       "  padding-left: 0 !important;\n",
       "  display: grid;\n",
       "  grid-template-columns: 150px auto auto 1fr 20px 20px;\n",
       "}\n",
       "\n",
       ".xr-section-item {\n",
       "  display: contents;\n",
       "}\n",
       "\n",
       ".xr-section-item input {\n",
       "  display: none;\n",
       "}\n",
       "\n",
       ".xr-section-item input + label {\n",
       "  color: var(--xr-disabled-color);\n",
       "}\n",
       "\n",
       ".xr-section-item input:enabled + label {\n",
       "  cursor: pointer;\n",
       "  color: var(--xr-font-color2);\n",
       "}\n",
       "\n",
       ".xr-section-item input:enabled + label:hover {\n",
       "  color: var(--xr-font-color0);\n",
       "}\n",
       "\n",
       ".xr-section-summary {\n",
       "  grid-column: 1;\n",
       "  color: var(--xr-font-color2);\n",
       "  font-weight: 500;\n",
       "}\n",
       "\n",
       ".xr-section-summary > span {\n",
       "  display: inline-block;\n",
       "  padding-left: 0.5em;\n",
       "}\n",
       "\n",
       ".xr-section-summary-in:disabled + label {\n",
       "  color: var(--xr-font-color2);\n",
       "}\n",
       "\n",
       ".xr-section-summary-in + label:before {\n",
       "  display: inline-block;\n",
       "  content: '►';\n",
       "  font-size: 11px;\n",
       "  width: 15px;\n",
       "  text-align: center;\n",
       "}\n",
       "\n",
       ".xr-section-summary-in:disabled + label:before {\n",
       "  color: var(--xr-disabled-color);\n",
       "}\n",
       "\n",
       ".xr-section-summary-in:checked + label:before {\n",
       "  content: '▼';\n",
       "}\n",
       "\n",
       ".xr-section-summary-in:checked + label > span {\n",
       "  display: none;\n",
       "}\n",
       "\n",
       ".xr-section-summary,\n",
       ".xr-section-inline-details {\n",
       "  padding-top: 4px;\n",
       "  padding-bottom: 4px;\n",
       "}\n",
       "\n",
       ".xr-section-inline-details {\n",
       "  grid-column: 2 / -1;\n",
       "}\n",
       "\n",
       ".xr-section-details {\n",
       "  display: none;\n",
       "  grid-column: 1 / -1;\n",
       "  margin-bottom: 5px;\n",
       "}\n",
       "\n",
       ".xr-section-summary-in:checked ~ .xr-section-details {\n",
       "  display: contents;\n",
       "}\n",
       "\n",
       ".xr-array-wrap {\n",
       "  grid-column: 1 / -1;\n",
       "  display: grid;\n",
       "  grid-template-columns: 20px auto;\n",
       "}\n",
       "\n",
       ".xr-array-wrap > label {\n",
       "  grid-column: 1;\n",
       "  vertical-align: top;\n",
       "}\n",
       "\n",
       ".xr-preview {\n",
       "  color: var(--xr-font-color3);\n",
       "}\n",
       "\n",
       ".xr-array-preview,\n",
       ".xr-array-data {\n",
       "  padding: 0 5px !important;\n",
       "  grid-column: 2;\n",
       "}\n",
       "\n",
       ".xr-array-data,\n",
       ".xr-array-in:checked ~ .xr-array-preview {\n",
       "  display: none;\n",
       "}\n",
       "\n",
       ".xr-array-in:checked ~ .xr-array-data,\n",
       ".xr-array-preview {\n",
       "  display: inline-block;\n",
       "}\n",
       "\n",
       ".xr-dim-list {\n",
       "  display: inline-block !important;\n",
       "  list-style: none;\n",
       "  padding: 0 !important;\n",
       "  margin: 0;\n",
       "}\n",
       "\n",
       ".xr-dim-list li {\n",
       "  display: inline-block;\n",
       "  padding: 0;\n",
       "  margin: 0;\n",
       "}\n",
       "\n",
       ".xr-dim-list:before {\n",
       "  content: '(';\n",
       "}\n",
       "\n",
       ".xr-dim-list:after {\n",
       "  content: ')';\n",
       "}\n",
       "\n",
       ".xr-dim-list li:not(:last-child):after {\n",
       "  content: ',';\n",
       "  padding-right: 5px;\n",
       "}\n",
       "\n",
       ".xr-has-index {\n",
       "  font-weight: bold;\n",
       "}\n",
       "\n",
       ".xr-var-list,\n",
       ".xr-var-item {\n",
       "  display: contents;\n",
       "}\n",
       "\n",
       ".xr-var-item > div,\n",
       ".xr-var-item label,\n",
       ".xr-var-item > .xr-var-name span {\n",
       "  background-color: var(--xr-background-color-row-even);\n",
       "  margin-bottom: 0;\n",
       "}\n",
       "\n",
       ".xr-var-item > .xr-var-name:hover span {\n",
       "  padding-right: 5px;\n",
       "}\n",
       "\n",
       ".xr-var-list > li:nth-child(odd) > div,\n",
       ".xr-var-list > li:nth-child(odd) > label,\n",
       ".xr-var-list > li:nth-child(odd) > .xr-var-name span {\n",
       "  background-color: var(--xr-background-color-row-odd);\n",
       "}\n",
       "\n",
       ".xr-var-name {\n",
       "  grid-column: 1;\n",
       "}\n",
       "\n",
       ".xr-var-dims {\n",
       "  grid-column: 2;\n",
       "}\n",
       "\n",
       ".xr-var-dtype {\n",
       "  grid-column: 3;\n",
       "  text-align: right;\n",
       "  color: var(--xr-font-color2);\n",
       "}\n",
       "\n",
       ".xr-var-preview {\n",
       "  grid-column: 4;\n",
       "}\n",
       "\n",
       ".xr-index-preview {\n",
       "  grid-column: 2 / 5;\n",
       "  color: var(--xr-font-color2);\n",
       "}\n",
       "\n",
       ".xr-var-name,\n",
       ".xr-var-dims,\n",
       ".xr-var-dtype,\n",
       ".xr-preview,\n",
       ".xr-attrs dt {\n",
       "  white-space: nowrap;\n",
       "  overflow: hidden;\n",
       "  text-overflow: ellipsis;\n",
       "  padding-right: 10px;\n",
       "}\n",
       "\n",
       ".xr-var-name:hover,\n",
       ".xr-var-dims:hover,\n",
       ".xr-var-dtype:hover,\n",
       ".xr-attrs dt:hover {\n",
       "  overflow: visible;\n",
       "  width: auto;\n",
       "  z-index: 1;\n",
       "}\n",
       "\n",
       ".xr-var-attrs,\n",
       ".xr-var-data,\n",
       ".xr-index-data {\n",
       "  display: none;\n",
       "  background-color: var(--xr-background-color) !important;\n",
       "  padding-bottom: 5px !important;\n",
       "}\n",
       "\n",
       ".xr-var-attrs-in:checked ~ .xr-var-attrs,\n",
       ".xr-var-data-in:checked ~ .xr-var-data,\n",
       ".xr-index-data-in:checked ~ .xr-index-data {\n",
       "  display: block;\n",
       "}\n",
       "\n",
       ".xr-var-data > table {\n",
       "  float: right;\n",
       "}\n",
       "\n",
       ".xr-var-name span,\n",
       ".xr-var-data,\n",
       ".xr-index-name div,\n",
       ".xr-index-data,\n",
       ".xr-attrs {\n",
       "  padding-left: 25px !important;\n",
       "}\n",
       "\n",
       ".xr-attrs,\n",
       ".xr-var-attrs,\n",
       ".xr-var-data,\n",
       ".xr-index-data {\n",
       "  grid-column: 1 / -1;\n",
       "}\n",
       "\n",
       "dl.xr-attrs {\n",
       "  padding: 0;\n",
       "  margin: 0;\n",
       "  display: grid;\n",
       "  grid-template-columns: 125px auto;\n",
       "}\n",
       "\n",
       ".xr-attrs dt,\n",
       ".xr-attrs dd {\n",
       "  padding: 0;\n",
       "  margin: 0;\n",
       "  float: left;\n",
       "  padding-right: 10px;\n",
       "  width: auto;\n",
       "}\n",
       "\n",
       ".xr-attrs dt {\n",
       "  font-weight: normal;\n",
       "  grid-column: 1;\n",
       "}\n",
       "\n",
       ".xr-attrs dt:hover span {\n",
       "  display: inline-block;\n",
       "  background: var(--xr-background-color);\n",
       "  padding-right: 10px;\n",
       "}\n",
       "\n",
       ".xr-attrs dd {\n",
       "  grid-column: 2;\n",
       "  white-space: pre-wrap;\n",
       "  word-break: break-all;\n",
       "}\n",
       "\n",
       ".xr-icon-database,\n",
       ".xr-icon-file-text2,\n",
       ".xr-no-icon {\n",
       "  display: inline-block;\n",
       "  vertical-align: middle;\n",
       "  width: 1em;\n",
       "  height: 1.5em !important;\n",
       "  stroke-width: 0;\n",
       "  stroke: currentColor;\n",
       "  fill: currentColor;\n",
       "}\n",
       "</style><pre class='xr-text-repr-fallback'>&lt;xarray.Dataset&gt;\n",
       "Dimensions:                                                                   (\n",
       "                                                                               time: 12,\n",
       "                                                                               time_bounds_1: 2,\n",
       "                                                                               time1: 5,\n",
       "                                                                               time1_bounds_1: 2,\n",
       "                                                                               time3: 2,\n",
       "                                                                               ...\n",
       "                                                                               time4_bounds_1: 2,\n",
       "                                                                               x: 2145,\n",
       "                                                                               y: 1377,\n",
       "                                                                               time2: 43,\n",
       "                                                                               height_above_ground1: 1,\n",
       "                                                                               height_above_ground: 1)\n",
       "Coordinates: (12/13)\n",
       "    reftime                                                                   datetime64[ns] ...\n",
       "  * time                                                                      (time) datetime64[ns] ...\n",
       "  * time1                                                                     (time1) datetime64[ns] ...\n",
       "  * time3                                                                     (time3) datetime64[ns] ...\n",
       "  * time4                                                                     (time4) datetime64[ns] ...\n",
       "  * x                                                                         (x) float32 ...\n",
       "    ...                                                                        ...\n",
       "  * time2                                                                     (time2) datetime64[ns] ...\n",
       "  * height_above_ground1                                                      (height_above_ground1) float32 ...\n",
       "    metpy_crs                                                                 object ...\n",
       "  * height_above_ground                                                       (height_above_ground) float32 ...\n",
       "    latitude                                                                  (y, x) float64 ...\n",
       "    longitude                                                                 (y, x) float64 ...\n",
       "Dimensions without coordinates: time_bounds_1, time1_bounds_1, time3_bounds_1,\n",
       "                                time4_bounds_1\n",
       "Data variables: (12/20)\n",
       "    LambertConformal_Projection                                               int32 ...\n",
       "    time_bounds                                                               (time, time_bounds_1) datetime64[ns] ...\n",
       "    time1_bounds                                                              (time1, time1_bounds_1) datetime64[ns] ...\n",
       "    time3_bounds                                                              (time3, time3_bounds_1) datetime64[ns] ...\n",
       "    time4_bounds                                                              (time4, time4_bounds_1) datetime64[ns] ...\n",
       "    Dewpoint_temperature_height_above_ground                                  (time2, height_above_ground1, y, x) float32 ...\n",
       "    ...                                                                        ...\n",
       "    Total_snowfall_surface_6_Hour_Accumulation                                (time, y, x) float32 ...\n",
       "    Apparent_Temperature_height_above_ground                                  (time2, height_above_ground1, y, x) float32 ...\n",
       "    Weather_string_surface                                                    (time2, y, x) float32 ...\n",
       "    Wind_direction_from_which_blowing_height_above_ground                     (time2, height_above_ground, y, x) float32 ...\n",
       "    Wind_speed_height_above_ground                                            (time2, height_above_ground, y, x) float32 ...\n",
       "    Wind_speed_gust_height_above_ground                                       (time2, height_above_ground, y, x) float32 ...\n",
       "Attributes:\n",
       "    Originating_or_generating_Center:     US National Weather Service Telecom...\n",
       "    Originating_or_generating_Subcenter:  -9999\n",
       "    GRIB_table_version:                   1,0\n",
       "    Type_of_generating_process:           Forecast\n",
       "    file_format:                          GRIB-2\n",
       "    Conventions:                          CF-1.6\n",
       "    history:                              Read using CDM IOSP GribCollection v3\n",
       "    featureType:                          GRID\n",
       "    _CoordSysBuilder:                     ucar.nc2.dataset.conv.CF1Convention\n",
       "    EXTRA_DIMENSION.reftime:              1</pre><div class='xr-wrap' style='display:none'><div class='xr-header'><div class='xr-obj-type'>xarray.Dataset</div></div><ul class='xr-sections'><li class='xr-section-item'><input id='section-b60fa799-4f1e-4b3a-bc46-87c87707f528' class='xr-section-summary-in' type='checkbox' disabled ><label for='section-b60fa799-4f1e-4b3a-bc46-87c87707f528' class='xr-section-summary'  title='Expand/collapse section'>Dimensions:</label><div class='xr-section-inline-details'><ul class='xr-dim-list'><li><span class='xr-has-index'>time</span>: 12</li><li><span>time_bounds_1</span>: 2</li><li><span class='xr-has-index'>time1</span>: 5</li><li><span>time1_bounds_1</span>: 2</li><li><span class='xr-has-index'>time3</span>: 2</li><li><span>time3_bounds_1</span>: 2</li><li><span class='xr-has-index'>time4</span>: 3</li><li><span>time4_bounds_1</span>: 2</li><li><span class='xr-has-index'>x</span>: 2145</li><li><span class='xr-has-index'>y</span>: 1377</li><li><span class='xr-has-index'>time2</span>: 43</li><li><span class='xr-has-index'>height_above_ground1</span>: 1</li><li><span class='xr-has-index'>height_above_ground</span>: 1</li></ul></div><div class='xr-section-details'></div></li><li class='xr-section-item'><input id='section-ca5a3dc4-bd4a-42c3-8818-4a3bc94f1541' class='xr-section-summary-in' type='checkbox'  checked><label for='section-ca5a3dc4-bd4a-42c3-8818-4a3bc94f1541' class='xr-section-summary' >Coordinates: <span>(13)</span></label><div class='xr-section-inline-details'></div><div class='xr-section-details'><ul class='xr-var-list'><li class='xr-var-item'><div class='xr-var-name'><span>reftime</span></div><div class='xr-var-dims'>()</div><div class='xr-var-dtype'>datetime64[ns]</div><div class='xr-var-preview xr-preview'>2023-11-13T17:30:00</div><input id='attrs-aa91fb7c-64a0-4ae7-b06a-0fb14caf94e8' class='xr-var-attrs-in' type='checkbox' ><label for='attrs-aa91fb7c-64a0-4ae7-b06a-0fb14caf94e8' title='Show/Hide attributes'><svg class='icon xr-icon-file-text2'><use xlink:href='#icon-file-text2'></use></svg></label><input id='data-ce7c643f-3387-4e73-a42e-549379ec464b' class='xr-var-data-in' type='checkbox'><label for='data-ce7c643f-3387-4e73-a42e-549379ec464b' title='Show/Hide data repr'><svg class='icon xr-icon-database'><use xlink:href='#icon-database'></use></svg></label><div class='xr-var-attrs'><dl class='xr-attrs'><dt><span>standard_name :</span></dt><dd>forecast_reference_time</dd><dt><span>long_name :</span></dt><dd>GRIB reference time</dd><dt><span>_CoordinateAxisType :</span></dt><dd>RunTime</dd></dl></div><div class='xr-var-data'><pre>array(&#x27;2023-11-13T17:30:00.000000000&#x27;, dtype=&#x27;datetime64[ns]&#x27;)</pre></div></li><li class='xr-var-item'><div class='xr-var-name'><span class='xr-has-index'>time</span></div><div class='xr-var-dims'>(time)</div><div class='xr-var-dtype'>datetime64[ns]</div><div class='xr-var-preview xr-preview'>2023-11-13T17:30:00 ... 2023-11-...</div><input id='attrs-4150d8a1-ce79-4bdf-91bc-be5f6ac2a99d' class='xr-var-attrs-in' type='checkbox' ><label for='attrs-4150d8a1-ce79-4bdf-91bc-be5f6ac2a99d' title='Show/Hide attributes'><svg class='icon xr-icon-file-text2'><use xlink:href='#icon-file-text2'></use></svg></label><input id='data-6d65ee0f-41f8-4cb5-8131-5a86134d531f' class='xr-var-data-in' type='checkbox'><label for='data-6d65ee0f-41f8-4cb5-8131-5a86134d531f' title='Show/Hide data repr'><svg class='icon xr-icon-database'><use xlink:href='#icon-database'></use></svg></label><div class='xr-var-attrs'><dl class='xr-attrs'><dt><span>standard_name :</span></dt><dd>time</dd><dt><span>long_name :</span></dt><dd>GRIB forecast or observation time</dd><dt><span>bounds :</span></dt><dd>time_bounds</dd><dt><span>_CoordinateAxisType :</span></dt><dd>Time</dd><dt><span>_metpy_axis :</span></dt><dd>time</dd></dl></div><div class='xr-var-data'><pre>array([&#x27;2023-11-13T17:30:00.000000000&#x27;, &#x27;2023-11-13T23:30:00.000000000&#x27;,\n",
       "       &#x27;2023-11-14T05:30:00.000000000&#x27;, &#x27;2023-11-14T11:30:00.000000000&#x27;,\n",
       "       &#x27;2023-11-14T17:30:00.000000000&#x27;, &#x27;2023-11-14T23:30:00.000000000&#x27;,\n",
       "       &#x27;2023-11-15T05:30:00.000000000&#x27;, &#x27;2023-11-15T11:30:00.000000000&#x27;,\n",
       "       &#x27;2023-11-15T17:30:00.000000000&#x27;, &#x27;2023-11-15T23:30:00.000000000&#x27;,\n",
       "       &#x27;2023-11-16T05:30:00.000000000&#x27;, &#x27;2023-11-16T11:30:00.000000000&#x27;],\n",
       "      dtype=&#x27;datetime64[ns]&#x27;)</pre></div></li><li class='xr-var-item'><div class='xr-var-name'><span class='xr-has-index'>time1</span></div><div class='xr-var-dims'>(time1)</div><div class='xr-var-dtype'>datetime64[ns]</div><div class='xr-var-preview xr-preview'>2023-11-13T23:30:00 ... 2023-11-...</div><input id='attrs-3bb91259-a605-42af-9f85-a38734cfabf1' class='xr-var-attrs-in' type='checkbox' ><label for='attrs-3bb91259-a605-42af-9f85-a38734cfabf1' title='Show/Hide attributes'><svg class='icon xr-icon-file-text2'><use xlink:href='#icon-file-text2'></use></svg></label><input id='data-fa802ca8-3ec9-4b7b-a507-a0059e3e11ab' class='xr-var-data-in' type='checkbox'><label for='data-fa802ca8-3ec9-4b7b-a507-a0059e3e11ab' title='Show/Hide data repr'><svg class='icon xr-icon-database'><use xlink:href='#icon-database'></use></svg></label><div class='xr-var-attrs'><dl class='xr-attrs'><dt><span>standard_name :</span></dt><dd>time</dd><dt><span>long_name :</span></dt><dd>GRIB forecast or observation time</dd><dt><span>bounds :</span></dt><dd>time1_bounds</dd><dt><span>_CoordinateAxisType :</span></dt><dd>Time</dd><dt><span>_metpy_axis :</span></dt><dd>time</dd></dl></div><div class='xr-var-data'><pre>array([&#x27;2023-11-13T23:30:00.000000000&#x27;, &#x27;2023-11-14T11:30:00.000000000&#x27;,\n",
       "       &#x27;2023-11-14T23:30:00.000000000&#x27;, &#x27;2023-11-15T11:30:00.000000000&#x27;,\n",
       "       &#x27;2023-11-15T23:30:00.000000000&#x27;], dtype=&#x27;datetime64[ns]&#x27;)</pre></div></li><li class='xr-var-item'><div class='xr-var-name'><span class='xr-has-index'>time3</span></div><div class='xr-var-dims'>(time3)</div><div class='xr-var-dtype'>datetime64[ns]</div><div class='xr-var-preview xr-preview'>2023-11-14T11:30:00 2023-11-15T1...</div><input id='attrs-40a139be-01b9-4daa-9a40-0fea288912d1' class='xr-var-attrs-in' type='checkbox' ><label for='attrs-40a139be-01b9-4daa-9a40-0fea288912d1' title='Show/Hide attributes'><svg class='icon xr-icon-file-text2'><use xlink:href='#icon-file-text2'></use></svg></label><input id='data-011b5a62-12fc-48b0-bc37-5294aa710478' class='xr-var-data-in' type='checkbox'><label for='data-011b5a62-12fc-48b0-bc37-5294aa710478' title='Show/Hide data repr'><svg class='icon xr-icon-database'><use xlink:href='#icon-database'></use></svg></label><div class='xr-var-attrs'><dl class='xr-attrs'><dt><span>standard_name :</span></dt><dd>time</dd><dt><span>long_name :</span></dt><dd>GRIB forecast or observation time</dd><dt><span>bounds :</span></dt><dd>time3_bounds</dd><dt><span>_CoordinateAxisType :</span></dt><dd>Time</dd><dt><span>_metpy_axis :</span></dt><dd>time</dd></dl></div><div class='xr-var-data'><pre>array([&#x27;2023-11-14T11:30:00.000000000&#x27;, &#x27;2023-11-15T11:30:00.000000000&#x27;],\n",
       "      dtype=&#x27;datetime64[ns]&#x27;)</pre></div></li><li class='xr-var-item'><div class='xr-var-name'><span class='xr-has-index'>time4</span></div><div class='xr-var-dims'>(time4)</div><div class='xr-var-dtype'>datetime64[ns]</div><div class='xr-var-preview xr-preview'>2023-11-13T23:30:00 ... 2023-11-...</div><input id='attrs-64d80649-b901-460c-9794-931d0d72fc3d' class='xr-var-attrs-in' type='checkbox' ><label for='attrs-64d80649-b901-460c-9794-931d0d72fc3d' title='Show/Hide attributes'><svg class='icon xr-icon-file-text2'><use xlink:href='#icon-file-text2'></use></svg></label><input id='data-1a12dc48-45dc-4946-a3d5-0e89a4789491' class='xr-var-data-in' type='checkbox'><label for='data-1a12dc48-45dc-4946-a3d5-0e89a4789491' title='Show/Hide data repr'><svg class='icon xr-icon-database'><use xlink:href='#icon-database'></use></svg></label><div class='xr-var-attrs'><dl class='xr-attrs'><dt><span>standard_name :</span></dt><dd>time</dd><dt><span>long_name :</span></dt><dd>GRIB forecast or observation time</dd><dt><span>bounds :</span></dt><dd>time4_bounds</dd><dt><span>_CoordinateAxisType :</span></dt><dd>Time</dd><dt><span>_metpy_axis :</span></dt><dd>time</dd></dl></div><div class='xr-var-data'><pre>array([&#x27;2023-11-13T23:30:00.000000000&#x27;, &#x27;2023-11-14T23:30:00.000000000&#x27;,\n",
       "       &#x27;2023-11-15T23:30:00.000000000&#x27;], dtype=&#x27;datetime64[ns]&#x27;)</pre></div></li><li class='xr-var-item'><div class='xr-var-name'><span class='xr-has-index'>x</span></div><div class='xr-var-dims'>(x)</div><div class='xr-var-dtype'>float32</div><div class='xr-var-preview xr-preview'>-2.763e+06 -2.761e+06 ... 2.682e+06</div><input id='attrs-c43ba3ac-ce1e-481d-aaed-ede5718a47ce' class='xr-var-attrs-in' type='checkbox' ><label for='attrs-c43ba3ac-ce1e-481d-aaed-ede5718a47ce' title='Show/Hide attributes'><svg class='icon xr-icon-file-text2'><use xlink:href='#icon-file-text2'></use></svg></label><input id='data-87d77af5-9e71-43a3-a56d-7f3710d8558e' class='xr-var-data-in' type='checkbox'><label for='data-87d77af5-9e71-43a3-a56d-7f3710d8558e' title='Show/Hide data repr'><svg class='icon xr-icon-database'><use xlink:href='#icon-database'></use></svg></label><div class='xr-var-attrs'><dl class='xr-attrs'><dt><span>standard_name :</span></dt><dd>projection_x_coordinate</dd><dt><span>units :</span></dt><dd>meters</dd><dt><span>_CoordinateAxisType :</span></dt><dd>GeoX</dd><dt><span>_metpy_axis :</span></dt><dd>x</dd></dl></div><div class='xr-var-data'><pre>array([-2763204.5, -2760664.8, -2758125. , ...,  2676839. ,  2679379. ,\n",
       "        2681918.5], dtype=float32)</pre></div></li><li class='xr-var-item'><div class='xr-var-name'><span class='xr-has-index'>y</span></div><div class='xr-var-dims'>(y)</div><div class='xr-var-dtype'>float32</div><div class='xr-var-preview xr-preview'>-2.638e+05 -2.612e+05 ... 3.231e+06</div><input id='attrs-77d9224e-fe3b-44ed-858e-6783c5311ec5' class='xr-var-attrs-in' type='checkbox' ><label for='attrs-77d9224e-fe3b-44ed-858e-6783c5311ec5' title='Show/Hide attributes'><svg class='icon xr-icon-file-text2'><use xlink:href='#icon-file-text2'></use></svg></label><input id='data-d3050b43-fff7-4ed0-8427-9fdcedc3e5aa' class='xr-var-data-in' type='checkbox'><label for='data-d3050b43-fff7-4ed0-8427-9fdcedc3e5aa' title='Show/Hide data repr'><svg class='icon xr-icon-database'><use xlink:href='#icon-database'></use></svg></label><div class='xr-var-attrs'><dl class='xr-attrs'><dt><span>standard_name :</span></dt><dd>projection_y_coordinate</dd><dt><span>units :</span></dt><dd>meters</dd><dt><span>_CoordinateAxisType :</span></dt><dd>GeoY</dd><dt><span>_metpy_axis :</span></dt><dd>y</dd></dl></div><div class='xr-var-data'><pre>array([-263789.44, -261249.72, -258710.02, ..., 3225762.5 , 3228302.  ,\n",
       "       3230841.8 ], dtype=float32)</pre></div></li><li class='xr-var-item'><div class='xr-var-name'><span class='xr-has-index'>time2</span></div><div class='xr-var-dims'>(time2)</div><div class='xr-var-dtype'>datetime64[ns]</div><div class='xr-var-preview xr-preview'>2023-11-13T17:30:00 ... 2023-11-...</div><input id='attrs-17f1590d-1c2a-42a3-a909-f27139e47a11' class='xr-var-attrs-in' type='checkbox' ><label for='attrs-17f1590d-1c2a-42a3-a909-f27139e47a11' title='Show/Hide attributes'><svg class='icon xr-icon-file-text2'><use xlink:href='#icon-file-text2'></use></svg></label><input id='data-a20d0aa5-d760-4f91-9309-82d71796e57f' class='xr-var-data-in' type='checkbox'><label for='data-a20d0aa5-d760-4f91-9309-82d71796e57f' title='Show/Hide data repr'><svg class='icon xr-icon-database'><use xlink:href='#icon-database'></use></svg></label><div class='xr-var-attrs'><dl class='xr-attrs'><dt><span>standard_name :</span></dt><dd>time</dd><dt><span>long_name :</span></dt><dd>GRIB forecast or observation time</dd><dt><span>_CoordinateAxisType :</span></dt><dd>Time</dd><dt><span>_metpy_axis :</span></dt><dd>time</dd></dl></div><div class='xr-var-data'><pre>array([&#x27;2023-11-13T17:30:00.000000000&#x27;, &#x27;2023-11-13T18:30:00.000000000&#x27;,\n",
       "       &#x27;2023-11-13T19:30:00.000000000&#x27;, &#x27;2023-11-13T20:30:00.000000000&#x27;,\n",
       "       &#x27;2023-11-13T21:30:00.000000000&#x27;, &#x27;2023-11-13T22:30:00.000000000&#x27;,\n",
       "       &#x27;2023-11-13T23:30:00.000000000&#x27;, &#x27;2023-11-14T00:30:00.000000000&#x27;,\n",
       "       &#x27;2023-11-14T01:30:00.000000000&#x27;, &#x27;2023-11-14T02:30:00.000000000&#x27;,\n",
       "       &#x27;2023-11-14T03:30:00.000000000&#x27;, &#x27;2023-11-14T04:30:00.000000000&#x27;,\n",
       "       &#x27;2023-11-14T05:30:00.000000000&#x27;, &#x27;2023-11-14T06:30:00.000000000&#x27;,\n",
       "       &#x27;2023-11-14T07:30:00.000000000&#x27;, &#x27;2023-11-14T08:30:00.000000000&#x27;,\n",
       "       &#x27;2023-11-14T09:30:00.000000000&#x27;, &#x27;2023-11-14T10:30:00.000000000&#x27;,\n",
       "       &#x27;2023-11-14T11:30:00.000000000&#x27;, &#x27;2023-11-14T12:30:00.000000000&#x27;,\n",
       "       &#x27;2023-11-14T13:30:00.000000000&#x27;, &#x27;2023-11-14T14:30:00.000000000&#x27;,\n",
       "       &#x27;2023-11-14T15:30:00.000000000&#x27;, &#x27;2023-11-14T16:30:00.000000000&#x27;,\n",
       "       &#x27;2023-11-14T17:30:00.000000000&#x27;, &#x27;2023-11-14T18:30:00.000000000&#x27;,\n",
       "       &#x27;2023-11-14T19:30:00.000000000&#x27;, &#x27;2023-11-14T20:30:00.000000000&#x27;,\n",
       "       &#x27;2023-11-14T21:30:00.000000000&#x27;, &#x27;2023-11-14T22:30:00.000000000&#x27;,\n",
       "       &#x27;2023-11-14T23:30:00.000000000&#x27;, &#x27;2023-11-15T00:30:00.000000000&#x27;,\n",
       "       &#x27;2023-11-15T01:30:00.000000000&#x27;, &#x27;2023-11-15T02:30:00.000000000&#x27;,\n",
       "       &#x27;2023-11-15T03:30:00.000000000&#x27;, &#x27;2023-11-15T04:30:00.000000000&#x27;,\n",
       "       &#x27;2023-11-15T05:30:00.000000000&#x27;, &#x27;2023-11-15T08:30:00.000000000&#x27;,\n",
       "       &#x27;2023-11-15T11:30:00.000000000&#x27;, &#x27;2023-11-15T14:30:00.000000000&#x27;,\n",
       "       &#x27;2023-11-15T17:30:00.000000000&#x27;, &#x27;2023-11-15T20:30:00.000000000&#x27;,\n",
       "       &#x27;2023-11-15T23:30:00.000000000&#x27;], dtype=&#x27;datetime64[ns]&#x27;)</pre></div></li><li class='xr-var-item'><div class='xr-var-name'><span class='xr-has-index'>height_above_ground1</span></div><div class='xr-var-dims'>(height_above_ground1)</div><div class='xr-var-dtype'>float32</div><div class='xr-var-preview xr-preview'>2.0</div><input id='attrs-6c30b6dd-4b29-42d2-85f6-caac99c043a6' class='xr-var-attrs-in' type='checkbox' ><label for='attrs-6c30b6dd-4b29-42d2-85f6-caac99c043a6' title='Show/Hide attributes'><svg class='icon xr-icon-file-text2'><use xlink:href='#icon-file-text2'></use></svg></label><input id='data-026a95ad-4db4-4c2f-b05f-3d60a8517146' class='xr-var-data-in' type='checkbox'><label for='data-026a95ad-4db4-4c2f-b05f-3d60a8517146' title='Show/Hide data repr'><svg class='icon xr-icon-database'><use xlink:href='#icon-database'></use></svg></label><div class='xr-var-attrs'><dl class='xr-attrs'><dt><span>units :</span></dt><dd>m</dd><dt><span>long_name :</span></dt><dd>Specified height level above ground</dd><dt><span>positive :</span></dt><dd>up</dd><dt><span>Grib_level_type :</span></dt><dd>103</dd><dt><span>datum :</span></dt><dd>ground</dd><dt><span>_CoordinateAxisType :</span></dt><dd>Height</dd><dt><span>_CoordinateZisPositive :</span></dt><dd>up</dd><dt><span>_metpy_axis :</span></dt><dd>vertical</dd></dl></div><div class='xr-var-data'><pre>array([2.], dtype=float32)</pre></div></li><li class='xr-var-item'><div class='xr-var-name'><span>metpy_crs</span></div><div class='xr-var-dims'>()</div><div class='xr-var-dtype'>object</div><div class='xr-var-preview xr-preview'>Projection: lambert_conformal_conic</div><input id='attrs-ac441fc1-d2bf-4549-a3c1-e6a59306aabc' class='xr-var-attrs-in' type='checkbox' disabled><label for='attrs-ac441fc1-d2bf-4549-a3c1-e6a59306aabc' title='Show/Hide attributes'><svg class='icon xr-icon-file-text2'><use xlink:href='#icon-file-text2'></use></svg></label><input id='data-1b36fe77-9d93-411b-955c-3282ec73af34' class='xr-var-data-in' type='checkbox'><label for='data-1b36fe77-9d93-411b-955c-3282ec73af34' title='Show/Hide data repr'><svg class='icon xr-icon-database'><use xlink:href='#icon-database'></use></svg></label><div class='xr-var-attrs'><dl class='xr-attrs'></dl></div><div class='xr-var-data'><pre>array(&lt;metpy.plots.mapping.CFProjection object at 0x7f0ccf6912d0&gt;,\n",
       "      dtype=object)</pre></div></li><li class='xr-var-item'><div class='xr-var-name'><span class='xr-has-index'>height_above_ground</span></div><div class='xr-var-dims'>(height_above_ground)</div><div class='xr-var-dtype'>float32</div><div class='xr-var-preview xr-preview'>10.0</div><input id='attrs-ebb64997-afa2-42e7-9280-93d552dc54c4' class='xr-var-attrs-in' type='checkbox' ><label for='attrs-ebb64997-afa2-42e7-9280-93d552dc54c4' title='Show/Hide attributes'><svg class='icon xr-icon-file-text2'><use xlink:href='#icon-file-text2'></use></svg></label><input id='data-bf2ae2ee-cb4b-4e3f-a749-d95cbb74cbb3' class='xr-var-data-in' type='checkbox'><label for='data-bf2ae2ee-cb4b-4e3f-a749-d95cbb74cbb3' title='Show/Hide data repr'><svg class='icon xr-icon-database'><use xlink:href='#icon-database'></use></svg></label><div class='xr-var-attrs'><dl class='xr-attrs'><dt><span>units :</span></dt><dd>m</dd><dt><span>long_name :</span></dt><dd>Specified height level above ground</dd><dt><span>positive :</span></dt><dd>up</dd><dt><span>Grib_level_type :</span></dt><dd>103</dd><dt><span>datum :</span></dt><dd>ground</dd><dt><span>_CoordinateAxisType :</span></dt><dd>Height</dd><dt><span>_CoordinateZisPositive :</span></dt><dd>up</dd><dt><span>_metpy_axis :</span></dt><dd>vertical</dd></dl></div><div class='xr-var-data'><pre>array([10.], dtype=float32)</pre></div></li><li class='xr-var-item'><div class='xr-var-name'><span>latitude</span></div><div class='xr-var-dims'>(y, x)</div><div class='xr-var-dtype'>float64</div><div class='xr-var-preview xr-preview'>20.19 20.2 20.2 ... 50.11 50.11</div><input id='attrs-8d33f28c-1009-41e8-82f0-7ca3e6ef4901' class='xr-var-attrs-in' type='checkbox' ><label for='attrs-8d33f28c-1009-41e8-82f0-7ca3e6ef4901' title='Show/Hide attributes'><svg class='icon xr-icon-file-text2'><use xlink:href='#icon-file-text2'></use></svg></label><input id='data-fad2fdfb-c899-4e1b-9294-73c83a795307' class='xr-var-data-in' type='checkbox'><label for='data-fad2fdfb-c899-4e1b-9294-73c83a795307' title='Show/Hide data repr'><svg class='icon xr-icon-database'><use xlink:href='#icon-database'></use></svg></label><div class='xr-var-attrs'><dl class='xr-attrs'><dt><span>units :</span></dt><dd>degrees_north</dd><dt><span>standard_name :</span></dt><dd>latitude</dd></dl></div><div class='xr-var-data'><pre>array([[20.19199927, 20.19642684, 20.20085052, ..., 20.34037539,\n",
       "        20.33607604, 20.33177362],\n",
       "       [20.21432455, 20.21875304, 20.22317764, ..., 20.36273143,\n",
       "        20.35843118, 20.35412788],\n",
       "       [20.23665025, 20.24107966, 20.24550517, ..., 20.38508788,\n",
       "        20.38078674, 20.37648254],\n",
       "       ...,\n",
       "       [49.90001459, 49.90526935, 49.91051933, ..., 50.07602605,\n",
       "        50.07092841, 50.06582698],\n",
       "       [49.9198682 , 49.92512318, 49.93037339, ..., 50.09588718,\n",
       "        50.09078932, 50.08568768],\n",
       "       [49.93971979, 49.94497499, 49.95022543, ..., 50.11574627,\n",
       "        50.11064819, 50.10554633]])</pre></div></li><li class='xr-var-item'><div class='xr-var-name'><span>longitude</span></div><div class='xr-var-dims'>(y, x)</div><div class='xr-var-dtype'>float64</div><div class='xr-var-preview xr-preview'>-121.6 -121.5 ... -60.92 -60.89</div><input id='attrs-ad610ba1-af5b-48f0-a9ba-9799a3bbc96e' class='xr-var-attrs-in' type='checkbox' ><label for='attrs-ad610ba1-af5b-48f0-a9ba-9799a3bbc96e' title='Show/Hide attributes'><svg class='icon xr-icon-file-text2'><use xlink:href='#icon-file-text2'></use></svg></label><input id='data-8ea9f07b-888a-417a-a0e3-71d3660e2837' class='xr-var-data-in' type='checkbox'><label for='data-8ea9f07b-888a-417a-a0e3-71d3660e2837' title='Show/Hide data repr'><svg class='icon xr-icon-database'><use xlink:href='#icon-database'></use></svg></label><div class='xr-var-attrs'><dl class='xr-attrs'><dt><span>units :</span></dt><dd>degrees_east</dd><dt><span>standard_name :</span></dt><dd>longitude</dd></dl></div><div class='xr-var-data'><pre>array([[-121.55400107, -121.53021304, -121.50642335, ...,  -69.25584397,\n",
       "         -69.23199966,  -69.20816166],\n",
       "       [-121.55872141, -121.53492937, -121.51113567, ...,  -69.25126048,\n",
       "         -69.22741213,  -69.20357009],\n",
       "       [-121.56344338, -121.53964733, -121.51584962, ...,  -69.2466754 ,\n",
       "         -69.22282301,  -69.19897694],\n",
       "       ...,\n",
       "       [-130.08710771, -130.05627705, -130.02544269, ...,  -60.96337083,\n",
       "         -60.93241604,  -60.90147098],\n",
       "       [-130.09527046, -130.06443329, -130.0335924 , ...,  -60.9554312 ,\n",
       "         -60.92446981,  -60.89351815],\n",
       "       [-130.10343773, -130.07259403, -130.04174662, ...,  -60.94748716,\n",
       "         -60.91651917,  -60.88556091]])</pre></div></li></ul></div></li><li class='xr-section-item'><input id='section-77f7d60d-b8ae-4fe7-9ea0-b574925a5a65' class='xr-section-summary-in' type='checkbox'  ><label for='section-77f7d60d-b8ae-4fe7-9ea0-b574925a5a65' class='xr-section-summary' >Data variables: <span>(20)</span></label><div class='xr-section-inline-details'></div><div class='xr-section-details'><ul class='xr-var-list'><li class='xr-var-item'><div class='xr-var-name'><span>LambertConformal_Projection</span></div><div class='xr-var-dims'>()</div><div class='xr-var-dtype'>int32</div><div class='xr-var-preview xr-preview'>...</div><input id='attrs-a7438a0a-44fe-4619-8734-55a3ad1f82cc' class='xr-var-attrs-in' type='checkbox' ><label for='attrs-a7438a0a-44fe-4619-8734-55a3ad1f82cc' title='Show/Hide attributes'><svg class='icon xr-icon-file-text2'><use xlink:href='#icon-file-text2'></use></svg></label><input id='data-7a93ff40-7f4b-458d-9a66-217fac5d323e' class='xr-var-data-in' type='checkbox'><label for='data-7a93ff40-7f4b-458d-9a66-217fac5d323e' title='Show/Hide data repr'><svg class='icon xr-icon-database'><use xlink:href='#icon-database'></use></svg></label><div class='xr-var-attrs'><dl class='xr-attrs'><dt><span>grid_mapping_name :</span></dt><dd>lambert_conformal_conic</dd><dt><span>latitude_of_projection_origin :</span></dt><dd>25.0</dd><dt><span>longitude_of_central_meridian :</span></dt><dd>265.0</dd><dt><span>standard_parallel :</span></dt><dd>25.0</dd><dt><span>earth_radius :</span></dt><dd>6371200.0</dd><dt><span>_CoordinateTransformType :</span></dt><dd>Projection</dd><dt><span>_CoordinateAxisTypes :</span></dt><dd>GeoX GeoY</dd></dl></div><div class='xr-var-data'><pre>[1 values with dtype=int32]</pre></div></li><li class='xr-var-item'><div class='xr-var-name'><span>time_bounds</span></div><div class='xr-var-dims'>(time, time_bounds_1)</div><div class='xr-var-dtype'>datetime64[ns]</div><div class='xr-var-preview xr-preview'>...</div><input id='attrs-d6cba6a1-e728-4e5b-82c5-5e57ad36e863' class='xr-var-attrs-in' type='checkbox' ><label for='attrs-d6cba6a1-e728-4e5b-82c5-5e57ad36e863' title='Show/Hide attributes'><svg class='icon xr-icon-file-text2'><use xlink:href='#icon-file-text2'></use></svg></label><input id='data-decf3a52-a29a-44bf-92b0-9ae350ffb50d' class='xr-var-data-in' type='checkbox'><label for='data-decf3a52-a29a-44bf-92b0-9ae350ffb50d' title='Show/Hide data repr'><svg class='icon xr-icon-database'><use xlink:href='#icon-database'></use></svg></label><div class='xr-var-attrs'><dl class='xr-attrs'><dt><span>long_name :</span></dt><dd>bounds for time</dd></dl></div><div class='xr-var-data'><pre>[24 values with dtype=datetime64[ns]]</pre></div></li><li class='xr-var-item'><div class='xr-var-name'><span>time1_bounds</span></div><div class='xr-var-dims'>(time1, time1_bounds_1)</div><div class='xr-var-dtype'>datetime64[ns]</div><div class='xr-var-preview xr-preview'>...</div><input id='attrs-eec652b2-aae8-408e-96d3-e002556e58eb' class='xr-var-attrs-in' type='checkbox' ><label for='attrs-eec652b2-aae8-408e-96d3-e002556e58eb' title='Show/Hide attributes'><svg class='icon xr-icon-file-text2'><use xlink:href='#icon-file-text2'></use></svg></label><input id='data-20459b6f-a49a-44cb-bcea-5fbaa40dcb83' class='xr-var-data-in' type='checkbox'><label for='data-20459b6f-a49a-44cb-bcea-5fbaa40dcb83' title='Show/Hide data repr'><svg class='icon xr-icon-database'><use xlink:href='#icon-database'></use></svg></label><div class='xr-var-attrs'><dl class='xr-attrs'><dt><span>long_name :</span></dt><dd>bounds for time1</dd></dl></div><div class='xr-var-data'><pre>[10 values with dtype=datetime64[ns]]</pre></div></li><li class='xr-var-item'><div class='xr-var-name'><span>time3_bounds</span></div><div class='xr-var-dims'>(time3, time3_bounds_1)</div><div class='xr-var-dtype'>datetime64[ns]</div><div class='xr-var-preview xr-preview'>...</div><input id='attrs-9f84e8fc-9e86-4ee8-bcec-4d5e19dab7cd' class='xr-var-attrs-in' type='checkbox' ><label for='attrs-9f84e8fc-9e86-4ee8-bcec-4d5e19dab7cd' title='Show/Hide attributes'><svg class='icon xr-icon-file-text2'><use xlink:href='#icon-file-text2'></use></svg></label><input id='data-07845a5b-14a2-427f-9590-9b88910a27da' class='xr-var-data-in' type='checkbox'><label for='data-07845a5b-14a2-427f-9590-9b88910a27da' title='Show/Hide data repr'><svg class='icon xr-icon-database'><use xlink:href='#icon-database'></use></svg></label><div class='xr-var-attrs'><dl class='xr-attrs'><dt><span>long_name :</span></dt><dd>bounds for time3</dd></dl></div><div class='xr-var-data'><pre>[4 values with dtype=datetime64[ns]]</pre></div></li><li class='xr-var-item'><div class='xr-var-name'><span>time4_bounds</span></div><div class='xr-var-dims'>(time4, time4_bounds_1)</div><div class='xr-var-dtype'>datetime64[ns]</div><div class='xr-var-preview xr-preview'>...</div><input id='attrs-54c3ae0d-a4c0-4f36-b92b-124592dac759' class='xr-var-attrs-in' type='checkbox' ><label for='attrs-54c3ae0d-a4c0-4f36-b92b-124592dac759' title='Show/Hide attributes'><svg class='icon xr-icon-file-text2'><use xlink:href='#icon-file-text2'></use></svg></label><input id='data-af9e9a51-cb6b-4cdb-94c2-aad774171f9e' class='xr-var-data-in' type='checkbox'><label for='data-af9e9a51-cb6b-4cdb-94c2-aad774171f9e' title='Show/Hide data repr'><svg class='icon xr-icon-database'><use xlink:href='#icon-database'></use></svg></label><div class='xr-var-attrs'><dl class='xr-attrs'><dt><span>long_name :</span></dt><dd>bounds for time4</dd></dl></div><div class='xr-var-data'><pre>[6 values with dtype=datetime64[ns]]</pre></div></li><li class='xr-var-item'><div class='xr-var-name'><span>Dewpoint_temperature_height_above_ground</span></div><div class='xr-var-dims'>(time2, height_above_ground1, y, x)</div><div class='xr-var-dtype'>float32</div><div class='xr-var-preview xr-preview'>...</div><input id='attrs-b56655c6-b846-42f4-a893-59a0532c7de6' class='xr-var-attrs-in' type='checkbox' ><label for='attrs-b56655c6-b846-42f4-a893-59a0532c7de6' title='Show/Hide attributes'><svg class='icon xr-icon-file-text2'><use xlink:href='#icon-file-text2'></use></svg></label><input id='data-8c1ca890-d63a-4ad9-9777-0624c2ce1b14' class='xr-var-data-in' type='checkbox'><label for='data-8c1ca890-d63a-4ad9-9777-0624c2ce1b14' title='Show/Hide data repr'><svg class='icon xr-icon-database'><use xlink:href='#icon-database'></use></svg></label><div class='xr-var-attrs'><dl class='xr-attrs'><dt><span>long_name :</span></dt><dd>Dewpoint temperature @ Specified height level above ground</dd><dt><span>units :</span></dt><dd>K</dd><dt><span>description :</span></dt><dd>Dewpoint temperature</dd><dt><span>grid_mapping :</span></dt><dd>LambertConformal_Projection</dd><dt><span>Grib_Variable_Id :</span></dt><dd>VAR_0-0-6_L103</dd><dt><span>Grib2_Parameter :</span></dt><dd>[0 0 6]</dd><dt><span>Grib2_Parameter_Discipline :</span></dt><dd>Meteorological products</dd><dt><span>Grib2_Parameter_Category :</span></dt><dd>Temperature</dd><dt><span>Grib2_Parameter_Name :</span></dt><dd>Dewpoint temperature</dd><dt><span>Grib2_Level_Type :</span></dt><dd>103</dd><dt><span>Grib2_Level_Desc :</span></dt><dd>Specified height level above ground</dd><dt><span>Grib2_Generating_Process_Type :</span></dt><dd>Forecast</dd><dt><span>Grib2_Statistical_Process_Type :</span></dt><dd>UnknownStatType--1</dd></dl></div><div class='xr-var-data'><pre>[127007595 values with dtype=float32]</pre></div></li><li class='xr-var-item'><div class='xr-var-name'><span>Maximum_temperature_height_above_ground_12_Hour_Maximum</span></div><div class='xr-var-dims'>(time4, height_above_ground1, y, x)</div><div class='xr-var-dtype'>float32</div><div class='xr-var-preview xr-preview'>...</div><input id='attrs-09561e8a-075b-4970-8c49-bfcf1c4f1446' class='xr-var-attrs-in' type='checkbox' ><label for='attrs-09561e8a-075b-4970-8c49-bfcf1c4f1446' title='Show/Hide attributes'><svg class='icon xr-icon-file-text2'><use xlink:href='#icon-file-text2'></use></svg></label><input id='data-706bd37b-4be7-43d7-9d75-d8b0597f4604' class='xr-var-data-in' type='checkbox'><label for='data-706bd37b-4be7-43d7-9d75-d8b0597f4604' title='Show/Hide data repr'><svg class='icon xr-icon-database'><use xlink:href='#icon-database'></use></svg></label><div class='xr-var-attrs'><dl class='xr-attrs'><dt><span>long_name :</span></dt><dd>Maximum temperature (12_Hour Maximum) @ Specified height level above ground</dd><dt><span>units :</span></dt><dd>K</dd><dt><span>description :</span></dt><dd>Maximum temperature</dd><dt><span>grid_mapping :</span></dt><dd>LambertConformal_Projection</dd><dt><span>Grib_Statistical_Interval_Type :</span></dt><dd>Maximum</dd><dt><span>Grib_Variable_Id :</span></dt><dd>VAR_0-0-4_L103_I12_Hour_S2</dd><dt><span>Grib2_Parameter :</span></dt><dd>[0 0 4]</dd><dt><span>Grib2_Parameter_Discipline :</span></dt><dd>Meteorological products</dd><dt><span>Grib2_Parameter_Category :</span></dt><dd>Temperature</dd><dt><span>Grib2_Parameter_Name :</span></dt><dd>Maximum temperature</dd><dt><span>Grib2_Level_Type :</span></dt><dd>103</dd><dt><span>Grib2_Level_Desc :</span></dt><dd>Specified height level above ground</dd><dt><span>Grib2_Generating_Process_Type :</span></dt><dd>Forecast</dd><dt><span>Grib2_Statistical_Process_Type :</span></dt><dd>Maximum</dd></dl></div><div class='xr-var-data'><pre>[8860995 values with dtype=float32]</pre></div></li><li class='xr-var-item'><div class='xr-var-name'><span>Minimum_temperature_height_above_ground_12_Hour_Minimum</span></div><div class='xr-var-dims'>(time3, height_above_ground1, y, x)</div><div class='xr-var-dtype'>float32</div><div class='xr-var-preview xr-preview'>...</div><input id='attrs-2b528265-4387-4276-ac3e-da5cb44f4b08' class='xr-var-attrs-in' type='checkbox' ><label for='attrs-2b528265-4387-4276-ac3e-da5cb44f4b08' title='Show/Hide attributes'><svg class='icon xr-icon-file-text2'><use xlink:href='#icon-file-text2'></use></svg></label><input id='data-289463ff-6b03-4a68-86ef-fb5023490185' class='xr-var-data-in' type='checkbox'><label for='data-289463ff-6b03-4a68-86ef-fb5023490185' title='Show/Hide data repr'><svg class='icon xr-icon-database'><use xlink:href='#icon-database'></use></svg></label><div class='xr-var-attrs'><dl class='xr-attrs'><dt><span>long_name :</span></dt><dd>Minimum temperature (12_Hour Minimum) @ Specified height level above ground</dd><dt><span>units :</span></dt><dd>K</dd><dt><span>description :</span></dt><dd>Minimum temperature</dd><dt><span>grid_mapping :</span></dt><dd>LambertConformal_Projection</dd><dt><span>Grib_Statistical_Interval_Type :</span></dt><dd>Minimum</dd><dt><span>Grib_Variable_Id :</span></dt><dd>VAR_0-0-5_L103_I12_Hour_S3</dd><dt><span>Grib2_Parameter :</span></dt><dd>[0 0 5]</dd><dt><span>Grib2_Parameter_Discipline :</span></dt><dd>Meteorological products</dd><dt><span>Grib2_Parameter_Category :</span></dt><dd>Temperature</dd><dt><span>Grib2_Parameter_Name :</span></dt><dd>Minimum temperature</dd><dt><span>Grib2_Level_Type :</span></dt><dd>103</dd><dt><span>Grib2_Level_Desc :</span></dt><dd>Specified height level above ground</dd><dt><span>Grib2_Generating_Process_Type :</span></dt><dd>Forecast</dd><dt><span>Grib2_Statistical_Process_Type :</span></dt><dd>Minimum</dd></dl></div><div class='xr-var-data'><pre>[5907330 values with dtype=float32]</pre></div></li><li class='xr-var-item'><div class='xr-var-name'><span>Relative_humidity_height_above_ground</span></div><div class='xr-var-dims'>(time2, height_above_ground1, y, x)</div><div class='xr-var-dtype'>float32</div><div class='xr-var-preview xr-preview'>...</div><input id='attrs-67078557-87b6-4e16-82b5-03d24a3cfd09' class='xr-var-attrs-in' type='checkbox' ><label for='attrs-67078557-87b6-4e16-82b5-03d24a3cfd09' title='Show/Hide attributes'><svg class='icon xr-icon-file-text2'><use xlink:href='#icon-file-text2'></use></svg></label><input id='data-9289fb34-adab-4984-95df-08189e6b9f20' class='xr-var-data-in' type='checkbox'><label for='data-9289fb34-adab-4984-95df-08189e6b9f20' title='Show/Hide data repr'><svg class='icon xr-icon-database'><use xlink:href='#icon-database'></use></svg></label><div class='xr-var-attrs'><dl class='xr-attrs'><dt><span>long_name :</span></dt><dd>Relative humidity @ Specified height level above ground</dd><dt><span>units :</span></dt><dd>%</dd><dt><span>description :</span></dt><dd>Relative humidity</dd><dt><span>grid_mapping :</span></dt><dd>LambertConformal_Projection</dd><dt><span>Grib_Variable_Id :</span></dt><dd>VAR_0-1-1_L103</dd><dt><span>Grib2_Parameter :</span></dt><dd>[0 1 1]</dd><dt><span>Grib2_Parameter_Discipline :</span></dt><dd>Meteorological products</dd><dt><span>Grib2_Parameter_Category :</span></dt><dd>Moisture</dd><dt><span>Grib2_Parameter_Name :</span></dt><dd>Relative humidity</dd><dt><span>Grib2_Level_Type :</span></dt><dd>103</dd><dt><span>Grib2_Level_Desc :</span></dt><dd>Specified height level above ground</dd><dt><span>Grib2_Generating_Process_Type :</span></dt><dd>Forecast</dd><dt><span>Grib2_Statistical_Process_Type :</span></dt><dd>UnknownStatType--1</dd></dl></div><div class='xr-var-data'><pre>[127007595 values with dtype=float32]</pre></div></li><li class='xr-var-item'><div class='xr-var-name'><span>Significant_height_of_wind_waves_surface</span></div><div class='xr-var-dims'>(time2, y, x)</div><div class='xr-var-dtype'>float32</div><div class='xr-var-preview xr-preview'>...</div><input id='attrs-7710dd32-d58e-4716-bec2-d0ecc327adc1' class='xr-var-attrs-in' type='checkbox' ><label for='attrs-7710dd32-d58e-4716-bec2-d0ecc327adc1' title='Show/Hide attributes'><svg class='icon xr-icon-file-text2'><use xlink:href='#icon-file-text2'></use></svg></label><input id='data-75cb35ba-da52-4a50-9fdf-b80ccb7c87e5' class='xr-var-data-in' type='checkbox'><label for='data-75cb35ba-da52-4a50-9fdf-b80ccb7c87e5' title='Show/Hide data repr'><svg class='icon xr-icon-database'><use xlink:href='#icon-database'></use></svg></label><div class='xr-var-attrs'><dl class='xr-attrs'><dt><span>long_name :</span></dt><dd>Significant height of wind waves @ Ground or water surface</dd><dt><span>units :</span></dt><dd>m</dd><dt><span>description :</span></dt><dd>Significant height of wind waves</dd><dt><span>grid_mapping :</span></dt><dd>LambertConformal_Projection</dd><dt><span>Grib_Variable_Id :</span></dt><dd>VAR_10-0-5_L1</dd><dt><span>Grib2_Parameter :</span></dt><dd>[10  0  5]</dd><dt><span>Grib2_Parameter_Discipline :</span></dt><dd>Oceanographic products</dd><dt><span>Grib2_Parameter_Category :</span></dt><dd>Waves</dd><dt><span>Grib2_Parameter_Name :</span></dt><dd>Significant height of wind waves</dd><dt><span>Grib2_Level_Type :</span></dt><dd>1</dd><dt><span>Grib2_Level_Desc :</span></dt><dd>Ground or water surface</dd><dt><span>Grib2_Generating_Process_Type :</span></dt><dd>Forecast</dd><dt><span>Grib2_Statistical_Process_Type :</span></dt><dd>UnknownStatType--1</dd></dl></div><div class='xr-var-data'><pre>[127007595 values with dtype=float32]</pre></div></li><li class='xr-var-item'><div class='xr-var-name'><span>Temperature_height_above_ground</span></div><div class='xr-var-dims'>(time2, height_above_ground1, y, x)</div><div class='xr-var-dtype'>float32</div><div class='xr-var-preview xr-preview'>...</div><input id='attrs-5b9ce085-55d0-449a-be53-224bc79d5658' class='xr-var-attrs-in' type='checkbox' ><label for='attrs-5b9ce085-55d0-449a-be53-224bc79d5658' title='Show/Hide attributes'><svg class='icon xr-icon-file-text2'><use xlink:href='#icon-file-text2'></use></svg></label><input id='data-95aba8bc-141a-403f-9d72-84b88fcd6e2b' class='xr-var-data-in' type='checkbox'><label for='data-95aba8bc-141a-403f-9d72-84b88fcd6e2b' title='Show/Hide data repr'><svg class='icon xr-icon-database'><use xlink:href='#icon-database'></use></svg></label><div class='xr-var-attrs'><dl class='xr-attrs'><dt><span>long_name :</span></dt><dd>Temperature @ Specified height level above ground</dd><dt><span>units :</span></dt><dd>K</dd><dt><span>description :</span></dt><dd>Temperature</dd><dt><span>grid_mapping :</span></dt><dd>LambertConformal_Projection</dd><dt><span>Grib_Variable_Id :</span></dt><dd>VAR_0-0-0_L103</dd><dt><span>Grib2_Parameter :</span></dt><dd>[0 0 0]</dd><dt><span>Grib2_Parameter_Discipline :</span></dt><dd>Meteorological products</dd><dt><span>Grib2_Parameter_Category :</span></dt><dd>Temperature</dd><dt><span>Grib2_Parameter_Name :</span></dt><dd>Temperature</dd><dt><span>Grib2_Level_Type :</span></dt><dd>103</dd><dt><span>Grib2_Level_Desc :</span></dt><dd>Specified height level above ground</dd><dt><span>Grib2_Generating_Process_Type :</span></dt><dd>Forecast</dd><dt><span>Grib2_Statistical_Process_Type :</span></dt><dd>UnknownStatType--1</dd></dl></div><div class='xr-var-data'><pre>[127007595 values with dtype=float32]</pre></div></li><li class='xr-var-item'><div class='xr-var-name'><span>Total_cloud_cover_surface</span></div><div class='xr-var-dims'>(time2, y, x)</div><div class='xr-var-dtype'>float32</div><div class='xr-var-preview xr-preview'>...</div><input id='attrs-6452d529-e4cb-44de-a6c9-0e6d5a6fe8ba' class='xr-var-attrs-in' type='checkbox' ><label for='attrs-6452d529-e4cb-44de-a6c9-0e6d5a6fe8ba' title='Show/Hide attributes'><svg class='icon xr-icon-file-text2'><use xlink:href='#icon-file-text2'></use></svg></label><input id='data-a50cb2d3-d39c-4e14-b1a5-8727f94fa49b' class='xr-var-data-in' type='checkbox'><label for='data-a50cb2d3-d39c-4e14-b1a5-8727f94fa49b' title='Show/Hide data repr'><svg class='icon xr-icon-database'><use xlink:href='#icon-database'></use></svg></label><div class='xr-var-attrs'><dl class='xr-attrs'><dt><span>long_name :</span></dt><dd>Total cloud cover @ Ground or water surface</dd><dt><span>units :</span></dt><dd>%</dd><dt><span>description :</span></dt><dd>Total cloud cover</dd><dt><span>grid_mapping :</span></dt><dd>LambertConformal_Projection</dd><dt><span>Grib_Variable_Id :</span></dt><dd>VAR_0-6-1_L1</dd><dt><span>Grib2_Parameter :</span></dt><dd>[0 6 1]</dd><dt><span>Grib2_Parameter_Discipline :</span></dt><dd>Meteorological products</dd><dt><span>Grib2_Parameter_Category :</span></dt><dd>Cloud</dd><dt><span>Grib2_Parameter_Name :</span></dt><dd>Total cloud cover</dd><dt><span>Grib2_Level_Type :</span></dt><dd>1</dd><dt><span>Grib2_Level_Desc :</span></dt><dd>Ground or water surface</dd><dt><span>Grib2_Generating_Process_Type :</span></dt><dd>Forecast</dd><dt><span>Grib2_Statistical_Process_Type :</span></dt><dd>UnknownStatType--1</dd></dl></div><div class='xr-var-data'><pre>[127007595 values with dtype=float32]</pre></div></li><li class='xr-var-item'><div class='xr-var-name'><span>Total_precipitation_surface_6_Hour_Accumulation</span></div><div class='xr-var-dims'>(time, y, x)</div><div class='xr-var-dtype'>float32</div><div class='xr-var-preview xr-preview'>...</div><input id='attrs-48be8944-810b-464d-8c57-8f4daa52f0af' class='xr-var-attrs-in' type='checkbox' ><label for='attrs-48be8944-810b-464d-8c57-8f4daa52f0af' title='Show/Hide attributes'><svg class='icon xr-icon-file-text2'><use xlink:href='#icon-file-text2'></use></svg></label><input id='data-36c3a941-b250-4ee9-849d-e8fea178c808' class='xr-var-data-in' type='checkbox'><label for='data-36c3a941-b250-4ee9-849d-e8fea178c808' title='Show/Hide data repr'><svg class='icon xr-icon-database'><use xlink:href='#icon-database'></use></svg></label><div class='xr-var-attrs'><dl class='xr-attrs'><dt><span>long_name :</span></dt><dd>Total precipitation (6_Hour Accumulation) @ Ground or water surface</dd><dt><span>units :</span></dt><dd>kg.m-2</dd><dt><span>description :</span></dt><dd>Total precipitation</dd><dt><span>grid_mapping :</span></dt><dd>LambertConformal_Projection</dd><dt><span>Grib_Statistical_Interval_Type :</span></dt><dd>Accumulation</dd><dt><span>Grib_Variable_Id :</span></dt><dd>VAR_0-1-8_L1_I6_Hour_S1</dd><dt><span>Grib2_Parameter :</span></dt><dd>[0 1 8]</dd><dt><span>Grib2_Parameter_Discipline :</span></dt><dd>Meteorological products</dd><dt><span>Grib2_Parameter_Category :</span></dt><dd>Moisture</dd><dt><span>Grib2_Parameter_Name :</span></dt><dd>Total precipitation</dd><dt><span>Grib2_Level_Type :</span></dt><dd>1</dd><dt><span>Grib2_Level_Desc :</span></dt><dd>Ground or water surface</dd><dt><span>Grib2_Generating_Process_Type :</span></dt><dd>Forecast</dd><dt><span>Grib2_Statistical_Process_Type :</span></dt><dd>Accumulation</dd></dl></div><div class='xr-var-data'><pre>[35443980 values with dtype=float32]</pre></div></li><li class='xr-var-item'><div class='xr-var-name'><span>Total_precipitation_surface_12_Hour_Accumulation_probability_above_0p254</span></div><div class='xr-var-dims'>(time1, y, x)</div><div class='xr-var-dtype'>float32</div><div class='xr-var-preview xr-preview'>...</div><input id='attrs-8a963873-7989-4e19-a1ce-405a231fb6cd' class='xr-var-attrs-in' type='checkbox' ><label for='attrs-8a963873-7989-4e19-a1ce-405a231fb6cd' title='Show/Hide attributes'><svg class='icon xr-icon-file-text2'><use xlink:href='#icon-file-text2'></use></svg></label><input id='data-dd51076e-2bea-4f08-8446-5b964d42705f' class='xr-var-data-in' type='checkbox'><label for='data-dd51076e-2bea-4f08-8446-5b964d42705f' title='Show/Hide data repr'><svg class='icon xr-icon-database'><use xlink:href='#icon-database'></use></svg></label><div class='xr-var-attrs'><dl class='xr-attrs'><dt><span>long_name :</span></dt><dd>Probability Total precipitation (12_Hour Accumulation) above_0.254 kg.m-2 @ Ground or water surface</dd><dt><span>units :</span></dt><dd>%</dd><dt><span>description :</span></dt><dd>Total precipitation</dd><dt><span>grid_mapping :</span></dt><dd>LambertConformal_Projection</dd><dt><span>Grib_Statistical_Interval_Type :</span></dt><dd>Accumulation</dd><dt><span>Grib_Variable_Id :</span></dt><dd>VAR_0-1-8_L1_I12_Hour_S1_Prob_above_0p254</dd><dt><span>Grib2_Parameter :</span></dt><dd>[0 1 8]</dd><dt><span>Grib2_Parameter_Discipline :</span></dt><dd>Meteorological products</dd><dt><span>Grib2_Parameter_Category :</span></dt><dd>Moisture</dd><dt><span>Grib2_Parameter_Name :</span></dt><dd>Total precipitation</dd><dt><span>Grib2_Level_Type :</span></dt><dd>1</dd><dt><span>Grib2_Level_Desc :</span></dt><dd>Ground or water surface</dd><dt><span>Grib2_Probability_Type :</span></dt><dd>1</dd><dt><span>Grib2_Probability_Name :</span></dt><dd>above_0.254</dd><dt><span>Grib2_Generating_Process_Type :</span></dt><dd>Forecast</dd><dt><span>Grib2_Statistical_Process_Type :</span></dt><dd>Accumulation</dd></dl></div><div class='xr-var-data'><pre>[14768325 values with dtype=float32]</pre></div></li><li class='xr-var-item'><div class='xr-var-name'><span>Total_snowfall_surface_6_Hour_Accumulation</span></div><div class='xr-var-dims'>(time, y, x)</div><div class='xr-var-dtype'>float32</div><div class='xr-var-preview xr-preview'>...</div><input id='attrs-ab550d18-59bc-4e3b-b13b-6ac8d6a13a7c' class='xr-var-attrs-in' type='checkbox' ><label for='attrs-ab550d18-59bc-4e3b-b13b-6ac8d6a13a7c' title='Show/Hide attributes'><svg class='icon xr-icon-file-text2'><use xlink:href='#icon-file-text2'></use></svg></label><input id='data-4e144bbe-7170-4b2d-a4e5-d4168f9ce31c' class='xr-var-data-in' type='checkbox'><label for='data-4e144bbe-7170-4b2d-a4e5-d4168f9ce31c' title='Show/Hide data repr'><svg class='icon xr-icon-database'><use xlink:href='#icon-database'></use></svg></label><div class='xr-var-attrs'><dl class='xr-attrs'><dt><span>long_name :</span></dt><dd>Total snowfall (6_Hour Accumulation) @ Ground or water surface</dd><dt><span>units :</span></dt><dd>m</dd><dt><span>description :</span></dt><dd>Total snowfall</dd><dt><span>grid_mapping :</span></dt><dd>LambertConformal_Projection</dd><dt><span>Grib_Statistical_Interval_Type :</span></dt><dd>Accumulation</dd><dt><span>Grib_Variable_Id :</span></dt><dd>VAR_0-1-29_L1_I6_Hour_S1</dd><dt><span>Grib2_Parameter :</span></dt><dd>[ 0  1 29]</dd><dt><span>Grib2_Parameter_Discipline :</span></dt><dd>Meteorological products</dd><dt><span>Grib2_Parameter_Category :</span></dt><dd>Moisture</dd><dt><span>Grib2_Parameter_Name :</span></dt><dd>Total snowfall</dd><dt><span>Grib2_Level_Type :</span></dt><dd>1</dd><dt><span>Grib2_Level_Desc :</span></dt><dd>Ground or water surface</dd><dt><span>Grib2_Generating_Process_Type :</span></dt><dd>Forecast</dd><dt><span>Grib2_Statistical_Process_Type :</span></dt><dd>Accumulation</dd></dl></div><div class='xr-var-data'><pre>[35443980 values with dtype=float32]</pre></div></li><li class='xr-var-item'><div class='xr-var-name'><span>Apparent_Temperature_height_above_ground</span></div><div class='xr-var-dims'>(time2, height_above_ground1, y, x)</div><div class='xr-var-dtype'>float32</div><div class='xr-var-preview xr-preview'>...</div><input id='attrs-9944b9b7-6409-417a-9732-ad964d2999b0' class='xr-var-attrs-in' type='checkbox' ><label for='attrs-9944b9b7-6409-417a-9732-ad964d2999b0' title='Show/Hide attributes'><svg class='icon xr-icon-file-text2'><use xlink:href='#icon-file-text2'></use></svg></label><input id='data-2e540697-41c1-40c4-82bf-d43213f78d8f' class='xr-var-data-in' type='checkbox'><label for='data-2e540697-41c1-40c4-82bf-d43213f78d8f' title='Show/Hide data repr'><svg class='icon xr-icon-database'><use xlink:href='#icon-database'></use></svg></label><div class='xr-var-attrs'><dl class='xr-attrs'><dt><span>long_name :</span></dt><dd>Apparent Temperature @ Specified height level above ground</dd><dt><span>units :</span></dt><dd>K</dd><dt><span>abbreviation :</span></dt><dd>ApparentT</dd><dt><span>grid_mapping :</span></dt><dd>LambertConformal_Projection</dd><dt><span>Grib_Variable_Id :</span></dt><dd>VAR_0-0-193_L103</dd><dt><span>Grib2_Parameter :</span></dt><dd>[  0   0 193]</dd><dt><span>Grib2_Parameter_Discipline :</span></dt><dd>Meteorological products</dd><dt><span>Grib2_Parameter_Category :</span></dt><dd>Temperature</dd><dt><span>Grib2_Parameter_Name :</span></dt><dd>Apparent Temperature</dd><dt><span>Grib2_Level_Type :</span></dt><dd>103</dd><dt><span>Grib2_Level_Desc :</span></dt><dd>Specified height level above ground</dd><dt><span>Grib2_Generating_Process_Type :</span></dt><dd>Forecast</dd><dt><span>Grib2_Statistical_Process_Type :</span></dt><dd>UnknownStatType--1</dd></dl></div><div class='xr-var-data'><pre>[127007595 values with dtype=float32]</pre></div></li><li class='xr-var-item'><div class='xr-var-name'><span>Weather_string_surface</span></div><div class='xr-var-dims'>(time2, y, x)</div><div class='xr-var-dtype'>float32</div><div class='xr-var-preview xr-preview'>...</div><input id='attrs-16cdc4da-77c9-4b3d-8bee-14e469f109e3' class='xr-var-attrs-in' type='checkbox' ><label for='attrs-16cdc4da-77c9-4b3d-8bee-14e469f109e3' title='Show/Hide attributes'><svg class='icon xr-icon-file-text2'><use xlink:href='#icon-file-text2'></use></svg></label><input id='data-ba6f85da-32c6-43b7-875e-13d6ee1efaf9' class='xr-var-data-in' type='checkbox'><label for='data-ba6f85da-32c6-43b7-875e-13d6ee1efaf9' title='Show/Hide data repr'><svg class='icon xr-icon-database'><use xlink:href='#icon-database'></use></svg></label><div class='xr-var-attrs'><dl class='xr-attrs'><dt><span>long_name :</span></dt><dd>Weather string @ Ground or water surface</dd><dt><span>units :</span></dt><dd></dd><dt><span>abbreviation :</span></dt><dd>Wx</dd><dt><span>grid_mapping :</span></dt><dd>LambertConformal_Projection</dd><dt><span>Grib_Variable_Id :</span></dt><dd>VAR_0-1-192_L1</dd><dt><span>Grib2_Parameter :</span></dt><dd>[  0   1 192]</dd><dt><span>Grib2_Parameter_Discipline :</span></dt><dd>Meteorological products</dd><dt><span>Grib2_Parameter_Category :</span></dt><dd>Moisture</dd><dt><span>Grib2_Parameter_Name :</span></dt><dd>Weather string</dd><dt><span>Grib2_Level_Type :</span></dt><dd>1</dd><dt><span>Grib2_Level_Desc :</span></dt><dd>Ground or water surface</dd><dt><span>Grib2_Generating_Process_Type :</span></dt><dd>Forecast</dd><dt><span>Grib2_Statistical_Process_Type :</span></dt><dd>UnknownStatType--1</dd></dl></div><div class='xr-var-data'><pre>[127007595 values with dtype=float32]</pre></div></li><li class='xr-var-item'><div class='xr-var-name'><span>Wind_direction_from_which_blowing_height_above_ground</span></div><div class='xr-var-dims'>(time2, height_above_ground, y, x)</div><div class='xr-var-dtype'>float32</div><div class='xr-var-preview xr-preview'>...</div><input id='attrs-a998238b-65e3-439b-8351-ccc8adade0a0' class='xr-var-attrs-in' type='checkbox' ><label for='attrs-a998238b-65e3-439b-8351-ccc8adade0a0' title='Show/Hide attributes'><svg class='icon xr-icon-file-text2'><use xlink:href='#icon-file-text2'></use></svg></label><input id='data-1cb1f652-9248-48da-a4e8-34322162af15' class='xr-var-data-in' type='checkbox'><label for='data-1cb1f652-9248-48da-a4e8-34322162af15' title='Show/Hide data repr'><svg class='icon xr-icon-database'><use xlink:href='#icon-database'></use></svg></label><div class='xr-var-attrs'><dl class='xr-attrs'><dt><span>long_name :</span></dt><dd>Wind direction (from which blowing) @ Specified height level above ground</dd><dt><span>units :</span></dt><dd>degree_true</dd><dt><span>description :</span></dt><dd>Wind direction (from which blowing)</dd><dt><span>grid_mapping :</span></dt><dd>LambertConformal_Projection</dd><dt><span>Grib_Variable_Id :</span></dt><dd>VAR_0-2-0_L103</dd><dt><span>Grib2_Parameter :</span></dt><dd>[0 2 0]</dd><dt><span>Grib2_Parameter_Discipline :</span></dt><dd>Meteorological products</dd><dt><span>Grib2_Parameter_Category :</span></dt><dd>Momentum</dd><dt><span>Grib2_Parameter_Name :</span></dt><dd>Wind direction (from which blowing)</dd><dt><span>Grib2_Level_Type :</span></dt><dd>103</dd><dt><span>Grib2_Level_Desc :</span></dt><dd>Specified height level above ground</dd><dt><span>Grib2_Generating_Process_Type :</span></dt><dd>Forecast</dd><dt><span>Grib2_Statistical_Process_Type :</span></dt><dd>UnknownStatType--1</dd></dl></div><div class='xr-var-data'><pre>[127007595 values with dtype=float32]</pre></div></li><li class='xr-var-item'><div class='xr-var-name'><span>Wind_speed_height_above_ground</span></div><div class='xr-var-dims'>(time2, height_above_ground, y, x)</div><div class='xr-var-dtype'>float32</div><div class='xr-var-preview xr-preview'>...</div><input id='attrs-f9f123fb-10de-4074-b0ab-a2bdcd1fd7f0' class='xr-var-attrs-in' type='checkbox' ><label for='attrs-f9f123fb-10de-4074-b0ab-a2bdcd1fd7f0' title='Show/Hide attributes'><svg class='icon xr-icon-file-text2'><use xlink:href='#icon-file-text2'></use></svg></label><input id='data-769b2ea3-9526-46c4-a8f1-4ec23452e5f0' class='xr-var-data-in' type='checkbox'><label for='data-769b2ea3-9526-46c4-a8f1-4ec23452e5f0' title='Show/Hide data repr'><svg class='icon xr-icon-database'><use xlink:href='#icon-database'></use></svg></label><div class='xr-var-attrs'><dl class='xr-attrs'><dt><span>long_name :</span></dt><dd>Wind speed @ Specified height level above ground</dd><dt><span>units :</span></dt><dd>m/s</dd><dt><span>description :</span></dt><dd>Wind speed</dd><dt><span>grid_mapping :</span></dt><dd>LambertConformal_Projection</dd><dt><span>Grib_Variable_Id :</span></dt><dd>VAR_0-2-1_L103</dd><dt><span>Grib2_Parameter :</span></dt><dd>[0 2 1]</dd><dt><span>Grib2_Parameter_Discipline :</span></dt><dd>Meteorological products</dd><dt><span>Grib2_Parameter_Category :</span></dt><dd>Momentum</dd><dt><span>Grib2_Parameter_Name :</span></dt><dd>Wind speed</dd><dt><span>Grib2_Level_Type :</span></dt><dd>103</dd><dt><span>Grib2_Level_Desc :</span></dt><dd>Specified height level above ground</dd><dt><span>Grib2_Generating_Process_Type :</span></dt><dd>Forecast</dd><dt><span>Grib2_Statistical_Process_Type :</span></dt><dd>UnknownStatType--1</dd></dl></div><div class='xr-var-data'><pre>[127007595 values with dtype=float32]</pre></div></li><li class='xr-var-item'><div class='xr-var-name'><span>Wind_speed_gust_height_above_ground</span></div><div class='xr-var-dims'>(time2, height_above_ground, y, x)</div><div class='xr-var-dtype'>float32</div><div class='xr-var-preview xr-preview'>...</div><input id='attrs-09a3bcec-20dc-430b-aded-5f0e2829d899' class='xr-var-attrs-in' type='checkbox' ><label for='attrs-09a3bcec-20dc-430b-aded-5f0e2829d899' title='Show/Hide attributes'><svg class='icon xr-icon-file-text2'><use xlink:href='#icon-file-text2'></use></svg></label><input id='data-4b4a5428-9a44-48ec-bab7-3caffc587b76' class='xr-var-data-in' type='checkbox'><label for='data-4b4a5428-9a44-48ec-bab7-3caffc587b76' title='Show/Hide data repr'><svg class='icon xr-icon-database'><use xlink:href='#icon-database'></use></svg></label><div class='xr-var-attrs'><dl class='xr-attrs'><dt><span>long_name :</span></dt><dd>Wind speed (gust) @ Specified height level above ground</dd><dt><span>units :</span></dt><dd>m/s</dd><dt><span>description :</span></dt><dd>Wind speed (gust)</dd><dt><span>grid_mapping :</span></dt><dd>LambertConformal_Projection</dd><dt><span>Grib_Variable_Id :</span></dt><dd>VAR_0-2-22_L103</dd><dt><span>Grib2_Parameter :</span></dt><dd>[ 0  2 22]</dd><dt><span>Grib2_Parameter_Discipline :</span></dt><dd>Meteorological products</dd><dt><span>Grib2_Parameter_Category :</span></dt><dd>Momentum</dd><dt><span>Grib2_Parameter_Name :</span></dt><dd>Wind speed (gust)</dd><dt><span>Grib2_Level_Type :</span></dt><dd>103</dd><dt><span>Grib2_Level_Desc :</span></dt><dd>Specified height level above ground</dd><dt><span>Grib2_Generating_Process_Type :</span></dt><dd>Forecast</dd><dt><span>Grib2_Statistical_Process_Type :</span></dt><dd>UnknownStatType--1</dd></dl></div><div class='xr-var-data'><pre>[127007595 values with dtype=float32]</pre></div></li></ul></div></li><li class='xr-section-item'><input id='section-4c72e751-93ec-4a8c-a831-f84585331cb5' class='xr-section-summary-in' type='checkbox'  ><label for='section-4c72e751-93ec-4a8c-a831-f84585331cb5' class='xr-section-summary' >Indexes: <span>(9)</span></label><div class='xr-section-inline-details'></div><div class='xr-section-details'><ul class='xr-var-list'><li class='xr-var-item'><div class='xr-index-name'><div>time</div></div><div class='xr-index-preview'>PandasIndex</div><div></div><input id='index-1646ef4e-3611-4d6f-9081-421ef1e1de69' class='xr-index-data-in' type='checkbox'/><label for='index-1646ef4e-3611-4d6f-9081-421ef1e1de69' title='Show/Hide index repr'><svg class='icon xr-icon-database'><use xlink:href='#icon-database'></use></svg></label><div class='xr-index-data'><pre>PandasIndex(DatetimeIndex([&#x27;2023-11-13 17:30:00&#x27;, &#x27;2023-11-13 23:30:00&#x27;,\n",
       "               &#x27;2023-11-14 05:30:00&#x27;, &#x27;2023-11-14 11:30:00&#x27;,\n",
       "               &#x27;2023-11-14 17:30:00&#x27;, &#x27;2023-11-14 23:30:00&#x27;,\n",
       "               &#x27;2023-11-15 05:30:00&#x27;, &#x27;2023-11-15 11:30:00&#x27;,\n",
       "               &#x27;2023-11-15 17:30:00&#x27;, &#x27;2023-11-15 23:30:00&#x27;,\n",
       "               &#x27;2023-11-16 05:30:00&#x27;, &#x27;2023-11-16 11:30:00&#x27;],\n",
       "              dtype=&#x27;datetime64[ns]&#x27;, name=&#x27;time&#x27;, freq=None))</pre></div></li><li class='xr-var-item'><div class='xr-index-name'><div>time1</div></div><div class='xr-index-preview'>PandasIndex</div><div></div><input id='index-3e220a95-8aa4-4f52-b092-a7e1d9fc3d74' class='xr-index-data-in' type='checkbox'/><label for='index-3e220a95-8aa4-4f52-b092-a7e1d9fc3d74' title='Show/Hide index repr'><svg class='icon xr-icon-database'><use xlink:href='#icon-database'></use></svg></label><div class='xr-index-data'><pre>PandasIndex(DatetimeIndex([&#x27;2023-11-13 23:30:00&#x27;, &#x27;2023-11-14 11:30:00&#x27;,\n",
       "               &#x27;2023-11-14 23:30:00&#x27;, &#x27;2023-11-15 11:30:00&#x27;,\n",
       "               &#x27;2023-11-15 23:30:00&#x27;],\n",
       "              dtype=&#x27;datetime64[ns]&#x27;, name=&#x27;time1&#x27;, freq=None))</pre></div></li><li class='xr-var-item'><div class='xr-index-name'><div>time3</div></div><div class='xr-index-preview'>PandasIndex</div><div></div><input id='index-bdfde2a1-238b-4f54-8c1d-c25b54e26bfc' class='xr-index-data-in' type='checkbox'/><label for='index-bdfde2a1-238b-4f54-8c1d-c25b54e26bfc' title='Show/Hide index repr'><svg class='icon xr-icon-database'><use xlink:href='#icon-database'></use></svg></label><div class='xr-index-data'><pre>PandasIndex(DatetimeIndex([&#x27;2023-11-14 11:30:00&#x27;, &#x27;2023-11-15 11:30:00&#x27;], dtype=&#x27;datetime64[ns]&#x27;, name=&#x27;time3&#x27;, freq=None))</pre></div></li><li class='xr-var-item'><div class='xr-index-name'><div>time4</div></div><div class='xr-index-preview'>PandasIndex</div><div></div><input id='index-531c8948-4ad0-4b5e-8734-25db0ff02f6e' class='xr-index-data-in' type='checkbox'/><label for='index-531c8948-4ad0-4b5e-8734-25db0ff02f6e' title='Show/Hide index repr'><svg class='icon xr-icon-database'><use xlink:href='#icon-database'></use></svg></label><div class='xr-index-data'><pre>PandasIndex(DatetimeIndex([&#x27;2023-11-13 23:30:00&#x27;, &#x27;2023-11-14 23:30:00&#x27;,\n",
       "               &#x27;2023-11-15 23:30:00&#x27;],\n",
       "              dtype=&#x27;datetime64[ns]&#x27;, name=&#x27;time4&#x27;, freq=None))</pre></div></li><li class='xr-var-item'><div class='xr-index-name'><div>x</div></div><div class='xr-index-preview'>PandasIndex</div><div></div><input id='index-98956c74-3e6b-4674-abb9-99ba485bb4e9' class='xr-index-data-in' type='checkbox'/><label for='index-98956c74-3e6b-4674-abb9-99ba485bb4e9' title='Show/Hide index repr'><svg class='icon xr-icon-database'><use xlink:href='#icon-database'></use></svg></label><div class='xr-index-data'><pre>PandasIndex(Index([ -2763204.5, -2760664.75,  -2758125.0,  -2755585.5, -2753045.75,\n",
       "       -2750505.75, -2747966.25,  -2745426.5,  -2742887.0, -2740347.25,\n",
       "       ...\n",
       "        2659061.25,  2661600.75,   2664140.5,   2666680.5,   2669220.0,\n",
       "        2671759.75,  2674299.25,   2676839.0,   2679379.0,   2681918.5],\n",
       "      dtype=&#x27;float32&#x27;, name=&#x27;x&#x27;, length=2145))</pre></div></li><li class='xr-var-item'><div class='xr-index-name'><div>y</div></div><div class='xr-index-preview'>PandasIndex</div><div></div><input id='index-dfee4ec9-49f3-442f-8579-4a939d7f7871' class='xr-index-data-in' type='checkbox'/><label for='index-dfee4ec9-49f3-442f-8579-4a939d7f7871' title='Show/Hide index repr'><svg class='icon xr-icon-database'><use xlink:href='#icon-database'></use></svg></label><div class='xr-index-data'><pre>PandasIndex(Index([  -263789.4375,  -261249.71875, -258710.015625,   -256170.3125,\n",
       "       -253630.609375,  -251090.90625, -248551.203125,      -246011.5,\n",
       "       -243471.796875,  -240932.09375,\n",
       "       ...\n",
       "            3207984.5,     3210524.25,     3213063.75,      3215603.5,\n",
       "           3218143.25,     3220682.75,     3223222.75,      3225762.5,\n",
       "            3228302.0,     3230841.75],\n",
       "      dtype=&#x27;float32&#x27;, name=&#x27;y&#x27;, length=1377))</pre></div></li><li class='xr-var-item'><div class='xr-index-name'><div>time2</div></div><div class='xr-index-preview'>PandasIndex</div><div></div><input id='index-fa6e03c3-4f00-4cec-a6c3-ffeeed46b62d' class='xr-index-data-in' type='checkbox'/><label for='index-fa6e03c3-4f00-4cec-a6c3-ffeeed46b62d' title='Show/Hide index repr'><svg class='icon xr-icon-database'><use xlink:href='#icon-database'></use></svg></label><div class='xr-index-data'><pre>PandasIndex(DatetimeIndex([&#x27;2023-11-13 17:30:00&#x27;, &#x27;2023-11-13 18:30:00&#x27;,\n",
       "               &#x27;2023-11-13 19:30:00&#x27;, &#x27;2023-11-13 20:30:00&#x27;,\n",
       "               &#x27;2023-11-13 21:30:00&#x27;, &#x27;2023-11-13 22:30:00&#x27;,\n",
       "               &#x27;2023-11-13 23:30:00&#x27;, &#x27;2023-11-14 00:30:00&#x27;,\n",
       "               &#x27;2023-11-14 01:30:00&#x27;, &#x27;2023-11-14 02:30:00&#x27;,\n",
       "               &#x27;2023-11-14 03:30:00&#x27;, &#x27;2023-11-14 04:30:00&#x27;,\n",
       "               &#x27;2023-11-14 05:30:00&#x27;, &#x27;2023-11-14 06:30:00&#x27;,\n",
       "               &#x27;2023-11-14 07:30:00&#x27;, &#x27;2023-11-14 08:30:00&#x27;,\n",
       "               &#x27;2023-11-14 09:30:00&#x27;, &#x27;2023-11-14 10:30:00&#x27;,\n",
       "               &#x27;2023-11-14 11:30:00&#x27;, &#x27;2023-11-14 12:30:00&#x27;,\n",
       "               &#x27;2023-11-14 13:30:00&#x27;, &#x27;2023-11-14 14:30:00&#x27;,\n",
       "               &#x27;2023-11-14 15:30:00&#x27;, &#x27;2023-11-14 16:30:00&#x27;,\n",
       "               &#x27;2023-11-14 17:30:00&#x27;, &#x27;2023-11-14 18:30:00&#x27;,\n",
       "               &#x27;2023-11-14 19:30:00&#x27;, &#x27;2023-11-14 20:30:00&#x27;,\n",
       "               &#x27;2023-11-14 21:30:00&#x27;, &#x27;2023-11-14 22:30:00&#x27;,\n",
       "               &#x27;2023-11-14 23:30:00&#x27;, &#x27;2023-11-15 00:30:00&#x27;,\n",
       "               &#x27;2023-11-15 01:30:00&#x27;, &#x27;2023-11-15 02:30:00&#x27;,\n",
       "               &#x27;2023-11-15 03:30:00&#x27;, &#x27;2023-11-15 04:30:00&#x27;,\n",
       "               &#x27;2023-11-15 05:30:00&#x27;, &#x27;2023-11-15 08:30:00&#x27;,\n",
       "               &#x27;2023-11-15 11:30:00&#x27;, &#x27;2023-11-15 14:30:00&#x27;,\n",
       "               &#x27;2023-11-15 17:30:00&#x27;, &#x27;2023-11-15 20:30:00&#x27;,\n",
       "               &#x27;2023-11-15 23:30:00&#x27;],\n",
       "              dtype=&#x27;datetime64[ns]&#x27;, name=&#x27;time2&#x27;, freq=None))</pre></div></li><li class='xr-var-item'><div class='xr-index-name'><div>height_above_ground1</div></div><div class='xr-index-preview'>PandasIndex</div><div></div><input id='index-51fcda8a-8734-4ab3-a88f-7f2d53f1ac61' class='xr-index-data-in' type='checkbox'/><label for='index-51fcda8a-8734-4ab3-a88f-7f2d53f1ac61' title='Show/Hide index repr'><svg class='icon xr-icon-database'><use xlink:href='#icon-database'></use></svg></label><div class='xr-index-data'><pre>PandasIndex(Index([2.0], dtype=&#x27;float32&#x27;, name=&#x27;height_above_ground1&#x27;))</pre></div></li><li class='xr-var-item'><div class='xr-index-name'><div>height_above_ground</div></div><div class='xr-index-preview'>PandasIndex</div><div></div><input id='index-4248a6a9-bfe4-40e9-a5f0-b6e61572362d' class='xr-index-data-in' type='checkbox'/><label for='index-4248a6a9-bfe4-40e9-a5f0-b6e61572362d' title='Show/Hide index repr'><svg class='icon xr-icon-database'><use xlink:href='#icon-database'></use></svg></label><div class='xr-index-data'><pre>PandasIndex(Index([10.0], dtype=&#x27;float32&#x27;, name=&#x27;height_above_ground&#x27;))</pre></div></li></ul></div></li><li class='xr-section-item'><input id='section-30f7f7b1-51fc-471a-974a-05ac0bfc0882' class='xr-section-summary-in' type='checkbox'  ><label for='section-30f7f7b1-51fc-471a-974a-05ac0bfc0882' class='xr-section-summary' >Attributes: <span>(10)</span></label><div class='xr-section-inline-details'></div><div class='xr-section-details'><dl class='xr-attrs'><dt><span>Originating_or_generating_Center :</span></dt><dd>US National Weather Service Telecommunications Gateway (NWSTG)</dd><dt><span>Originating_or_generating_Subcenter :</span></dt><dd>-9999</dd><dt><span>GRIB_table_version :</span></dt><dd>1,0</dd><dt><span>Type_of_generating_process :</span></dt><dd>Forecast</dd><dt><span>file_format :</span></dt><dd>GRIB-2</dd><dt><span>Conventions :</span></dt><dd>CF-1.6</dd><dt><span>history :</span></dt><dd>Read using CDM IOSP GribCollection v3</dd><dt><span>featureType :</span></dt><dd>GRID</dd><dt><span>_CoordSysBuilder :</span></dt><dd>ucar.nc2.dataset.conv.CF1Convention</dd><dt><span>EXTRA_DIMENSION.reftime :</span></dt><dd>1</dd></dl></div></li></ul></div></div>"
      ],
      "text/plain": [
       "<xarray.Dataset>\n",
       "Dimensions:                                                                   (\n",
       "                                                                               time: 12,\n",
       "                                                                               time_bounds_1: 2,\n",
       "                                                                               time1: 5,\n",
       "                                                                               time1_bounds_1: 2,\n",
       "                                                                               time3: 2,\n",
       "                                                                               ...\n",
       "                                                                               time4_bounds_1: 2,\n",
       "                                                                               x: 2145,\n",
       "                                                                               y: 1377,\n",
       "                                                                               time2: 43,\n",
       "                                                                               height_above_ground1: 1,\n",
       "                                                                               height_above_ground: 1)\n",
       "Coordinates: (12/13)\n",
       "    reftime                                                                   datetime64[ns] ...\n",
       "  * time                                                                      (time) datetime64[ns] ...\n",
       "  * time1                                                                     (time1) datetime64[ns] ...\n",
       "  * time3                                                                     (time3) datetime64[ns] ...\n",
       "  * time4                                                                     (time4) datetime64[ns] ...\n",
       "  * x                                                                         (x) float32 ...\n",
       "    ...                                                                        ...\n",
       "  * time2                                                                     (time2) datetime64[ns] ...\n",
       "  * height_above_ground1                                                      (height_above_ground1) float32 ...\n",
       "    metpy_crs                                                                 object ...\n",
       "  * height_above_ground                                                       (height_above_ground) float32 ...\n",
       "    latitude                                                                  (y, x) float64 ...\n",
       "    longitude                                                                 (y, x) float64 ...\n",
       "Dimensions without coordinates: time_bounds_1, time1_bounds_1, time3_bounds_1,\n",
       "                                time4_bounds_1\n",
       "Data variables: (12/20)\n",
       "    LambertConformal_Projection                                               int32 ...\n",
       "    time_bounds                                                               (time, time_bounds_1) datetime64[ns] ...\n",
       "    time1_bounds                                                              (time1, time1_bounds_1) datetime64[ns] ...\n",
       "    time3_bounds                                                              (time3, time3_bounds_1) datetime64[ns] ...\n",
       "    time4_bounds                                                              (time4, time4_bounds_1) datetime64[ns] ...\n",
       "    Dewpoint_temperature_height_above_ground                                  (time2, height_above_ground1, y, x) float32 ...\n",
       "    ...                                                                        ...\n",
       "    Total_snowfall_surface_6_Hour_Accumulation                                (time, y, x) float32 ...\n",
       "    Apparent_Temperature_height_above_ground                                  (time2, height_above_ground1, y, x) float32 ...\n",
       "    Weather_string_surface                                                    (time2, y, x) float32 ...\n",
       "    Wind_direction_from_which_blowing_height_above_ground                     (time2, height_above_ground, y, x) float32 ...\n",
       "    Wind_speed_height_above_ground                                            (time2, height_above_ground, y, x) float32 ...\n",
       "    Wind_speed_gust_height_above_ground                                       (time2, height_above_ground, y, x) float32 ...\n",
       "Attributes:\n",
       "    Originating_or_generating_Center:     US National Weather Service Telecom...\n",
       "    Originating_or_generating_Subcenter:  -9999\n",
       "    GRIB_table_version:                   1,0\n",
       "    Type_of_generating_process:           Forecast\n",
       "    file_format:                          GRIB-2\n",
       "    Conventions:                          CF-1.6\n",
       "    history:                              Read using CDM IOSP GribCollection v3\n",
       "    featureType:                          GRID\n",
       "    _CoordSysBuilder:                     ucar.nc2.dataset.conv.CF1Convention\n",
       "    EXTRA_DIMENSION.reftime:              1"
      ]
     },
     "execution_count": 7,
     "metadata": {},
     "output_type": "execute_result"
    }
   ],
   "source": [
    "ds = ds.metpy.parse_cf()\n",
    "ds = ds.metpy.assign_latitude_longitude(force=False)\n",
    "ds"
   ]
  },
  {
   "cell_type": "code",
   "execution_count": 8,
   "id": "10e06c23-5b13-42f8-8a9b-8f732b3da28e",
   "metadata": {
    "tags": []
   },
   "outputs": [],
   "source": [
    "x, y = ds.x, ds.y"
   ]
  },
  {
   "cell_type": "markdown",
   "id": "ed8e5038-f0e2-42e8-978f-6555a7f59f7b",
   "metadata": {},
   "source": [
    "#### Define function to get gridpoint nearest to a lat and lon"
   ]
  },
  {
   "cell_type": "code",
   "execution_count": 9,
   "id": "2c91980e-93ab-4b2a-b062-b33def256f3b",
   "metadata": {
    "tags": []
   },
   "outputs": [],
   "source": [
    "def find_closest(array, value):\n",
    "    idx = (np.abs(array-value)).argmin()\n",
    "    return idx"
   ]
  },
  {
   "cell_type": "code",
   "execution_count": 10,
   "id": "0b53660b-a4b8-46d8-91e8-fc557db95220",
   "metadata": {},
   "outputs": [],
   "source": [
    "max_temp = ds.Maximum_temperature_height_above_ground_12_Hour_Maximum"
   ]
  },
  {
   "cell_type": "markdown",
   "id": "c6d3ff21-1686-459e-9b75-893626a9bb69",
   "metadata": {},
   "source": [
    "#### Define map projection & ETEC gridpoint"
   ]
  },
  {
   "cell_type": "code",
   "execution_count": 11,
   "id": "10d3d14a-ebbe-4ac6-9730-6349db72d6ac",
   "metadata": {
    "tags": []
   },
   "outputs": [],
   "source": [
    "proj_data = max_temp.metpy.cartopy_crs\n",
    "proj_data;\n",
    "\n",
    "pFull = Proj(proj_data)"
   ]
  },
  {
   "cell_type": "code",
   "execution_count": 12,
   "id": "8fa47728-8142-47c0-a37c-4364f8071acd",
   "metadata": {
    "tags": []
   },
   "outputs": [],
   "source": [
    "siteName = \"ETEC\"\n",
    "siteLat, siteLon = (42.68, -73.81) #lat & lon of gridpoint over ETEC\n",
    "siteX, siteY = pFull(siteLon, siteLat)\n",
    "siteXidx, siteYidx = find_closest(x, siteX), find_closest(y, siteY)"
   ]
  },
  {
   "cell_type": "markdown",
   "id": "dc68fa75-0669-40f6-b2d1-978aef1e4481",
   "metadata": {},
   "source": [
    "#### Define max temp Variable"
   ]
  },
  {
   "cell_type": "code",
   "execution_count": 13,
   "id": "2f4bfe9b-4872-41e6-b61a-98d65d990a41",
   "metadata": {
    "tags": []
   },
   "outputs": [],
   "source": [
    "forecastMax = max_temp.isel(x = siteXidx, y = siteYidx).isel()\n",
    "\n",
    "timeDimMax, vertDimMax = forecastMax.metpy.time.name, forecastMax.metpy.vertical.name\n",
    "\n",
    "idxTimeMax = slice(None, 2) # First time\n",
    "idxVertMax = 0 # First (and in this case, only) vertical level\n",
    "\n",
    "timeDictMax = {timeDimMax: idxTimeMax}\n",
    "vertDictMax = {vertDimMax: idxVertMax}\n",
    "\n",
    "forecastMax = forecastMax.isel(vertDictMax).isel(timeDictMax)"
   ]
  },
  {
   "cell_type": "markdown",
   "id": "6b808d5b-9194-4b88-9339-5fe79e9d440b",
   "metadata": {},
   "source": [
    "#### Define wind speed variable"
   ]
  },
  {
   "cell_type": "code",
   "execution_count": 14,
   "id": "404f2e46-441b-4d9f-8022-65eb431c128c",
   "metadata": {},
   "outputs": [],
   "source": [
    "windSpeed = ds.Wind_speed_height_above_ground\n",
    "windSpeed = windSpeed.isel(x = siteXidx, y = siteYidx).isel()\n",
    "\n",
    "timeDimWdsp, vertDimWdsp = windSpeed.metpy.time.name, windSpeed.metpy.vertical.name\n",
    "\n",
    "idxVertWdsp = 0 # First (and in this case, only) vertical level\n",
    "vertDictWdsp = {vertDimWdsp: idxVertWdsp}\n",
    "\n",
    "forecastWindSpeed = windSpeed.isel(vertDictWdsp)"
   ]
  },
  {
   "cell_type": "markdown",
   "id": "fda326cd-b42a-4ce6-bb49-fd6b9d310cae",
   "metadata": {},
   "source": [
    "#### Define wind direction variable"
   ]
  },
  {
   "cell_type": "code",
   "execution_count": 15,
   "id": "8d732142-8cd5-4074-a9c2-c6b423de235c",
   "metadata": {},
   "outputs": [],
   "source": [
    "windDir = ds.Wind_direction_from_which_blowing_height_above_ground\n",
    "windDir = windDir.isel(x = siteXidx, y = siteYidx).isel()\n",
    "\n",
    "timeDimWdr, vertDimWdr = windDir.metpy.time.name, windDir.metpy.vertical.name\n",
    "\n",
    "idxVertWdr = 0\n",
    "vertDictWdr = {vertDimWdr: idxVertWdr}\n",
    "\n",
    "forecastWindDir = windDir.isel(vertDictWdr)"
   ]
  },
  {
   "cell_type": "markdown",
   "id": "87529a72-5e8a-4b33-a3e7-b07aed8946b0",
   "metadata": {
    "tags": []
   },
   "source": [
    "#### Define weather string variable"
   ]
  },
  {
   "cell_type": "code",
   "execution_count": 16,
   "id": "86caaccb-21cd-458b-b51a-add5bb5e9860",
   "metadata": {
    "tags": []
   },
   "outputs": [],
   "source": [
    "wx = ds.Weather_string_surface\n",
    "wx = wx.isel(x = siteXidx, y = siteYidx).isel()\n",
    "\n",
    "timeDimWx = wx.metpy.time.name"
   ]
  },
  {
   "cell_type": "markdown",
   "id": "97a47ee7-9858-450c-88a4-12e02029b1a1",
   "metadata": {},
   "source": [
    "#### Define min temp variable"
   ]
  },
  {
   "cell_type": "code",
   "execution_count": 17,
   "id": "f22ef939-93be-4842-9dcb-6a4b157ead7f",
   "metadata": {
    "tags": []
   },
   "outputs": [],
   "source": [
    "min_temp = ds.Minimum_temperature_height_above_ground_12_Hour_Minimum\n",
    "\n",
    "forecastMin = min_temp.isel(x = siteXidx, y = siteYidx).isel()\n",
    "\n",
    "timeDimMin, vertDimMin = forecastMin.metpy.time.name, forecastMin.metpy.vertical.name\n",
    "\n",
    "idxTimeMin = slice(None, 2) # First time\n",
    "idxVertMin = 0 # First (and in this case, only) vertical level\n",
    "\n",
    "timeDictMin = {timeDimMin: idxTimeMin}\n",
    "vertDictMin = {vertDimMin: idxVertMin}\n",
    "\n",
    "forecastMin = forecastMin.isel(vertDictMin).isel(timeDictMin)"
   ]
  },
  {
   "cell_type": "markdown",
   "id": "2d87da53-d331-410b-a820-c5a2330bbd94",
   "metadata": {},
   "source": [
    "#### Define precip probability variable"
   ]
  },
  {
   "cell_type": "code",
   "execution_count": 18,
   "id": "2a949828-323a-49c2-a569-6e954cd5bd5b",
   "metadata": {
    "tags": []
   },
   "outputs": [],
   "source": [
    "precip = ds.Total_precipitation_surface_12_Hour_Accumulation_probability_above_0p254\n",
    "\n",
    "forecastPrecip = precip.isel(x = siteXidx, y = siteYidx).isel()\n",
    "\n",
    "timeDimPrecip = forecastPrecip.metpy.time.name\n",
    "\n",
    "idxTimeFull = slice(None, 4) # First 4 times\n",
    "\n",
    "timeDictPrecip = {timeDimPrecip: idxTimeFull}\n",
    "\n",
    "forecastPrecip = forecastPrecip.isel(timeDictPrecip)"
   ]
  },
  {
   "cell_type": "markdown",
   "id": "a65bce8f-b0f4-430e-9c18-922fb2b805d9",
   "metadata": {},
   "source": [
    "#### Define cloud cover variable"
   ]
  },
  {
   "cell_type": "code",
   "execution_count": 19,
   "id": "e3a164ac-9c57-4524-b808-fa02a1591275",
   "metadata": {
    "tags": []
   },
   "outputs": [],
   "source": [
    "cloudCover = ds.Total_cloud_cover_surface\n",
    "\n",
    "forecastCloudCover = cloudCover.isel(x = siteXidx, y = siteYidx).isel()\n",
    "\n",
    "timeDimCloudCover = forecastCloudCover.metpy.time.name"
   ]
  },
  {
   "cell_type": "markdown",
   "id": "79cd01a5-f46b-413e-b4fb-868f016b0591",
   "metadata": {},
   "source": [
    "#### Define Temp variable"
   ]
  },
  {
   "cell_type": "code",
   "execution_count": 20,
   "id": "2f1b2996-03e7-4c9d-bfc3-f5767596b438",
   "metadata": {
    "tags": []
   },
   "outputs": [],
   "source": [
    "temp = ds.Temperature_height_above_ground\n",
    "\n",
    "forecastTemp = temp.isel(x = siteXidx, y = siteYidx).isel()\n",
    "\n",
    "timeDimTemp, vertDimTemp = forecastTemp.metpy.time.name, forecastTemp.metpy.vertical.name\n",
    "\n",
    "idxVertTemp = 0\n",
    "\n",
    "vertDictTemp = {vertDimTemp: idxVertTemp}\n",
    "\n",
    "forecastTemp = forecastTemp.isel(vertDictTemp)"
   ]
  },
  {
   "cell_type": "markdown",
   "id": "aa949cfb-003a-49e5-a9ee-4cba545902fd",
   "metadata": {},
   "source": [
    "#### Define dewpoint variable"
   ]
  },
  {
   "cell_type": "code",
   "execution_count": 21,
   "id": "53c5eb57-ec9e-4579-b49b-9a91b599424f",
   "metadata": {
    "tags": []
   },
   "outputs": [],
   "source": [
    "dewp = ds.Dewpoint_temperature_height_above_ground\n",
    "\n",
    "forecastDewp = dewp.isel(x = siteXidx, y = siteYidx).isel()\n",
    "\n",
    "timeDimDewp, vertDimDewp = forecastDewp.metpy.time.name, forecastDewp.metpy.vertical.name\n",
    "\n",
    "idxVertDewp = 0\n",
    "\n",
    "vertDictDewp = {vertDimDewp: idxVertDewp}\n",
    "\n",
    "forecastDewp = forecastDewp.isel(vertDictDewp)"
   ]
  },
  {
   "cell_type": "markdown",
   "id": "1b88008f-49fb-435c-8382-64a6a26eb811",
   "metadata": {},
   "source": [
    "#### Define relative humidity variable"
   ]
  },
  {
   "cell_type": "code",
   "execution_count": 23,
   "id": "00d79b6b-e46d-41cf-b60c-14ad28a49f4b",
   "metadata": {},
   "outputs": [],
   "source": [
    "rh = ds.Relative_humidity_height_above_ground\n",
    "\n",
    "forecastRH = rh.isel(x = siteXidx, y = siteYidx).isel()\n",
    "\n",
    "timeDimRH, vertDimRH = forecastRH.metpy.time.name, forecastRH.metpy.vertical.name\n",
    "\n",
    "idxVertRH = 0\n",
    "\n",
    "vertDictRH = {vertDimRH: idxVertRH}\n",
    "\n",
    "forecastRH = forecastRH.isel(vertDictRH)"
   ]
  },
  {
   "cell_type": "markdown",
   "id": "08ba08a7-f971-46f9-bb99-2c084e002528",
   "metadata": {},
   "source": [
    "#### Define time lists at intervals of 1-hr & 12-hr"
   ]
  },
  {
   "cell_type": "code",
   "execution_count": 24,
   "id": "16618932-bb1d-4c93-9cfe-92748ca1271b",
   "metadata": {
    "tags": []
   },
   "outputs": [],
   "source": [
    "times1 = forecastCloudCover.metpy.time.values\n",
    "\n",
    "times12 = forecastPrecip.metpy.time.values"
   ]
  },
  {
   "cell_type": "markdown",
   "id": "b86e7b62-6c44-468c-831f-2fa057ae3783",
   "metadata": {},
   "source": [
    "#### Define time lists for max and min temps"
   ]
  },
  {
   "cell_type": "code",
   "execution_count": 25,
   "id": "b40883e8-dfb9-465d-8ea8-fedec6bfc9e2",
   "metadata": {
    "tags": []
   },
   "outputs": [],
   "source": [
    "timesMax = forecastMax.metpy.time.values\n",
    "\n",
    "timesMin = forecastMin.metpy.time.values\n",
    "\n",
    "#they get their own time list since they only exist for every other 12-hr period"
   ]
  },
  {
   "cell_type": "markdown",
   "id": "18b80bbd-917d-45d4-a35d-42d3a2891c75",
   "metadata": {},
   "source": [
    "#### Check cloud cover for NaN"
   ]
  },
  {
   "cell_type": "code",
   "execution_count": 26,
   "id": "9fcbf0ce-4947-4dfb-a6c6-482850520cdd",
   "metadata": {
    "tags": []
   },
   "outputs": [],
   "source": [
    "i = 0\n",
    "\n",
    "cloudNanList=[]\n",
    "\n",
    "for time_step in times1:\n",
    "\n",
    "    timeDictCloudCover = {timeDimCloudCover: i}\n",
    "    forecastCloudCoverNew = forecastCloudCover.isel(timeDictCloudCover)\n",
    "    \n",
    "    nanCheck = forecastCloudCoverNew.isnull().values\n",
    "    \n",
    "    nanStr = str(nanCheck)\n",
    "    \n",
    "    cloudNanList.append(nanStr)\n",
    "     \n",
    "    i = i + 1"
   ]
  },
  {
   "cell_type": "code",
   "execution_count": 27,
   "id": "a65c6ec6-b3a5-4cd3-ac92-8bb31b1ae337",
   "metadata": {
    "tags": []
   },
   "outputs": [],
   "source": [
    "cloudNanCount = cloudNanList.count('True')\n",
    "\n",
    "if cloudNanCount > 0:\n",
    "    cloudNanCheck = True\n",
    "\n",
    "else:\n",
    "    cloudNanCheck = False"
   ]
  },
  {
   "cell_type": "markdown",
   "id": "535ffb64-a31e-4d40-b207-f08df7fe1477",
   "metadata": {},
   "source": [
    "#### Check wind speed for NaN"
   ]
  },
  {
   "cell_type": "code",
   "execution_count": 28,
   "id": "5480dd0b-a5a3-43f9-b1fa-a85e14a559b5",
   "metadata": {
    "tags": []
   },
   "outputs": [],
   "source": [
    "i = 0\n",
    "\n",
    "wdspNanList=[]\n",
    "\n",
    "for time_step in times1:\n",
    "\n",
    "    timeDictWdsp = {timeDimWdsp: i}\n",
    "    wdspNew = forecastWindSpeed.isel(timeDictWdsp)\n",
    "    \n",
    "    nanCheck = wdspNew.isnull().values\n",
    "    \n",
    "    nanStr = str(nanCheck)\n",
    "    \n",
    "    wdspNanList.append(nanStr)\n",
    "     \n",
    "    i = i + 1"
   ]
  },
  {
   "cell_type": "code",
   "execution_count": 29,
   "id": "0e2972d9-d4bf-4693-90ee-1dd7e2180af3",
   "metadata": {
    "tags": []
   },
   "outputs": [],
   "source": [
    "wdspNanCount = wdspNanList.count('True')\n",
    "\n",
    "if wdspNanCount > 0:\n",
    "    wdspNanCheck = True\n",
    "\n",
    "else:\n",
    "    wdspNanCheck = False"
   ]
  },
  {
   "cell_type": "markdown",
   "id": "ec015dd0-47e4-4b92-950b-839d141f3eee",
   "metadata": {},
   "source": [
    "#### Check wind direction for NaN"
   ]
  },
  {
   "cell_type": "code",
   "execution_count": 30,
   "id": "738dd1e9-3953-4ec4-a098-aa4f041f4c89",
   "metadata": {
    "tags": []
   },
   "outputs": [],
   "source": [
    "i = 0\n",
    "\n",
    "wdrNanList=[]\n",
    "\n",
    "for time_step in times1:\n",
    "\n",
    "    timeDictWdr = {timeDimWdr: i}\n",
    "    wdrNew = forecastWindDir.isel(timeDictWdr)\n",
    "    \n",
    "    nanCheck = wdrNew.isnull().values\n",
    "    \n",
    "    nanStr = str(nanCheck)\n",
    "    \n",
    "    wdrNanList.append(nanStr)\n",
    "     \n",
    "    i = i + 1"
   ]
  },
  {
   "cell_type": "code",
   "execution_count": 31,
   "id": "833473c7-39a8-46a2-a1da-42b000e19874",
   "metadata": {
    "tags": []
   },
   "outputs": [],
   "source": [
    "wdrNanCount = wdrNanList.count('True')\n",
    "\n",
    "if wdrNanCount > 0:\n",
    "    wdrNanCheck = True\n",
    "\n",
    "else:\n",
    "    wdrNanCheck = False"
   ]
  },
  {
   "cell_type": "markdown",
   "id": "6f5f0303-cfa0-44bf-ba2d-3b274dc1554d",
   "metadata": {},
   "source": [
    "#### Check weather string for NaN"
   ]
  },
  {
   "cell_type": "code",
   "execution_count": 32,
   "id": "09370f8b-6fda-44c1-aedb-dfb6b79ed698",
   "metadata": {
    "tags": []
   },
   "outputs": [],
   "source": [
    "i = 0\n",
    "\n",
    "wxNanList=[]\n",
    "\n",
    "for time_step in times1:\n",
    "\n",
    "    timeDictWx = {timeDimWx: i}\n",
    "    wxNew = wx.isel(timeDictWx)\n",
    "    \n",
    "    nanCheck = wxNew.isnull().values\n",
    "    \n",
    "    nanStr = str(nanCheck)\n",
    "    \n",
    "    wxNanList.append(nanStr)\n",
    "     \n",
    "    i = i + 1"
   ]
  },
  {
   "cell_type": "code",
   "execution_count": 33,
   "id": "ec7c09e3-3a7b-4668-9d69-5ea394b026c9",
   "metadata": {
    "tags": []
   },
   "outputs": [],
   "source": [
    "wxNanCount = wxNanList.count('True')\n",
    "\n",
    "if wxNanCount > 0:\n",
    "    wxNanCheck = True\n",
    "\n",
    "else:\n",
    "    wxNanCheck = False"
   ]
  },
  {
   "cell_type": "markdown",
   "id": "1d50b6f9-3e37-485a-b690-0e89b4caebc0",
   "metadata": {},
   "source": [
    "#### Check dewpoint for NaN"
   ]
  },
  {
   "cell_type": "code",
   "execution_count": 34,
   "id": "2256277a-3b3d-44f9-a70d-e0072b8e8c37",
   "metadata": {
    "tags": []
   },
   "outputs": [],
   "source": [
    "i = 0\n",
    "\n",
    "dewpNanList=[]\n",
    "\n",
    "for time_step in times1:\n",
    "\n",
    "    timeDictDewp = {timeDimDewp: i}\n",
    "    dewpNew = forecastDewp.isel(timeDictDewp)\n",
    "    \n",
    "    nanCheck = dewpNew.isnull().values\n",
    "    \n",
    "    nanStr = str(nanCheck)\n",
    "    \n",
    "    dewpNanList.append(nanStr)\n",
    "     \n",
    "    i = i + 1"
   ]
  },
  {
   "cell_type": "code",
   "execution_count": 35,
   "id": "3cc42781-d2aa-45de-8833-2f8d84bd3768",
   "metadata": {
    "tags": []
   },
   "outputs": [],
   "source": [
    "dewpNanCount = dewpNanList.count('True')\n",
    "\n",
    "if dewpNanCount > 0:\n",
    "    dewpNanCheck = True\n",
    "\n",
    "else:\n",
    "    dewpNanCheck = False"
   ]
  },
  {
   "cell_type": "markdown",
   "id": "49d4f1aa-c32d-4ce9-800b-9e2cfa1ec603",
   "metadata": {},
   "source": [
    "#### Check temp for NaN"
   ]
  },
  {
   "cell_type": "code",
   "execution_count": 36,
   "id": "82c1740f-6ab7-4e8a-9393-35ed84dcb627",
   "metadata": {
    "tags": []
   },
   "outputs": [],
   "source": [
    "i = 0\n",
    "\n",
    "tempNanList=[]\n",
    "\n",
    "for time_step in times1:\n",
    "\n",
    "    timeDictTemp = {timeDimTemp: i}\n",
    "    tempNew = forecastTemp.isel(timeDictTemp)\n",
    "    \n",
    "    nanCheck = tempNew.isnull().values\n",
    "    \n",
    "    nanStr = str(nanCheck)\n",
    "    \n",
    "    tempNanList.append(nanStr)\n",
    "     \n",
    "    i = i + 1"
   ]
  },
  {
   "cell_type": "code",
   "execution_count": 37,
   "id": "7b3897a8-b5f9-46be-86cf-e92ed082eb30",
   "metadata": {
    "tags": []
   },
   "outputs": [],
   "source": [
    "tempNanCount = tempNanList.count('True')\n",
    "\n",
    "if tempNanCount > 0:\n",
    "    tempNanCheck = True\n",
    "\n",
    "else:\n",
    "    tempNanCheck = False"
   ]
  },
  {
   "cell_type": "markdown",
   "id": "e6de86f1-74bf-439b-a24e-faf545b61a73",
   "metadata": {},
   "source": [
    "#### Check max temp for NaN"
   ]
  },
  {
   "cell_type": "code",
   "execution_count": 38,
   "id": "d23f1780-9a84-4599-8521-a044fd2a6f03",
   "metadata": {
    "tags": []
   },
   "outputs": [],
   "source": [
    "i = 0\n",
    "\n",
    "maxNanList=[]\n",
    "\n",
    "for time_step in timesMax:\n",
    "\n",
    "    timeDictMax = {timeDimMax: i}\n",
    "    maxNew = forecastMax.isel(timeDictMax)\n",
    "    \n",
    "    nanCheck = maxNew.isnull().values\n",
    "    \n",
    "    nanStr = str(nanCheck)\n",
    "    \n",
    "    maxNanList.append(nanStr)\n",
    "     \n",
    "    i = i + 1"
   ]
  },
  {
   "cell_type": "code",
   "execution_count": 39,
   "id": "f676f9c5-a9fc-4b09-9f8e-e74029a62883",
   "metadata": {
    "tags": []
   },
   "outputs": [],
   "source": [
    "maxNanCount = maxNanList.count('True')\n",
    "\n",
    "if maxNanCount > 0:\n",
    "    maxNanCheck = True\n",
    "\n",
    "else:\n",
    "    maxNanCheck = False"
   ]
  },
  {
   "cell_type": "markdown",
   "id": "b286cbba-101c-4cff-a534-f7bc52e3f1fc",
   "metadata": {},
   "source": [
    "#### Check min temp for NaN"
   ]
  },
  {
   "cell_type": "code",
   "execution_count": 40,
   "id": "41bc6632-cc08-4b77-aa88-3f509c9c6efe",
   "metadata": {
    "tags": []
   },
   "outputs": [],
   "source": [
    "i = 0\n",
    "\n",
    "minNanList=[]\n",
    "\n",
    "for time_step in timesMin:\n",
    "\n",
    "    timeDictMin = {timeDimMin: i}\n",
    "    minNew = forecastMin.isel(timeDictMin)\n",
    "    \n",
    "    nanCheck = minNew.isnull().values\n",
    "    \n",
    "    nanStr = str(nanCheck)\n",
    "    \n",
    "    minNanList.append(nanStr)\n",
    "     \n",
    "    i = i + 1"
   ]
  },
  {
   "cell_type": "code",
   "execution_count": 41,
   "id": "fe7875fa-b302-440a-8f1a-470da46c2584",
   "metadata": {
    "tags": []
   },
   "outputs": [],
   "source": [
    "minNanCount = minNanList.count('True')\n",
    "\n",
    "if minNanCount > 0:\n",
    "    minNanCheck = True\n",
    "\n",
    "else:\n",
    "    minNanCheck = False"
   ]
  },
  {
   "cell_type": "markdown",
   "id": "6568c6c1-7756-45fc-8666-42613121978b",
   "metadata": {},
   "source": [
    "#### Check RH for NaN"
   ]
  },
  {
   "cell_type": "code",
   "execution_count": 42,
   "id": "cca0cffc-28a7-467f-901d-a5bcbc9b60fc",
   "metadata": {
    "tags": []
   },
   "outputs": [],
   "source": [
    "i = 0\n",
    "\n",
    "rhNanList=[]\n",
    "\n",
    "for time_step in times1:\n",
    "\n",
    "    timeDictRH = {timeDimRH: i}\n",
    "    rhNew = forecastRH.isel(timeDictRH)\n",
    "    \n",
    "    nanCheck = rhNew.isnull().values\n",
    "    \n",
    "    nanStr = str(nanCheck)\n",
    "    \n",
    "    rhNanList.append(nanStr)\n",
    "     \n",
    "    i = i + 1"
   ]
  },
  {
   "cell_type": "code",
   "execution_count": 43,
   "id": "876026c1-25ff-4223-b246-384c961f51b7",
   "metadata": {
    "tags": []
   },
   "outputs": [],
   "source": [
    "rhNanCount = rhNanList.count('True')\n",
    "\n",
    "if rhNanCount > 0:\n",
    "    rhNanCheck = True\n",
    "\n",
    "else:\n",
    "    rhNanCheck = False"
   ]
  },
  {
   "cell_type": "markdown",
   "id": "de7aad1e-adf0-4551-8ce4-a3933a7dd772",
   "metadata": {},
   "source": [
    "#### Display whether there is a NaN value or Not for each variable"
   ]
  },
  {
   "cell_type": "code",
   "execution_count": 44,
   "id": "eb0e5d76-e99c-4f3c-a854-4fe935457b88",
   "metadata": {
    "tags": []
   },
   "outputs": [
    {
     "data": {
      "text/plain": [
       "True"
      ]
     },
     "execution_count": 44,
     "metadata": {},
     "output_type": "execute_result"
    }
   ],
   "source": [
    "cloudNanCheck"
   ]
  },
  {
   "cell_type": "code",
   "execution_count": 45,
   "id": "4e924466-2527-46b8-8879-146f93bd1aa5",
   "metadata": {
    "tags": []
   },
   "outputs": [
    {
     "data": {
      "text/plain": [
       "True"
      ]
     },
     "execution_count": 45,
     "metadata": {},
     "output_type": "execute_result"
    }
   ],
   "source": [
    "wdspNanCheck"
   ]
  },
  {
   "cell_type": "code",
   "execution_count": 46,
   "id": "a97f04a0-074a-4307-8ac3-0f3bb18b6092",
   "metadata": {
    "tags": []
   },
   "outputs": [
    {
     "data": {
      "text/plain": [
       "True"
      ]
     },
     "execution_count": 46,
     "metadata": {},
     "output_type": "execute_result"
    }
   ],
   "source": [
    "wdrNanCheck"
   ]
  },
  {
   "cell_type": "code",
   "execution_count": 47,
   "id": "c6fed2f6-c73b-4f8c-9523-7c2b496fae1c",
   "metadata": {
    "tags": []
   },
   "outputs": [
    {
     "data": {
      "text/plain": [
       "True"
      ]
     },
     "execution_count": 47,
     "metadata": {},
     "output_type": "execute_result"
    }
   ],
   "source": [
    "wxNanCheck"
   ]
  },
  {
   "cell_type": "code",
   "execution_count": 48,
   "id": "1ba238f9-9e43-4541-b608-3538582bf0cd",
   "metadata": {
    "tags": []
   },
   "outputs": [
    {
     "data": {
      "text/plain": [
       "False"
      ]
     },
     "execution_count": 48,
     "metadata": {},
     "output_type": "execute_result"
    }
   ],
   "source": [
    "dewpNanCheck"
   ]
  },
  {
   "cell_type": "code",
   "execution_count": 49,
   "id": "88828f97-817f-4f51-9a19-291c1a9bbd3e",
   "metadata": {
    "tags": []
   },
   "outputs": [
    {
     "data": {
      "text/plain": [
       "False"
      ]
     },
     "execution_count": 49,
     "metadata": {},
     "output_type": "execute_result"
    }
   ],
   "source": [
    "tempNanCheck"
   ]
  },
  {
   "cell_type": "code",
   "execution_count": 50,
   "id": "8121802f-3f84-4252-913c-d3055d4c712b",
   "metadata": {
    "tags": []
   },
   "outputs": [
    {
     "data": {
      "text/plain": [
       "False"
      ]
     },
     "execution_count": 50,
     "metadata": {},
     "output_type": "execute_result"
    }
   ],
   "source": [
    "maxNanCheck"
   ]
  },
  {
   "cell_type": "code",
   "execution_count": 51,
   "id": "cf584d8d-ffc2-411c-b34e-e243f97b1656",
   "metadata": {},
   "outputs": [
    {
     "data": {
      "text/plain": [
       "False"
      ]
     },
     "execution_count": 51,
     "metadata": {},
     "output_type": "execute_result"
    }
   ],
   "source": [
    "minNanCheck"
   ]
  },
  {
   "cell_type": "code",
   "execution_count": 52,
   "id": "c95c055d-3903-48e1-9c8a-2c0577fd088e",
   "metadata": {},
   "outputs": [
    {
     "data": {
      "text/plain": [
       "False"
      ]
     },
     "execution_count": 52,
     "metadata": {},
     "output_type": "execute_result"
    }
   ],
   "source": [
    "rhNanCheck"
   ]
  },
  {
   "cell_type": "code",
   "execution_count": null,
   "id": "6ec4733e-191f-4990-91be-e10295f02538",
   "metadata": {},
   "outputs": [],
   "source": []
  }
 ],
 "metadata": {
  "kernelspec": {
   "display_name": "Python 3 August 2023 Environment",
   "language": "python",
   "name": "aug23"
  },
  "language_info": {
   "codemirror_mode": {
    "name": "ipython",
    "version": 3
   },
   "file_extension": ".py",
   "mimetype": "text/x-python",
   "name": "python",
   "nbconvert_exporter": "python",
   "pygments_lexer": "ipython3",
   "version": "3.11.4"
  }
 },
 "nbformat": 4,
 "nbformat_minor": 5
}
