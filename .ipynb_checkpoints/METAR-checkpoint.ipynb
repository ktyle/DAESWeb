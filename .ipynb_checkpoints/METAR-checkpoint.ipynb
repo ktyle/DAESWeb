{
 "cells": [
  {
   "cell_type": "markdown",
   "metadata": {},
   "source": [
    "# METAR Data Query using Siphon from a THREDDS server"
   ]
  },
  {
   "cell_type": "code",
   "execution_count": 2,
   "metadata": {
    "tags": []
   },
   "outputs": [],
   "source": [
    "import numpy as np\n",
    "\n",
    "import matplotlib.pyplot as plt\n",
    "from matplotlib.dates import DateFormatter, AutoDateLocator,YearLocator, HourLocator,DayLocator,MonthLocator\n",
    "\n",
    "from netCDF4 import num2date\n",
    "\n",
    "from metpy.units import units\n",
    "from siphon.catalog import TDSCatalog\n",
    "from siphon.ncss import NCSS\n",
    "from datetime import datetime, timedelta"
   ]
  },
  {
   "cell_type": "markdown",
   "metadata": {},
   "source": [
    "### Determine the URL that offers the METAR Feature Collection.  We get this by going to the folder on the THREDDS Server that  contains METAR data, then right-click on the Feature Collection link and copy the URL ... but change \"catalog.html\" to \"catalog.xml\".  Currently, if you leave it as \"catalog.html\", Siphon will automatically correct it for you to \"catalog.xml\", warning you in the process.\n",
    "\n",
    "### For the Unidata THREDDS server, the URL that contains the link to the METAR Feature Collection is:\n",
    "https://thredds.ucar.edu/thredds/catalog/nws/metar/ncdecoded/catalog.html\n",
    "\n",
    "### For UAlbany's THREDDS server, the URL that contains the link to the METAR Feature Collection is:\n",
    "http://thredds.atmos.albany.edu:8080/thredds/catalog/metar/ncdecoded/catalog.html\n"
   ]
  },
  {
   "cell_type": "code",
   "execution_count": 3,
   "metadata": {
    "tags": []
   },
   "outputs": [
    {
     "name": "stdout",
     "output_type": "stream",
     "text": [
      "Feature Collection\n",
      "['Feature Collection']\n"
     ]
    }
   ],
   "source": [
    "# UCAR METAR dataset is already in netCDF format.\n",
    "#metar_cat_url = 'http://thredds.ucar.edu/thredds/catalog/nws/metar/ncdecoded/catalog.html?dataset=nws/metar/ncdecoded/Metar_Station_Data_fc.cdmr'\n",
    "#metar_cat_url = 'http://thredds.ucar.edu/thredds/catalog/nws/metar/ncdecoded/catalog.xml?dataset=nws/metar/ncdecoded/Metar_Station_Data_fc.cdmr'\n",
    "\n",
    "# Albany version is GEMPAK converted to netCDF.\n",
    "# Two possibilities:  one is the one-year archive, updated once per day; the other is the most-recent week archive, updated in real time.\n",
    "#metar_cat_url = 'http://thredds.atmos.albany.edu:8080/thredds/catalog/metarArchive/ncdecoded/catalog.xml?dataset=metarArchive/ncdecoded/Archived_Metar_Station_Data_fc.cdmr'\n",
    "metar_cat_url = 'http://thredds.atmos.albany.edu:8080/thredds/catalog/metar/ncdecoded/catalog.xml?dataset=metar/ncdecoded/Metar_Station_Data_fc.cdmr'\n",
    "# Parse the xml and return a THREDDS Catalog Object.\n",
    "catalog = TDSCatalog(metar_cat_url)\n",
    "print(catalog)\n",
    "# what datasets are here?\n",
    "print(list(catalog.datasets))\n",
    "\n",
    "metar_dataset = catalog.datasets['Feature Collection']"
   ]
  },
  {
   "cell_type": "markdown",
   "metadata": {},
   "source": [
    "So we've grabbed the \"Feature Collection\" dataset from the catalog. We can look at the `access_urls` attribute to see what methods available for accessing the data.  One of them will be the Netcdf Subset Service, so we extract the URL for this service."
   ]
  },
  {
   "cell_type": "code",
   "execution_count": 4,
   "metadata": {
    "tags": []
   },
   "outputs": [
    {
     "name": "stdout",
     "output_type": "stream",
     "text": [
      "['NetcdfSubset']\n",
      "http://thredds.atmos.albany.edu:8080/thredds/ncss/metar/ncdecoded/Metar_Station_Data_fc.cdmr\n"
     ]
    }
   ],
   "source": [
    "print(list(metar_dataset.access_urls))\n",
    "\n",
    "ncss_url = metar_dataset.access_urls['NetcdfSubset']\n",
    "print(ncss_url)"
   ]
  },
  {
   "cell_type": "markdown",
   "metadata": {},
   "source": [
    "### Ok...but what is NetcdfSubset\n",
    " * A web service for subsetting scientific data following the \"CDM\" (aka, the Common Data Model ... a set of data standards for climate and meteorological data)\n",
    " * The subsetting is specified using earth coordinates\n",
    "  * lat/lon or projection coordinates, bounding boxes, date ranges\n",
    "  * <b>Not</b> index based!\n",
    " * Check out the details in your browser: http://www.unidata.ucar.edu/software/thredds/v4.6/tds/reference/NetcdfSubsetServiceReference.html\n",
    " * Rather than construct the request \"by hand\", let's use siphon!"
   ]
  },
  {
   "cell_type": "code",
   "execution_count": 5,
   "metadata": {
    "tags": []
   },
   "outputs": [],
   "source": [
    "# We have the URL for our catalog's NetCDF Subset service, now create an object using the ncss client and pull, among other things,\n",
    "# a list of variables that can be requested from the NCSS.\n",
    "ncss = NCSS(ncss_url)"
   ]
  },
  {
   "cell_type": "markdown",
   "metadata": {},
   "source": [
    "What variables do we have available?"
   ]
  },
  {
   "cell_type": "code",
   "execution_count": 6,
   "metadata": {
    "tags": []
   },
   "outputs": [
    {
     "name": "stdout",
     "output_type": "stream",
     "text": [
      "{'DWPC', 'P01I', 'SNEW', 'MSUN', 'P03C', 'WNUM', 'CTYM', 'P06I', 'CHC1', 'CEIL', 'SKNT', '_isMissing', 'CTYL', 'P03D', 'P24I', 'TDXC', 'WEQS', 'COUN', 'T6NC', 'TMPC', 'P03I', 'DRCT', 'STAT', 'CTYH', 'SPRI', 'CHC3', 'CHC2', 'STD2', 'VSBY', 'STNM', 'GUST', 'SNOW', 'TDNC', 'ALTI', 'PMSL', 'T6XC'}\n"
     ]
    }
   ],
   "source": [
    "print(ncss.variables)"
   ]
  },
  {
   "cell_type": "code",
   "execution_count": 10,
   "metadata": {
    "tags": []
   },
   "outputs": [],
   "source": [
    "ncss.variables.remove('_isMissing')"
   ]
  },
  {
   "cell_type": "code",
   "execution_count": 13,
   "metadata": {
    "tags": []
   },
   "outputs": [],
   "source": [
    "varList = sorted(ncss.variables)"
   ]
  },
  {
   "cell_type": "code",
   "execution_count": 14,
   "metadata": {
    "tags": []
   },
   "outputs": [
    {
     "data": {
      "text/plain": [
       "['ALTI',\n",
       " 'CEIL',\n",
       " 'CHC1',\n",
       " 'CHC2',\n",
       " 'CHC3',\n",
       " 'COUN',\n",
       " 'CTYH',\n",
       " 'CTYL',\n",
       " 'CTYM',\n",
       " 'DRCT',\n",
       " 'DWPC',\n",
       " 'GUST',\n",
       " 'MSUN',\n",
       " 'P01I',\n",
       " 'P03C',\n",
       " 'P03D',\n",
       " 'P03I',\n",
       " 'P06I',\n",
       " 'P24I',\n",
       " 'PMSL',\n",
       " 'SKNT',\n",
       " 'SNEW',\n",
       " 'SNOW',\n",
       " 'SPRI',\n",
       " 'STAT',\n",
       " 'STD2',\n",
       " 'STNM',\n",
       " 'T6NC',\n",
       " 'T6XC',\n",
       " 'TDNC',\n",
       " 'TDXC',\n",
       " 'TMPC',\n",
       " 'VSBY',\n",
       " 'WEQS',\n",
       " 'WNUM']"
      ]
     },
     "execution_count": 14,
     "metadata": {},
     "output_type": "execute_result"
    }
   ],
   "source": [
    "varList"
   ]
  },
  {
   "cell_type": "code",
   "execution_count": 18,
   "metadata": {
    "tags": []
   },
   "outputs": [
    {
     "name": "stdout",
     "output_type": "stream",
     "text": [
      "ALTI\n",
      "CEIL\n",
      "CHC1\n",
      "CHC2\n",
      "CHC3\n",
      "COUN\n",
      "CTYH\n",
      "CTYL\n",
      "CTYM\n",
      "DRCT\n",
      "DWPC\n",
      "GUST\n",
      "MSUN\n",
      "P01I\n",
      "P03C\n",
      "P03D\n",
      "P03I\n",
      "P06I\n",
      "P24I\n",
      "PMSL\n",
      "SKNT\n",
      "SNEW\n",
      "SNOW\n",
      "SPRI\n",
      "STAT\n",
      "STD2\n",
      "STNM\n",
      "T6NC\n",
      "T6XC\n",
      "TDNC\n",
      "TDXC\n",
      "TMPC\n",
      "VSBY\n",
      "WEQS\n",
      "WNUM\n"
     ]
    }
   ],
   "source": [
    "for var in varList:\n",
    "    print(var)"
   ]
  },
  {
   "cell_type": "markdown",
   "metadata": {},
   "source": [
    "This is a list of all the variables that can be queried.  It contains all of the variables that exist in the datafile(s) that make up this catalog (in the case of a GEMPAK file, those that appear when one sets SFPARM=DSET when running the GEMPAK program <b>sflist</b>, plus columns existing in the GEMPAK surface station table, as well as a missing data flag.\n",
    "* Let's say we want the past days worth of data...\n",
    "* ...for a particular point(i.e. the lat/lon)\n",
    "* ...for the variables mean sea level pressure, air temperature, dew point, wind direction, windspeed, altimeter, and daily max & min temperatures\n",
    "* ... we get the data back as a netCDF file"
   ]
  },
  {
   "cell_type": "code",
   "execution_count": 15,
   "metadata": {
    "tags": []
   },
   "outputs": [],
   "source": [
    "# get current date and time\n",
    "\n",
    "now = datetime.utcnow()\n",
    "now = datetime(now.year, now.month, now.day, now.hour)\n",
    "\n",
    "# define the time range we are interested in (if doing a time series plot, define the start and end times).\n",
    "start_time = now - timedelta(days=7)\n",
    "end_time = now\n",
    "\n",
    "# build the query\n",
    "query = ncss.query()"
   ]
  },
  {
   "cell_type": "code",
   "execution_count": 20,
   "metadata": {
    "tags": []
   },
   "outputs": [
    {
     "data": {
      "text/plain": [
       "var=all&time=2023-12-18T16%3A00%3A00&stns=ALB&subset=stns&accept=netcdf"
      ]
     },
     "execution_count": 20,
     "metadata": {},
     "output_type": "execute_result"
    }
   ],
   "source": [
    "# Select a location or list of locatons. \n",
    "#This can be either a single point (THREDDS will attempt to locate the nearest station) or an actual METAR site ID.\n",
    "\n",
    "#query.lonlat_point(-73.8, 42.75)\n",
    "query.add_query_parameter(stns='ALB',subset='stns')\n",
    "#Comment out/uncomment the time-related query line depending on the nature of your query. \n",
    "query.time(now)\n",
    "#query.time_range(start_time, end_time)\n",
    "query.variables('all')\n",
    "#query.variables('PMSL', 'TMPC', 'DWPC',\n",
    "#                'DRCT', 'SKNT','ALTI','TDXC','TDNC')\n",
    "query.accept('netcdf')"
   ]
  },
  {
   "cell_type": "markdown",
   "metadata": {},
   "source": [
    "## What does the request url look like?\n",
    "### The full request might look like:\n",
    "\n",
    "http://thredds.atmos.albany.edu:8080/thredds/ncss/metar/ncdecoded/Metar_Station_Data_fc.cdmr?req=station&var=TMPC&latitude=42.75&longitude=-73.8&time_start=2018-04-08T00%3A00%3A00Z&time_end=2018-04-10T20%3A00%3A00Z&accept=csv\n",
    "\n",
    "### The first part of the URL would be of the form:\n",
    "#### http://path/to/MetarData_fc.cdmr?req=station&\n",
    "### and the second part is what is contained in the <b>query</b> object."
   ]
  },
  {
   "cell_type": "code",
   "execution_count": 21,
   "metadata": {
    "scrolled": true,
    "tags": []
   },
   "outputs": [
    {
     "name": "stdout",
     "output_type": "stream",
     "text": [
      "var=all&time=2023-12-18T16%3A00%3A00&stns=ALB&subset=stns&accept=netcdf\n"
     ]
    }
   ],
   "source": [
    "#req=station&var=TMPC&stns=ROC%2CALB&subset=stns&time_start=2018-04-10T00%3A00%3A00Z&time_end=2018-04-11T00%3A00%3A00Z&accept=csv\n",
    "print(query)"
   ]
  },
  {
   "cell_type": "markdown",
   "metadata": {},
   "source": [
    "## Let's get the data!  This may only take a few seconds for a short time period (e.g., one week), but expect 5-10 minutes if you queried an entire year's worth of data from the Metar Archive catalog.\n",
    "### The %time magic will calculate how long it takes to execute whatever code occurs to the right of the magic statement.  Commented out here ... uncomment if you wish.\n",
    "### A netCDF dataset gets returned as object name <i>data</i>.  Like any netCDF dataset, we can use various methods to pull out data enclosed within."
   ]
  },
  {
   "cell_type": "code",
   "execution_count": 22,
   "metadata": {
    "tags": []
   },
   "outputs": [
    {
     "name": "stdout",
     "output_type": "stream",
     "text": [
      "CPU times: user 3.68 ms, sys: 2.49 ms, total: 6.17 ms\n",
      "Wall time: 324 ms\n"
     ]
    },
    {
     "data": {
      "text/plain": [
       "<class 'netCDF4._netCDF4.Dataset'>\n",
       "root group (NETCDF3_CLASSIC data model, file format NETCDF3):\n",
       "    Conventions: CF-1.6\n",
       "    history: Written by CFPointWriter\n",
       "    title: Extracted data from TDS Feature Collection Metar Station Data\n",
       "    time_coverage_start: 2023-12-18T17:00:00Z\n",
       "    time_coverage_end: 2023-12-18T17:00:00Z\n",
       "    geospatial_lat_min: 42.7495\n",
       "    geospatial_lat_max: 42.7505\n",
       "    geospatial_lon_min: -73.80050305175781\n",
       "    geospatial_lon_max: -73.79950305175781\n",
       "    featureType: timeSeries\n",
       "    dimensions(sizes): obs(1), station(1), station_id_strlen(3), len2(2), len4(4)\n",
       "    variables(dimensions): float64 latitude(station), float64 longitude(station), float64 stationAltitude(station), |S1 station_id(station, station_id_strlen), |S1 STAT(station, len2), int32 SPRI(station), int32 STNM(station), |S1 STD2(station, len4), |S1 COUN(station, len2), float64 time(obs), int32 stationIndex(obs), float32 PMSL(obs), float32 ALTI(obs), float32 TMPC(obs), float32 DWPC(obs), float32 SKNT(obs), float32 DRCT(obs), float32 GUST(obs), float32 WNUM(obs), float32 CHC1(obs), float32 CHC2(obs), float32 CHC3(obs), float32 VSBY(obs), float32 P03D(obs), float32 P03I(obs), float32 MSUN(obs), float32 SNOW(obs), float32 WEQS(obs), float32 P24I(obs), float32 TDXC(obs), float32 TDNC(obs), float32 P03C(obs), float32 CTYL(obs), float32 CTYM(obs), float32 CTYH(obs), float32 P06I(obs), float32 T6XC(obs), float32 T6NC(obs), float32 CEIL(obs), float32 P01I(obs), float32 SNEW(obs), int8 _isMissing(obs)\n",
       "    groups: "
      ]
     },
     "execution_count": 22,
     "metadata": {},
     "output_type": "execute_result"
    }
   ],
   "source": [
    "%time data = ncss.get_data(query)\n",
    "data = ncss.get_data(query)\n",
    "data"
   ]
  },
  {
   "cell_type": "code",
   "execution_count": 23,
   "metadata": {
    "tags": []
   },
   "outputs": [
    {
     "name": "stdout",
     "output_type": "stream",
     "text": [
      "['latitude', 'longitude', 'stationAltitude', 'station_id', 'STAT', 'SPRI', 'STNM', 'STD2', 'COUN', 'time', 'stationIndex', 'PMSL', 'ALTI', 'TMPC', 'DWPC', 'SKNT', 'DRCT', 'GUST', 'WNUM', 'CHC1', 'CHC2', 'CHC3', 'VSBY', 'P03D', 'P03I', 'MSUN', 'SNOW', 'WEQS', 'P24I', 'TDXC', 'TDNC', 'P03C', 'CTYL', 'CTYM', 'CTYH', 'P06I', 'T6XC', 'T6NC', 'CEIL', 'P01I', 'SNEW', '_isMissing']\n"
     ]
    }
   ],
   "source": [
    "print(list(data.variables))"
   ]
  },
  {
   "cell_type": "markdown",
   "metadata": {},
   "source": [
    "## What station did we get?  Station id is actually returned as a matrix, whose first element is the list of bytes and whose second element is the length of the string."
   ]
  },
  {
   "cell_type": "code",
   "execution_count": 24,
   "metadata": {
    "tags": []
   },
   "outputs": [
    {
     "name": "stdout",
     "output_type": "stream",
     "text": [
      "<class 'netCDF4._netCDF4.Variable'>\n",
      "|S1 station_id(station, station_id_strlen)\n",
      "    long_name: station identifier\n",
      "    cf_role: timeseries_id\n",
      "unlimited dimensions: \n",
      "current shape = (1, 3)\n",
      "filling on, default _FillValue of \u0000 used\n",
      "b'ALB'\n"
     ]
    }
   ],
   "source": [
    "print (data['station_id'])\n",
    "station_id = data['station_id'][0].tobytes()\n",
    "print(station_id)"
   ]
  },
  {
   "cell_type": "markdown",
   "metadata": {},
   "source": [
    "That indicates that we have a Python `bytes` object, containing the 0-255 values corresponding to `'A', 'L', 'B'` or whatever location is closest to the coordinate we chose. We can `decode` those bytes into a string by specifying the character set.  Usually ascii is fine."
   ]
  },
  {
   "cell_type": "code",
   "execution_count": 25,
   "metadata": {
    "tags": []
   },
   "outputs": [
    {
     "name": "stdout",
     "output_type": "stream",
     "text": [
      "ALB\n"
     ]
    }
   ],
   "source": [
    "station_id = station_id.decode('ascii')\n",
    "#station_id = station_id.decode('utf-8')\n",
    "print(station_id)"
   ]
  },
  {
   "cell_type": "markdown",
   "metadata": {},
   "source": [
    "Let's get the time into a datetime object.  We use a particular method from the netCDF4 library specifially tasked with processing date/time data in a netCDF file.  In netCDF, the convention is to represent time as an array of values representing time increments relative to a certain base date / time.\n",
    "\n",
    "When we print out the resulting datetime object, we see it has year, month, date, hour, and minute parts.  Interestingly,\n",
    "note that several of the hours may have minutes that are not equal to 0.  GEMPAK files contain 3 times per hour ... with \n",
    "minutes being 0, 20, or 40.  The values really shouldn't be anything other than 0 for ALB, so something is going wrong at times, but let's not worry about that for now."
   ]
  },
  {
   "cell_type": "code",
   "execution_count": 26,
   "metadata": {
    "tags": []
   },
   "outputs": [
    {
     "name": "stdout",
     "output_type": "stream",
     "text": [
      "<class 'netCDF4._netCDF4.Variable'>\n",
      "float64 time(obs)\n",
      "    units: seconds since 1970-01-01\n",
      "    long_name: time of measurement\n",
      "unlimited dimensions: obs\n",
      "current shape = (1,)\n",
      "filling on, default _FillValue of 9.969209968386869e+36 used\n",
      "[cftime.DatetimeGregorian(2023, 12, 18, 17, 0, 0, 0, has_year_zero=False)]\n"
     ]
    }
   ],
   "source": [
    "time_var = data.variables['time']\n",
    "print (time_var)\n",
    "time = num2date(time_var[:], time_var.units)\n",
    "print (time)"
   ]
  },
  {
   "cell_type": "markdown",
   "metadata": {},
   "source": [
    "If there are multiple times queried, sort them."
   ]
  },
  {
   "cell_type": "code",
   "execution_count": 27,
   "metadata": {
    "tags": []
   },
   "outputs": [
    {
     "name": "stdout",
     "output_type": "stream",
     "text": [
      "[0]\n"
     ]
    }
   ],
   "source": [
    "sort_inds = np.argsort(time)\n",
    "print (sort_inds)"
   ]
  },
  {
   "cell_type": "code",
   "execution_count": 28,
   "metadata": {
    "tags": []
   },
   "outputs": [
    {
     "name": "stdout",
     "output_type": "stream",
     "text": [
      "[cftime.DatetimeGregorian(2023, 12, 18, 17, 0, 0, 0, has_year_zero=False)]\n"
     ]
    }
   ],
   "source": [
    "# (use a reverse stride to sort the dates in reverse order)\n",
    "#sort_inds = np.argsort(time)[::-1]\n",
    "time = time[sort_inds]\n",
    "print (time)"
   ]
  },
  {
   "cell_type": "code",
   "execution_count": 29,
   "metadata": {
    "tags": []
   },
   "outputs": [
    {
     "data": {
      "text/plain": [
       "{'latitude': <class 'netCDF4._netCDF4.Variable'>\n",
       " float64 latitude(station)\n",
       "     units: degrees_north\n",
       "     long_name: station latitude\n",
       " unlimited dimensions: \n",
       " current shape = (1,)\n",
       " filling on, default _FillValue of 9.969209968386869e+36 used,\n",
       " 'longitude': <class 'netCDF4._netCDF4.Variable'>\n",
       " float64 longitude(station)\n",
       "     units: degrees_east\n",
       "     long_name: station longitude\n",
       " unlimited dimensions: \n",
       " current shape = (1,)\n",
       " filling on, default _FillValue of 9.969209968386869e+36 used,\n",
       " 'stationAltitude': <class 'netCDF4._netCDF4.Variable'>\n",
       " float64 stationAltitude(station)\n",
       "     long_name: station altitude\n",
       "     standard_name: surface_altitude\n",
       "     positive: up\n",
       " unlimited dimensions: \n",
       " current shape = (1,)\n",
       " filling on, default _FillValue of 9.969209968386869e+36 used,\n",
       " 'station_id': <class 'netCDF4._netCDF4.Variable'>\n",
       " |S1 station_id(station, station_id_strlen)\n",
       "     long_name: station identifier\n",
       "     cf_role: timeseries_id\n",
       " unlimited dimensions: \n",
       " current shape = (1, 3)\n",
       " filling on, default _FillValue of \u0000 used,\n",
       " 'STAT': <class 'netCDF4._netCDF4.Variable'>\n",
       " |S1 STAT(station, len2)\n",
       " unlimited dimensions: \n",
       " current shape = (1, 2)\n",
       " filling on, default _FillValue of \u0000 used,\n",
       " 'SPRI': <class 'netCDF4._netCDF4.Variable'>\n",
       " int32 SPRI(station)\n",
       " unlimited dimensions: \n",
       " current shape = (1,)\n",
       " filling on, default _FillValue of -2147483647 used,\n",
       " 'STNM': <class 'netCDF4._netCDF4.Variable'>\n",
       " int32 STNM(station)\n",
       " unlimited dimensions: \n",
       " current shape = (1,)\n",
       " filling on, default _FillValue of -2147483647 used,\n",
       " 'STD2': <class 'netCDF4._netCDF4.Variable'>\n",
       " |S1 STD2(station, len4)\n",
       " unlimited dimensions: \n",
       " current shape = (1, 4)\n",
       " filling on, default _FillValue of \u0000 used,\n",
       " 'COUN': <class 'netCDF4._netCDF4.Variable'>\n",
       " |S1 COUN(station, len2)\n",
       " unlimited dimensions: \n",
       " current shape = (1, 2)\n",
       " filling on, default _FillValue of \u0000 used,\n",
       " 'time': <class 'netCDF4._netCDF4.Variable'>\n",
       " float64 time(obs)\n",
       "     units: seconds since 1970-01-01\n",
       "     long_name: time of measurement\n",
       " unlimited dimensions: obs\n",
       " current shape = (1,)\n",
       " filling on, default _FillValue of 9.969209968386869e+36 used,\n",
       " 'stationIndex': <class 'netCDF4._netCDF4.Variable'>\n",
       " int32 stationIndex(obs)\n",
       "     long_name: station index for this observation record\n",
       "     instance_dimension: station\n",
       " unlimited dimensions: obs\n",
       " current shape = (1,)\n",
       " filling on, default _FillValue of -2147483647 used,\n",
       " 'PMSL': <class 'netCDF4._netCDF4.Variable'>\n",
       " float32 PMSL(obs)\n",
       "     long_name: Mean sea level pressure\n",
       "     units: millibar\n",
       "     missing_value: -9999.0\n",
       "     coordinates: time latitude longitude stationAltitude\n",
       " unlimited dimensions: obs\n",
       " current shape = (1,)\n",
       " filling on, default _FillValue of 9.969209968386869e+36 used,\n",
       " 'ALTI': <class 'netCDF4._netCDF4.Variable'>\n",
       " float32 ALTI(obs)\n",
       "     long_name: Altimeter setting\n",
       "     units: inch_Hg\n",
       "     missing_value: -9999.0\n",
       "     coordinates: time latitude longitude stationAltitude\n",
       " unlimited dimensions: obs\n",
       " current shape = (1,)\n",
       " filling on, default _FillValue of 9.969209968386869e+36 used,\n",
       " 'TMPC': <class 'netCDF4._netCDF4.Variable'>\n",
       " float32 TMPC(obs)\n",
       "     long_name: Temperature\n",
       "     units: degC\n",
       "     missing_value: -9999.0\n",
       "     coordinates: time latitude longitude stationAltitude\n",
       " unlimited dimensions: obs\n",
       " current shape = (1,)\n",
       " filling on, default _FillValue of 9.969209968386869e+36 used,\n",
       " 'DWPC': <class 'netCDF4._netCDF4.Variable'>\n",
       " float32 DWPC(obs)\n",
       "     long_name: Dew-point temperature\n",
       "     units: degC\n",
       "     missing_value: -9999.0\n",
       "     coordinates: time latitude longitude stationAltitude\n",
       " unlimited dimensions: obs\n",
       " current shape = (1,)\n",
       " filling on, default _FillValue of 9.969209968386869e+36 used,\n",
       " 'SKNT': <class 'netCDF4._netCDF4.Variable'>\n",
       " float32 SKNT(obs)\n",
       "     long_name: Wind speed\n",
       "     units: knot\n",
       "     missing_value: -9999.0\n",
       "     coordinates: time latitude longitude stationAltitude\n",
       " unlimited dimensions: obs\n",
       " current shape = (1,)\n",
       " filling on, default _FillValue of 9.969209968386869e+36 used,\n",
       " 'DRCT': <class 'netCDF4._netCDF4.Variable'>\n",
       " float32 DRCT(obs)\n",
       "     long_name: Wind direction\n",
       "     units: degree\n",
       "     missing_value: -9999.0\n",
       "     coordinates: time latitude longitude stationAltitude\n",
       " unlimited dimensions: obs\n",
       " current shape = (1,)\n",
       " filling on, default _FillValue of 9.969209968386869e+36 used,\n",
       " 'GUST': <class 'netCDF4._netCDF4.Variable'>\n",
       " float32 GUST(obs)\n",
       "     long_name: Wind gusts\n",
       "     units: knot\n",
       "     missing_value: -9999.0\n",
       "     coordinates: time latitude longitude stationAltitude\n",
       " unlimited dimensions: obs\n",
       " current shape = (1,)\n",
       " filling on, default _FillValue of 9.969209968386869e+36 used,\n",
       " 'WNUM': <class 'netCDF4._netCDF4.Variable'>\n",
       " float32 WNUM(obs)\n",
       "     long_name: Numeric weather code\n",
       "     missing_value: -9999.0\n",
       "     coordinates: time latitude longitude stationAltitude\n",
       " unlimited dimensions: obs\n",
       " current shape = (1,)\n",
       " filling on, default _FillValue of 9.969209968386869e+36 used,\n",
       " 'CHC1': <class 'netCDF4._netCDF4.Variable'>\n",
       " float32 CHC1(obs)\n",
       "     long_name: Cloud height and coverage level 1\n",
       "     missing_value: -9999.0\n",
       "     coordinates: time latitude longitude stationAltitude\n",
       " unlimited dimensions: obs\n",
       " current shape = (1,)\n",
       " filling on, default _FillValue of 9.969209968386869e+36 used,\n",
       " 'CHC2': <class 'netCDF4._netCDF4.Variable'>\n",
       " float32 CHC2(obs)\n",
       "     long_name: Cloud height and coverage level 2\n",
       "     missing_value: -9999.0\n",
       "     coordinates: time latitude longitude stationAltitude\n",
       " unlimited dimensions: obs\n",
       " current shape = (1,)\n",
       " filling on, default _FillValue of 9.969209968386869e+36 used,\n",
       " 'CHC3': <class 'netCDF4._netCDF4.Variable'>\n",
       " float32 CHC3(obs)\n",
       "     long_name: Cloud height and coverage level 3\n",
       "     missing_value: -9999.0\n",
       "     coordinates: time latitude longitude stationAltitude\n",
       " unlimited dimensions: obs\n",
       " current shape = (1,)\n",
       " filling on, default _FillValue of 9.969209968386869e+36 used,\n",
       " 'VSBY': <class 'netCDF4._netCDF4.Variable'>\n",
       " float32 VSBY(obs)\n",
       "     long_name: Visibility\n",
       "     units: US_statute_mile\n",
       "     missing_value: -9999.0\n",
       "     coordinates: time latitude longitude stationAltitude\n",
       " unlimited dimensions: obs\n",
       " current shape = (1,)\n",
       " filling on, default _FillValue of 9.969209968386869e+36 used,\n",
       " 'P03D': <class 'netCDF4._netCDF4.Variable'>\n",
       " float32 P03D(obs)\n",
       "     long_name: Pressure tendency and group\n",
       "     missing_value: -9999.0\n",
       "     coordinates: time latitude longitude stationAltitude\n",
       " unlimited dimensions: obs\n",
       " current shape = (1,)\n",
       " filling on, default _FillValue of 9.969209968386869e+36 used,\n",
       " 'P03I': <class 'netCDF4._netCDF4.Variable'>\n",
       " float32 P03I(obs)\n",
       "     long_name: Total precipitation 03 hour\n",
       "     units: in\n",
       "     missing_value: -9999.0\n",
       "     coordinates: time latitude longitude stationAltitude\n",
       " unlimited dimensions: obs\n",
       " current shape = (1,)\n",
       " filling on, default _FillValue of 9.969209968386869e+36 used,\n",
       " 'MSUN': <class 'netCDF4._netCDF4.Variable'>\n",
       " float32 MSUN(obs)\n",
       "     long_name: Duration of sunshine\n",
       "     units: minute\n",
       "     missing_value: -9999.0\n",
       "     coordinates: time latitude longitude stationAltitude\n",
       " unlimited dimensions: obs\n",
       " current shape = (1,)\n",
       " filling on, default _FillValue of 9.969209968386869e+36 used,\n",
       " 'SNOW': <class 'netCDF4._netCDF4.Variable'>\n",
       " float32 SNOW(obs)\n",
       "     long_name: Snow depth\n",
       "     units: inch\n",
       "     missing_value: -9999.0\n",
       "     coordinates: time latitude longitude stationAltitude\n",
       " unlimited dimensions: obs\n",
       " current shape = (1,)\n",
       " filling on, default _FillValue of 9.969209968386869e+36 used,\n",
       " 'WEQS': <class 'netCDF4._netCDF4.Variable'>\n",
       " float32 WEQS(obs)\n",
       "     long_name: Water equivalent of snow depth\n",
       "     units: inch\n",
       "     missing_value: -9999.0\n",
       "     coordinates: time latitude longitude stationAltitude\n",
       " unlimited dimensions: obs\n",
       " current shape = (1,)\n",
       " filling on, default _FillValue of 9.969209968386869e+36 used,\n",
       " 'P24I': <class 'netCDF4._netCDF4.Variable'>\n",
       " float32 P24I(obs)\n",
       "     long_name: Total precipitation 24 hour\n",
       "     units: in\n",
       "     missing_value: -9999.0\n",
       "     coordinates: time latitude longitude stationAltitude\n",
       " unlimited dimensions: obs\n",
       " current shape = (1,)\n",
       " filling on, default _FillValue of 9.969209968386869e+36 used,\n",
       " 'TDXC': <class 'netCDF4._netCDF4.Variable'>\n",
       " float32 TDXC(obs)\n",
       "     long_name: Maximum 24 hour temperature\n",
       "     units: degC\n",
       "     missing_value: -9999.0\n",
       "     coordinates: time latitude longitude stationAltitude\n",
       " unlimited dimensions: obs\n",
       " current shape = (1,)\n",
       " filling on, default _FillValue of 9.969209968386869e+36 used,\n",
       " 'TDNC': <class 'netCDF4._netCDF4.Variable'>\n",
       " float32 TDNC(obs)\n",
       "     long_name: Minimum 24 hour temperature\n",
       "     units: degC\n",
       "     missing_value: -9999.0\n",
       "     coordinates: time latitude longitude stationAltitude\n",
       " unlimited dimensions: obs\n",
       " current shape = (1,)\n",
       " filling on, default _FillValue of 9.969209968386869e+36 used,\n",
       " 'P03C': <class 'netCDF4._netCDF4.Variable'>\n",
       " float32 P03C(obs)\n",
       "     long_name: 3 hr pressure change\n",
       "     units: millibar\n",
       "     missing_value: -9999.0\n",
       "     coordinates: time latitude longitude stationAltitude\n",
       " unlimited dimensions: obs\n",
       " current shape = (1,)\n",
       " filling on, default _FillValue of 9.969209968386869e+36 used,\n",
       " 'CTYL': <class 'netCDF4._netCDF4.Variable'>\n",
       " float32 CTYL(obs)\n",
       "     long_name: Low-level cloud genera\n",
       "     missing_value: -9999.0\n",
       "     coordinates: time latitude longitude stationAltitude\n",
       " unlimited dimensions: obs\n",
       " current shape = (1,)\n",
       " filling on, default _FillValue of 9.969209968386869e+36 used,\n",
       " 'CTYM': <class 'netCDF4._netCDF4.Variable'>\n",
       " float32 CTYM(obs)\n",
       "     long_name: Mid-level cloud genera\n",
       "     missing_value: -9999.0\n",
       "     coordinates: time latitude longitude stationAltitude\n",
       " unlimited dimensions: obs\n",
       " current shape = (1,)\n",
       " filling on, default _FillValue of 9.969209968386869e+36 used,\n",
       " 'CTYH': <class 'netCDF4._netCDF4.Variable'>\n",
       " float32 CTYH(obs)\n",
       "     long_name: High-level cloud genera\n",
       "     missing_value: -9999.0\n",
       "     coordinates: time latitude longitude stationAltitude\n",
       " unlimited dimensions: obs\n",
       " current shape = (1,)\n",
       " filling on, default _FillValue of 9.969209968386869e+36 used,\n",
       " 'P06I': <class 'netCDF4._netCDF4.Variable'>\n",
       " float32 P06I(obs)\n",
       "     long_name: Total precipitation 06 hour\n",
       "     units: in\n",
       "     missing_value: -9999.0\n",
       "     coordinates: time latitude longitude stationAltitude\n",
       " unlimited dimensions: obs\n",
       " current shape = (1,)\n",
       " filling on, default _FillValue of 9.969209968386869e+36 used,\n",
       " 'T6XC': <class 'netCDF4._netCDF4.Variable'>\n",
       " float32 T6XC(obs)\n",
       "     long_name: Maximum 6 hour temperature\n",
       "     units: degC\n",
       "     missing_value: -9999.0\n",
       "     coordinates: time latitude longitude stationAltitude\n",
       " unlimited dimensions: obs\n",
       " current shape = (1,)\n",
       " filling on, default _FillValue of 9.969209968386869e+36 used,\n",
       " 'T6NC': <class 'netCDF4._netCDF4.Variable'>\n",
       " float32 T6NC(obs)\n",
       "     long_name: Minimum 6 hour temperature\n",
       "     units: degC\n",
       "     missing_value: -9999.0\n",
       "     coordinates: time latitude longitude stationAltitude\n",
       " unlimited dimensions: obs\n",
       " current shape = (1,)\n",
       " filling on, default _FillValue of 9.969209968386869e+36 used,\n",
       " 'CEIL': <class 'netCDF4._netCDF4.Variable'>\n",
       " float32 CEIL(obs)\n",
       "     long_name: Ceiling\n",
       "     units: 100.ft\n",
       "     missing_value: -9999.0\n",
       "     coordinates: time latitude longitude stationAltitude\n",
       " unlimited dimensions: obs\n",
       " current shape = (1,)\n",
       " filling on, default _FillValue of 9.969209968386869e+36 used,\n",
       " 'P01I': <class 'netCDF4._netCDF4.Variable'>\n",
       " float32 P01I(obs)\n",
       "     long_name: Total precipitation 01 hour\n",
       "     units: in\n",
       "     missing_value: -9999.0\n",
       "     coordinates: time latitude longitude stationAltitude\n",
       " unlimited dimensions: obs\n",
       " current shape = (1,)\n",
       " filling on, default _FillValue of 9.969209968386869e+36 used,\n",
       " 'SNEW': <class 'netCDF4._netCDF4.Variable'>\n",
       " float32 SNEW(obs)\n",
       "     long_name: Amount of new snow\n",
       "     units: inch\n",
       "     missing_value: -9999.0\n",
       "     coordinates: time latitude longitude stationAltitude\n",
       " unlimited dimensions: obs\n",
       " current shape = (1,)\n",
       " filling on, default _FillValue of 9.969209968386869e+36 used,\n",
       " '_isMissing': <class 'netCDF4._netCDF4.Variable'>\n",
       " int8 _isMissing(obs)\n",
       "     description: missing flag - 1 means all params are missing\n",
       "     missing_value: 1\n",
       "     coordinates: time latitude longitude stationAltitude\n",
       " unlimited dimensions: obs\n",
       " current shape = (1,)\n",
       " filling on, default _FillValue of -127 ignored}"
      ]
     },
     "execution_count": 29,
     "metadata": {},
     "output_type": "execute_result"
    }
   ],
   "source": [
    "data.variables"
   ]
  },
  {
   "cell_type": "markdown",
   "metadata": {},
   "source": [
    "We can use `sort_inds` then to get any of the meteorologically-relevant data aligned to those times."
   ]
  },
  {
   "cell_type": "markdown",
   "metadata": {},
   "source": [
    "### Let's retrieve one of the variables ... the one corresponding to temperature. We retrieve it in a similar way to how we've done so from a Pandas dataframe.\n",
    "\n",
    "#### For this case, we see that the variable consists of a one-diminesional array of 32-bit floating poijnt values, where \"obs\" is the number of distinct times ... 1414 for 60 days' worth of data.\n",
    "#### The units of the variable are included as an attribute, whch we can reference as <i>var.units</i>\n",
    "#### Also included are the latitude. longitude and elevation of the station."
   ]
  },
  {
   "cell_type": "code",
   "execution_count": 30,
   "metadata": {
    "tags": []
   },
   "outputs": [
    {
     "name": "stdout",
     "output_type": "stream",
     "text": [
      "<class 'netCDF4._netCDF4.Variable'>\n",
      "float32 TMPC(obs)\n",
      "    long_name: Temperature\n",
      "    units: degC\n",
      "    missing_value: -9999.0\n",
      "    coordinates: time latitude longitude stationAltitude\n",
      "unlimited dimensions: obs\n",
      "current shape = (1,)\n",
      "filling on, default _FillValue of 9.969209968386869e+36 used\n"
     ]
    }
   ],
   "source": [
    "var = data.variables['TMPC']\n",
    "print (var)"
   ]
  },
  {
   "cell_type": "markdown",
   "metadata": {},
   "source": [
    "### Let's look at the temperature array. It is retrieved as a special type of NumPy data array ... a <i>masked array</i>.  We include the [sort_inds] to indicate we want to pull all of the elements, sorted by time, from the array."
   ]
  },
  {
   "cell_type": "code",
   "execution_count": 31,
   "metadata": {
    "tags": []
   },
   "outputs": [
    {
     "name": "stdout",
     "output_type": "stream",
     "text": [
      "[11.1]\n"
     ]
    }
   ],
   "source": [
    "tmpc = data.variables['TMPC'][sort_inds]\n",
    "print(tmpc)\n"
   ]
  },
  {
   "cell_type": "markdown",
   "metadata": {},
   "source": [
    "### While it is not necessary to assign units to the our object if we were just plotting data in Celsius, since that is the units of the data in the netCDF file, if we want to convert it to another unit, we assign the units, and then use the \"to\" method of MetPy's units class to convert it to whatever unit we want. We'll just use the same object name here.\n",
    "\n",
    "#### Since the data is in the form of a masked array, we first have to extract just the \"real data\" portion of it before we can assign units to it. We do this via specifying the <i>.data</i> attribute of the masked array."
   ]
  },
  {
   "cell_type": "code",
   "execution_count": 78,
   "metadata": {
    "tags": []
   },
   "outputs": [
    {
     "name": "stdout",
     "output_type": "stream",
     "text": [
      "[8.0 8.0 7.0 5.0 5.0 5.0 4.0 3.0 4.0 4.0 3.0 3.0 3.0 3.0 4.0 4.0 5.0 8.0 9.0 11.0 12.0 12.0 11.0 10.0 9.0 9.0 8.0 6.0 5.0 4.0 4.0 3.0 2.0 1.0 0.0 0.0 -1.0 1.0 6.0 8.0 10.0 11.0 12.0 14.0 13.0 15.0 16.0 14.0 14.0 13.0 9.0 9.0 7.0 5.0 5.0 4.0 2.0 1.0 -1.0 -1.0 0.0 0.0 2.0 4.0 7.0 7.0 9.0 9.0 10.0 10.0 11.0 10.0 9.0 9.0 7.0 5.0 5.0 4.0 3.0 2.0 3.0 2.0 1.0 2.0 2.0 3.0 5.0 6.0 7.0 7.0 8.0 9.0 10.0 10.0 10.0 10.0 9.0 8.0 7.0 6.0 4.0 3.0 2.0 2.0 1.0 0.0 0.0 -1.0 1.0 2.0 4.0 6.0 7.0 7.0 8.0 9.0 9.0 9.0 9.0 9.0 9.0 8.0 4.0 4.0 1.0 0.0 -1.0 -2.0 -2.0 -2.0 -1.0 0.0 0.0 2.0 4.0 8.0 10.0 12.0 12.0 14.0 14.0 14.0 14.0 14.0 13.0 12.0 11.0 9.0 7.0 7.0 6.0 5.0 5.0 4.0 4.0 4.0 6.0 9.0 10.0 12.0 15.0 15.0 16.0 15.0 13.0 10.0 10.0 10.0] degree_Celsius\n"
     ]
    }
   ],
   "source": [
    "tmpc = tmpc.data * units(var.units)\n",
    "print (tmpc)"
   ]
  },
  {
   "cell_type": "markdown",
   "metadata": {},
   "source": [
    "### Now convert into degrees F."
   ]
  },
  {
   "cell_type": "code",
   "execution_count": 79,
   "metadata": {
    "tags": []
   },
   "outputs": [
    {
     "name": "stdout",
     "output_type": "stream",
     "text": [
      "[46.399986267089844 46.399986267089844 44.5999870300293 40.99998474121094 40.99998474121094 40.99998474121094 39.19998550415039 37.399986267089844 39.19998550415039 39.19998550415039 37.399986267089844 37.399986267089844 37.399986267089844 37.399986267089844 39.19998550415039 39.19998550415039 40.99998474121094 46.399986267089844 48.19998550415039 51.799983978271484 53.5999870300293 53.5999870300293 51.799983978271484 49.99998474121094 48.19998550415039 48.19998550415039 46.399986267089844 42.799983978271484 40.99998474121094 39.19998550415039 39.19998550415039 37.399986267089844 35.5999870300293 33.79998779296875 31.99998664855957 31.99998664855957 30.19998550415039 33.79998779296875 42.799983978271484 46.399986267089844 49.99998474121094 51.799983978271484 53.5999870300293 57.19998550415039 55.399986267089844 58.99998474121094 60.799983978271484 57.19998550415039 57.19998550415039 55.399986267089844 48.19998550415039 48.19998550415039 44.5999870300293 40.99998474121094 40.99998474121094 39.19998550415039 35.5999870300293 33.79998779296875 30.19998550415039 30.19998550415039 31.99998664855957 31.99998664855957 35.5999870300293 39.19998550415039 44.5999870300293 44.5999870300293 48.19998550415039 48.19998550415039 49.99998474121094 49.99998474121094 51.799983978271484 49.99998474121094 48.19998550415039 48.19998550415039 44.5999870300293 40.99998474121094 40.99998474121094 39.19998550415039 37.399986267089844 35.5999870300293 37.399986267089844 35.5999870300293 33.79998779296875 35.5999870300293 35.5999870300293 37.399986267089844 40.99998474121094 42.799983978271484 44.5999870300293 44.5999870300293 46.399986267089844 48.19998550415039 49.99998474121094 49.99998474121094 49.99998474121094 49.99998474121094 48.19998550415039 46.399986267089844 44.5999870300293 42.799983978271484 39.19998550415039 37.399986267089844 35.5999870300293 35.5999870300293 33.79998779296875 31.99998664855957 31.99998664855957 30.19998550415039 33.79998779296875 35.5999870300293 39.19998550415039 42.799983978271484 44.5999870300293 44.5999870300293 46.399986267089844 48.19998550415039 48.19998550415039 48.19998550415039 48.19998550415039 48.19998550415039 48.19998550415039 46.399986267089844 39.19998550415039 39.19998550415039 33.79998779296875 31.99998664855957 30.19998550415039 28.399986267089844 28.399986267089844 28.399986267089844 30.19998550415039 31.99998664855957 31.99998664855957 35.5999870300293 39.19998550415039 46.399986267089844 49.99998474121094 53.5999870300293 53.5999870300293 57.19998550415039 57.19998550415039 57.19998550415039 57.19998550415039 57.19998550415039 55.399986267089844 53.5999870300293 51.799983978271484 48.19998550415039 44.5999870300293 44.5999870300293 42.799983978271484 40.99998474121094 40.99998474121094 39.19998550415039 39.19998550415039 39.19998550415039 42.799983978271484 48.19998550415039 49.99998474121094 53.5999870300293 58.99998474121094 58.99998474121094 60.799983978271484 58.99998474121094 55.399986267089844 49.99998474121094 49.99998474121094 49.99998474121094] degree_Fahrenheit\n"
     ]
    }
   ],
   "source": [
    "tmpf = tmpc.to('degF')\n",
    "print (tmpf)"
   ]
  }
 ],
 "metadata": {
  "kernelspec": {
   "display_name": "Python 3 August 2023 Environment",
   "language": "python",
   "name": "aug23"
  },
  "language_info": {
   "codemirror_mode": {
    "name": "ipython",
    "version": 3
   },
   "file_extension": ".py",
   "mimetype": "text/x-python",
   "name": "python",
   "nbconvert_exporter": "python",
   "pygments_lexer": "ipython3",
   "version": "3.11.4"
  }
 },
 "nbformat": 4,
 "nbformat_minor": 4
}
