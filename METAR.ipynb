{
 "cells": [
  {
   "cell_type": "markdown",
   "metadata": {},
   "source": [
    "# METAR Data Query using Siphon from a THREDDS server"
   ]
  },
  {
   "cell_type": "code",
   "execution_count": 1,
   "metadata": {
    "tags": []
   },
   "outputs": [],
   "source": [
    "import numpy as np\n",
    "\n",
    "import matplotlib.pyplot as plt\n",
    "from matplotlib.dates import DateFormatter, AutoDateLocator,YearLocator, HourLocator,DayLocator,MonthLocator\n",
    "\n",
    "from netCDF4 import num2date\n",
    "\n",
    "from metpy.units import units\n",
    "from siphon.catalog import TDSCatalog\n",
    "from siphon.ncss import NCSS\n",
    "from datetime import datetime, timedelta\n",
    "\n",
    "import pandas as pd\n",
    "import xarray as xr\n",
    "import metpy\n",
    "import metpy.calc as mpcalc\n",
    "from PIL import Image\n",
    "import pytz\n",
    "from pytz import timezone"
   ]
  },
  {
   "cell_type": "code",
   "execution_count": 2,
   "metadata": {
    "tags": []
   },
   "outputs": [],
   "source": [
    "# Load in a collection of functions that process GEMPAK weather conditions and cloud cover data.\n",
    "%run metargem_str.py"
   ]
  },
  {
   "cell_type": "code",
   "execution_count": 3,
   "metadata": {
    "tags": []
   },
   "outputs": [],
   "source": [
    "# Albany version is GEMPAK converted to netCDF.\n",
    "# Two possibilities:  one is the one-year archive, updated once per day; the other is the most-recent week archive, updated in real time.\n",
    "#metar_cat_url = 'http://thredds.atmos.albany.edu:8080/thredds/catalog/metarArchive/ncdecoded/catalog.xml?dataset=metarArchive/ncdecoded/Archived_Metar_Station_Data_fc.cdmr'\n",
    "metar_cat_url = 'http://thredds.atmos.albany.edu:8080/thredds/catalog/metar/ncdecoded/catalog.xml?dataset=metar/ncdecoded/Metar_Station_Data_fc.cdmr'\n",
    "# Parse the xml and return a THREDDS Catalog Object.\n",
    "catalog = TDSCatalog(metar_cat_url)\n",
    "\n",
    "metar_dataset = catalog.datasets['Feature Collection']"
   ]
  },
  {
   "cell_type": "code",
   "execution_count": 4,
   "metadata": {
    "tags": []
   },
   "outputs": [],
   "source": [
    "ncss_url = metar_dataset.access_urls['NetcdfSubset']"
   ]
  },
  {
   "cell_type": "code",
   "execution_count": 5,
   "metadata": {
    "tags": []
   },
   "outputs": [],
   "source": [
    "# We have the URL for our catalog's NetCDF Subset service, now create an object using the ncss client and pull\n",
    "ncss = NCSS(ncss_url)"
   ]
  },
  {
   "cell_type": "code",
   "execution_count": 6,
   "metadata": {
    "tags": []
   },
   "outputs": [],
   "source": [
    "ncss.variables.remove('_isMissing')"
   ]
  },
  {
   "cell_type": "code",
   "execution_count": 7,
   "metadata": {
    "tags": []
   },
   "outputs": [],
   "source": [
    "# get current date and time\n",
    "\n",
    "now = datetime.utcnow()\n",
    "now = datetime(now.year, now.month, now.day, now.hour)\n",
    "\n",
    "# build the query\n",
    "query = ncss.query()"
   ]
  },
  {
   "cell_type": "code",
   "execution_count": 8,
   "metadata": {
    "tags": []
   },
   "outputs": [
    {
     "data": {
      "text/plain": [
       "var=DWPC&var=CHC2&var=WNUM&var=CHC1&var=SKNT&var=ALTI&var=DRCT&var=PMSL&var=CHC3&var=TMPC&var=GUST&time=2024-01-06T19%3A00%3A00&stns=ALB&subset=stns&accept=netcdf"
      ]
     },
     "execution_count": 8,
     "metadata": {},
     "output_type": "execute_result"
    }
   ],
   "source": [
    "# Select a location or list of locatons. \n",
    "#This can be either a single point (THREDDS will attempt to locate the nearest station) or an actual METAR site ID.\n",
    "\n",
    "query.add_query_parameter(stns='ALB',subset='stns')\n",
    "\n",
    "query.time(now)\n",
    "\n",
    "#query.variables('all')\n",
    "query.variables('PMSL', 'TMPC', 'DWPC', 'WNUM',\n",
    "                'DRCT', 'SKNT', 'GUST', 'ALTI', 'CHC1', 'CHC2', 'CHC3')\n",
    "query.accept('netcdf')"
   ]
  },
  {
   "cell_type": "code",
   "execution_count": 9,
   "metadata": {
    "tags": []
   },
   "outputs": [],
   "source": [
    "data = ncss.get_data(query)"
   ]
  },
  {
   "cell_type": "code",
   "execution_count": 10,
   "metadata": {
    "tags": []
   },
   "outputs": [
    {
     "data": {
      "text/plain": [
       "{'latitude': <class 'netCDF4._netCDF4.Variable'>\n",
       " float64 latitude(station)\n",
       "     units: degrees_north\n",
       "     long_name: station latitude\n",
       " unlimited dimensions: \n",
       " current shape = (1,)\n",
       " filling on, default _FillValue of 9.969209968386869e+36 used,\n",
       " 'longitude': <class 'netCDF4._netCDF4.Variable'>\n",
       " float64 longitude(station)\n",
       "     units: degrees_east\n",
       "     long_name: station longitude\n",
       " unlimited dimensions: \n",
       " current shape = (1,)\n",
       " filling on, default _FillValue of 9.969209968386869e+36 used,\n",
       " 'stationAltitude': <class 'netCDF4._netCDF4.Variable'>\n",
       " float64 stationAltitude(station)\n",
       "     long_name: station altitude\n",
       "     standard_name: surface_altitude\n",
       "     positive: up\n",
       " unlimited dimensions: \n",
       " current shape = (1,)\n",
       " filling on, default _FillValue of 9.969209968386869e+36 used,\n",
       " 'station_id': <class 'netCDF4._netCDF4.Variable'>\n",
       " |S1 station_id(station, station_id_strlen)\n",
       "     long_name: station identifier\n",
       "     cf_role: timeseries_id\n",
       " unlimited dimensions: \n",
       " current shape = (1, 3)\n",
       " filling on, default _FillValue of \u0000 used,\n",
       " 'time': <class 'netCDF4._netCDF4.Variable'>\n",
       " float64 time(obs)\n",
       "     units: seconds since 1970-01-01\n",
       "     long_name: time of measurement\n",
       " unlimited dimensions: obs\n",
       " current shape = (1,)\n",
       " filling on, default _FillValue of 9.969209968386869e+36 used,\n",
       " 'stationIndex': <class 'netCDF4._netCDF4.Variable'>\n",
       " int32 stationIndex(obs)\n",
       "     long_name: station index for this observation record\n",
       "     instance_dimension: station\n",
       " unlimited dimensions: obs\n",
       " current shape = (1,)\n",
       " filling on, default _FillValue of -2147483647 used,\n",
       " 'PMSL': <class 'netCDF4._netCDF4.Variable'>\n",
       " float32 PMSL(obs)\n",
       "     long_name: Mean sea level pressure\n",
       "     units: millibar\n",
       "     missing_value: -9999.0\n",
       "     coordinates: time latitude longitude stationAltitude\n",
       " unlimited dimensions: obs\n",
       " current shape = (1,)\n",
       " filling on, default _FillValue of 9.969209968386869e+36 used,\n",
       " 'ALTI': <class 'netCDF4._netCDF4.Variable'>\n",
       " float32 ALTI(obs)\n",
       "     long_name: Altimeter setting\n",
       "     units: inch_Hg\n",
       "     missing_value: -9999.0\n",
       "     coordinates: time latitude longitude stationAltitude\n",
       " unlimited dimensions: obs\n",
       " current shape = (1,)\n",
       " filling on, default _FillValue of 9.969209968386869e+36 used,\n",
       " 'TMPC': <class 'netCDF4._netCDF4.Variable'>\n",
       " float32 TMPC(obs)\n",
       "     long_name: Temperature\n",
       "     units: degC\n",
       "     missing_value: -9999.0\n",
       "     coordinates: time latitude longitude stationAltitude\n",
       " unlimited dimensions: obs\n",
       " current shape = (1,)\n",
       " filling on, default _FillValue of 9.969209968386869e+36 used,\n",
       " 'DWPC': <class 'netCDF4._netCDF4.Variable'>\n",
       " float32 DWPC(obs)\n",
       "     long_name: Dew-point temperature\n",
       "     units: degC\n",
       "     missing_value: -9999.0\n",
       "     coordinates: time latitude longitude stationAltitude\n",
       " unlimited dimensions: obs\n",
       " current shape = (1,)\n",
       " filling on, default _FillValue of 9.969209968386869e+36 used,\n",
       " 'SKNT': <class 'netCDF4._netCDF4.Variable'>\n",
       " float32 SKNT(obs)\n",
       "     long_name: Wind speed\n",
       "     units: knot\n",
       "     missing_value: -9999.0\n",
       "     coordinates: time latitude longitude stationAltitude\n",
       " unlimited dimensions: obs\n",
       " current shape = (1,)\n",
       " filling on, default _FillValue of 9.969209968386869e+36 used,\n",
       " 'DRCT': <class 'netCDF4._netCDF4.Variable'>\n",
       " float32 DRCT(obs)\n",
       "     long_name: Wind direction\n",
       "     units: degree\n",
       "     missing_value: -9999.0\n",
       "     coordinates: time latitude longitude stationAltitude\n",
       " unlimited dimensions: obs\n",
       " current shape = (1,)\n",
       " filling on, default _FillValue of 9.969209968386869e+36 used,\n",
       " 'GUST': <class 'netCDF4._netCDF4.Variable'>\n",
       " float32 GUST(obs)\n",
       "     long_name: Wind gusts\n",
       "     units: knot\n",
       "     missing_value: -9999.0\n",
       "     coordinates: time latitude longitude stationAltitude\n",
       " unlimited dimensions: obs\n",
       " current shape = (1,)\n",
       " filling on, default _FillValue of 9.969209968386869e+36 used,\n",
       " 'WNUM': <class 'netCDF4._netCDF4.Variable'>\n",
       " float32 WNUM(obs)\n",
       "     long_name: Numeric weather code\n",
       "     missing_value: -9999.0\n",
       "     coordinates: time latitude longitude stationAltitude\n",
       " unlimited dimensions: obs\n",
       " current shape = (1,)\n",
       " filling on, default _FillValue of 9.969209968386869e+36 used,\n",
       " 'CHC1': <class 'netCDF4._netCDF4.Variable'>\n",
       " float32 CHC1(obs)\n",
       "     long_name: Cloud height and coverage level 1\n",
       "     missing_value: -9999.0\n",
       "     coordinates: time latitude longitude stationAltitude\n",
       " unlimited dimensions: obs\n",
       " current shape = (1,)\n",
       " filling on, default _FillValue of 9.969209968386869e+36 used,\n",
       " 'CHC2': <class 'netCDF4._netCDF4.Variable'>\n",
       " float32 CHC2(obs)\n",
       "     long_name: Cloud height and coverage level 2\n",
       "     missing_value: -9999.0\n",
       "     coordinates: time latitude longitude stationAltitude\n",
       " unlimited dimensions: obs\n",
       " current shape = (1,)\n",
       " filling on, default _FillValue of 9.969209968386869e+36 used,\n",
       " 'CHC3': <class 'netCDF4._netCDF4.Variable'>\n",
       " float32 CHC3(obs)\n",
       "     long_name: Cloud height and coverage level 3\n",
       "     missing_value: -9999.0\n",
       "     coordinates: time latitude longitude stationAltitude\n",
       " unlimited dimensions: obs\n",
       " current shape = (1,)\n",
       " filling on, default _FillValue of 9.969209968386869e+36 used}"
      ]
     },
     "execution_count": 10,
     "metadata": {},
     "output_type": "execute_result"
    }
   ],
   "source": [
    "data.variables"
   ]
  },
  {
   "cell_type": "code",
   "execution_count": 11,
   "metadata": {
    "tags": []
   },
   "outputs": [
    {
     "name": "stdout",
     "output_type": "stream",
     "text": [
      "ALB\n"
     ]
    }
   ],
   "source": [
    "station_id = data['station_id'][0].tobytes() #get station id\n",
    "station_id = station_id.decode('ascii')\n",
    "print(station_id)"
   ]
  },
  {
   "cell_type": "code",
   "execution_count": 12,
   "metadata": {
    "tags": []
   },
   "outputs": [
    {
     "data": {
      "text/plain": [
       "real_datetime(2024, 1, 6, 18, 40)"
      ]
     },
     "execution_count": 12,
     "metadata": {},
     "output_type": "execute_result"
    }
   ],
   "source": [
    "time_var = data.variables['time'] #get the date & time of metar\n",
    "#print (time_var)\n",
    "time = num2date(time_var, time_var.units, only_use_cftime_datetimes=False, only_use_python_datetimes=True)\n",
    "time[0]"
   ]
  },
  {
   "cell_type": "code",
   "execution_count": 13,
   "metadata": {
    "tags": []
   },
   "outputs": [
    {
     "name": "stdout",
     "output_type": "stream",
     "text": [
      "2024-01-06 18:40:00\n"
     ]
    }
   ],
   "source": [
    "print(time[0])"
   ]
  },
  {
   "cell_type": "code",
   "execution_count": 14,
   "metadata": {
    "tags": []
   },
   "outputs": [],
   "source": [
    "tmpc = data.variables['TMPC'][0] #defien variables (using the first value)\n",
    "dwpc = data.variables['DWPC'][0]\n",
    "slp = data.variables['PMSL'][0]\n",
    "wX = data.variables['WNUM'][0]\n",
    "wdsp = data.variables['SKNT'][0]\n",
    "wdir = data.variables['DRCT'][0]\n",
    "gust = data.variables['GUST'][0]\n",
    "pres = data.variables['ALTI'][0]"
   ]
  },
  {
   "cell_type": "code",
   "execution_count": 15,
   "metadata": {
    "tags": []
   },
   "outputs": [],
   "source": [
    "tmpc = tmpc.data * units('degC') #attch units where necessary\n",
    "tmpf = tmpc.to('degF')\n",
    "tmpC = round(tmpc, 0)\n",
    "tmpF = round(tmpf, 0)\n",
    "\n",
    "dwpc = dwpc.data * units('degC')\n",
    "dwpf = dwpc.to('degF')\n",
    "dwpC = round(dwpc, 0)\n",
    "dwpF = round(dwpf, 0)"
   ]
  },
  {
   "cell_type": "code",
   "execution_count": 16,
   "metadata": {
    "tags": []
   },
   "outputs": [],
   "source": [
    "RH = mpcalc.relative_humidity_from_dewpoint(tmpc, dwpc).to('percent') #calculate RH\n",
    "RH = round(RH, 0)"
   ]
  },
  {
   "cell_type": "code",
   "execution_count": 17,
   "metadata": {
    "tags": []
   },
   "outputs": [
    {
     "data": {
      "text/html": [
       "4.0 knot"
      ],
      "text/latex": [
       "$4.0\\ \\mathrm{knot}$"
      ],
      "text/plain": [
       "4.0 <Unit('knot')>"
      ]
     },
     "execution_count": 17,
     "metadata": {},
     "output_type": "execute_result"
    }
   ],
   "source": [
    "wdsp = wdsp.data * units('kts')\n",
    "wdir_d = wdir.data * units('degrees')\n",
    "wdsp"
   ]
  },
  {
   "cell_type": "code",
   "execution_count": 18,
   "metadata": {
    "tags": []
   },
   "outputs": [],
   "source": [
    "u, v = mpcalc.wind_components(wdsp, wdir_d)"
   ]
  },
  {
   "cell_type": "code",
   "execution_count": 19,
   "metadata": {
    "tags": []
   },
   "outputs": [],
   "source": [
    "gust = gust.data * units('kts')"
   ]
  },
  {
   "cell_type": "code",
   "execution_count": 20,
   "metadata": {},
   "outputs": [],
   "source": [
    "wnum = (np.nan_to_num(data['WNUM'],True).astype(int))\n",
    "wx = convert_wnum_str(wnum)\n",
    "\n",
    "# Need to handle missing (NaN) and convert to proper code\n",
    "chc1 = (np.nan_to_num(data['CHC1'],True).astype(int))\n",
    "chc2 = (np.nan_to_num(data['CHC2'],True).astype(int))\n",
    "chc3 = (np.nan_to_num(data['CHC3'],True).astype(int))\n",
    "cloud_cover = calc_clouds(chc1, chc2, chc3)"
   ]
  },
  {
   "cell_type": "code",
   "execution_count": 21,
   "metadata": {
    "tags": []
   },
   "outputs": [],
   "source": [
    "cloud_cover = cloud_cover[0]"
   ]
  },
  {
   "cell_type": "code",
   "execution_count": 22,
   "metadata": {
    "tags": []
   },
   "outputs": [],
   "source": [
    "if cloud_cover == 0: #turn cloud cover number into a string\n",
    "    cc = 'Clear'\n",
    "elif cloud_cover == 1:\n",
    "    cc = 'Mostly Clear'\n",
    "elif cloud_cover == 3:\n",
    "    cc = 'Partly Cloudy'\n",
    "elif cloud_cover == 6:\n",
    "    cc = 'Mostly Cloudy'\n",
    "elif cloud_cover == 8:\n",
    "    cc = 'Overcast'\n",
    "elif cloud_cover == 9:\n",
    "    cc =  'Cloud Cover Obstructed'\n",
    "elif cloud_cover == -1:\n",
    "    cc = 'Cloud Cover Missing'"
   ]
  },
  {
   "cell_type": "code",
   "execution_count": 23,
   "metadata": {
    "tags": []
   },
   "outputs": [
    {
     "data": {
      "image/png": "[encoded data removed]",
      "text/plain": [
       "<Figure size 220x220 with 1 Axes>"
      ]
     },
     "metadata": {},
     "output_type": "display_data"
    }
   ],
   "source": [
    "fig1, axs1 = plt.subplots(figsize=[2.2,2.2]) #plot wind barb\n",
    "axs1.barbs(u, v, length=12, pivot='middle')\n",
    "plt.xticks([], [])\n",
    "plt.yticks([], [])\n",
    "plt.savefig('images/wind_barb.png')"
   ]
  },
  {
   "cell_type": "code",
   "execution_count": 24,
   "metadata": {
    "tags": []
   },
   "outputs": [],
   "source": [
    "im = Image.open('images/wind_barb.png') #open the saved plot"
   ]
  },
  {
   "cell_type": "code",
   "execution_count": 25,
   "metadata": {
    "tags": []
   },
   "outputs": [],
   "source": [
    "im = im.crop((30, 30, 195, 195)) #crop out border"
   ]
  },
  {
   "cell_type": "code",
   "execution_count": 26,
   "metadata": {},
   "outputs": [],
   "source": [
    "rgba = im.convert(\"RGBA\") #make background transparent\n",
    "datas = rgba.getdata() \n",
    "  \n",
    "newData = [] \n",
    "for item in datas: \n",
    "    if item[0] == 255 and item[1] == 255 and item[2] == 255:  # finding black colour by its RGB value \n",
    "        # storing a transparent value when we find a black colour \n",
    "        newData.append((255, 255, 255, 0)) \n",
    "    else: \n",
    "        newData.append(item)  # other colours remain unchanged \n",
    "  \n",
    "rgba.putdata(newData) \n",
    "rgba.save(\"images/transparent_barb.png\", \"PNG\")"
   ]
  },
  {
   "cell_type": "code",
   "execution_count": 27,
   "metadata": {},
   "outputs": [],
   "source": [
    "def wdir_to_wdir_str(wind_dir): #get wdir str from wdr\n",
    "    if 22.5 < wind_dir < 67.5:\n",
    "        wind_dir_str = 'NE'\n",
    "    elif 67.5 < wind_dir < 112.5:\n",
    "        wind_dir_str = 'E'\n",
    "    elif 112.5 < wind_dir < 157.5:\n",
    "        wind_dir_str = 'SE'\n",
    "    elif 157.5 < wind_dir < 202.5:\n",
    "        wind_dir_str = 'S'\n",
    "    elif 202.5 < wind_dir < 247.5:\n",
    "        wind_dir_str = 'SW'\n",
    "    elif 247.5 < wind_dir < 292.5:\n",
    "        wind_dir_str = 'W'\n",
    "    elif 292.5 < wind_dir < 337.5:\n",
    "        wind_dir_str = 'NW'\n",
    "    elif wind_dir > 337.5 or wind_dir < 22.5:\n",
    "        wind_dir_str = 'N'\n",
    "        \n",
    "    return wind_dir_str"
   ]
  },
  {
   "cell_type": "code",
   "execution_count": 28,
   "metadata": {
    "tags": []
   },
   "outputs": [],
   "source": [
    "wdir_str = wdir_to_wdir_str(wdir)"
   ]
  },
  {
   "cell_type": "code",
   "execution_count": 29,
   "metadata": {
    "tags": []
   },
   "outputs": [],
   "source": [
    "slp = slp.__float__()"
   ]
  },
  {
   "cell_type": "code",
   "execution_count": 30,
   "metadata": {},
   "outputs": [],
   "source": [
    "slp = slp * units('hPa')\n",
    "slpHG = slp.to('inHg')"
   ]
  },
  {
   "cell_type": "code",
   "execution_count": 31,
   "metadata": {
    "tags": []
   },
   "outputs": [],
   "source": [
    "slp = round(slp, 1)\n",
    "slpHG = round(slpHG, 2)"
   ]
  },
  {
   "cell_type": "code",
   "execution_count": 32,
   "metadata": {
    "tags": []
   },
   "outputs": [
    {
     "name": "stdout",
     "output_type": "stream",
     "text": [
      "----------------\n",
      "Conditions in Albany as of 2024-01-06 18:40:00 UTC\n",
      "Mostly Cloudy\n",
      "Temperature: 33.0 degree_Fahrenheit (1.0 degree_Celsius)\n",
      "Dewpoint: 21.0 degree_Fahrenheit (-6.0 degree_Celsius)\n",
      "Relative Humidity: 61.0 percent\n",
      "Wind: SE at 4.0 knot\n",
      "Sea-level Pressure: 1018.6 hectopascal hPa\n",
      "Station Pressure nan inHG\n",
      "----------------\n"
     ]
    }
   ],
   "source": [
    "print('----------------')\n",
    "print(f'Conditions in Albany as of {time[0]} UTC')\n",
    "if wx == 'no_wx':\n",
    "    print(cc)\n",
    "else:\n",
    "    print(wx)\n",
    "print(f'Temperature: {tmpF} ({tmpC})')\n",
    "print(f'Dewpoint: {dwpF} ({dwpC})')\n",
    "print(f'Relative Humidity: {RH}')\n",
    "if np.isnan(gust) == True:\n",
    "    if wdsp == 0:\n",
    "        print('Calm')\n",
    "    else:\n",
    "        print(f'Wind: {wdir_str} at {wdsp}')\n",
    "else:\n",
    "    print(f'Wind: {wdir_str} at {wdsp}, gusts to {gust}')\n",
    "print(f'Sea-level Pressure: {slp} hPa')\n",
    "print(f'Station Pressure {pres} inHG')\n",
    "print('----------------')"
   ]
  },
  {
   "cell_type": "code",
   "execution_count": 33,
   "metadata": {
    "tags": []
   },
   "outputs": [],
   "source": [
    "tmpF = tmpF.magnitude\n",
    "tmpC = tmpC.magnitude\n",
    "dwpF = dwpF.magnitude\n",
    "dwpC = dwpC.magnitude\n",
    "RH = RH.magnitude\n",
    "slp = slp.magnitude\n",
    "slpHG = slpHG.magnitude\n",
    "wdsp = wdsp.magnitude\n",
    "gust = gust.magnitude"
   ]
  },
  {
   "cell_type": "code",
   "execution_count": 34,
   "metadata": {},
   "outputs": [],
   "source": [
    "tmpF = int(tmpF)\n",
    "tmpC = int(tmpC)\n",
    "dwpF = int(dwpF)\n",
    "dwpC = int(dwpC)\n",
    "RH = int(RH)\n",
    "windsp = int(wdsp)\n",
    "if np.isnan(gust) == True:\n",
    "    pass\n",
    "else:\n",
    "    gust = int(gust)"
   ]
  },
  {
   "cell_type": "code",
   "execution_count": 35,
   "metadata": {},
   "outputs": [],
   "source": [
    "f = open('metar.txt', 'w')\n",
    "if wx == 'no_wx':\n",
    "    f.write(f'{cc}\\n')\n",
    "else:\n",
    "    f.write(f'{wx}\\n')\n",
    "f.close()\n",
    "\n",
    "f = open('metar.txt', 'a')\n",
    "f.write(f'{tmpF}°F\\n')\n",
    "f.write(f'{tmpC}°C\\n')\n",
    "f.write(f'{dwpF}°F\\n')\n",
    "f.write(f'{dwpC}°C\\n')\n",
    "if np.isnan(gust) == True:\n",
    "    if wdsp == 0:\n",
    "        f.write('Calm\\n')\n",
    "    else:\n",
    "        f.write(f'{wdir_str} at {windsp}kt\\n')\n",
    "else:\n",
    "    print(f'{wdir_str} at {windsp}kt, G{gust}kt\\n')\n",
    "f.write(f'{RH}%\\n')\n",
    "f.write(f'{slp}mb\\n')\n",
    "f.write(f'{slpHG}\"\\n')\n",
    "f.close()"
   ]
  },
  {
   "cell_type": "code",
   "execution_count": 36,
   "metadata": {
    "tags": []
   },
   "outputs": [
    {
     "data": {
      "text/plain": [
       "'Mostly Cloudy'"
      ]
     },
     "execution_count": 36,
     "metadata": {},
     "output_type": "execute_result"
    }
   ],
   "source": [
    "cc"
   ]
  },
  {
   "cell_type": "code",
   "execution_count": 37,
   "metadata": {
    "tags": []
   },
   "outputs": [
    {
     "data": {
      "text/plain": [
       "'NWS_images/cloud_cover/broken/bkn.png'"
      ]
     },
     "execution_count": 37,
     "metadata": {},
     "output_type": "execute_result"
    }
   ],
   "source": [
    "imgWx = get_wx_img(wx, cloud_cover, wdsp)\n",
    "imgWx"
   ]
  },
  {
   "cell_type": "code",
   "execution_count": 38,
   "metadata": {
    "tags": []
   },
   "outputs": [
    {
     "data": {
      "image/png": "[encoded data removed]",
      "text/plain": [
       "<PIL.PngImagePlugin.PngImageFile image mode=RGB size=134x134>"
      ]
     },
     "execution_count": 38,
     "metadata": {},
     "output_type": "execute_result"
    }
   ],
   "source": [
    "current_wx = Image.open(imgWx)\n",
    "current_wx"
   ]
  },
  {
   "cell_type": "code",
   "execution_count": 39,
   "metadata": {
    "tags": []
   },
   "outputs": [],
   "source": [
    "if current_wx.size[0] != 86:\n",
    "    current_wx = current_wx.resize((86, 86))\n",
    "else:\n",
    "    pass"
   ]
  },
  {
   "cell_type": "code",
   "execution_count": 40,
   "metadata": {
    "tags": []
   },
   "outputs": [],
   "source": [
    "current_wx.save('images/current_wx.png')"
   ]
  },
  {
   "cell_type": "code",
   "execution_count": null,
   "metadata": {},
   "outputs": [],
   "source": []
  }
 ],
 "metadata": {
  "kernelspec": {
   "display_name": "Python 3 August 2023 Environment",
   "language": "python",
   "name": "aug23"
  },
  "language_info": {
   "codemirror_mode": {
    "name": "ipython",
    "version": 3
   },
   "file_extension": ".py",
   "mimetype": "text/x-python",
   "name": "python",
   "nbconvert_exporter": "python",
   "pygments_lexer": "ipython3",
   "version": "3.11.4"
  }
 },
 "nbformat": 4,
 "nbformat_minor": 4
}
